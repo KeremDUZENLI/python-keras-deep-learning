{
 "cells": [
  {
   "cell_type": "markdown",
   "id": "fa16992f-f944-4b04-a283-cb542996fffd",
   "metadata": {
    "jp-MarkdownHeadingCollapsed": true,
    "tags": []
   },
   "source": [
    "# ***INSTALL DEPENDENCIES*** #"
   ]
  },
  {
   "cell_type": "code",
   "execution_count": 4,
   "id": "417ba6ad-a3e6-4aeb-bd26-e5421dd4728c",
   "metadata": {},
   "outputs": [
    {
     "data": {
      "text/markdown": [
       "# Deep Learning Examples with Keras\n",
       "\n",
       "A collection of deep learning examples using Keras, covering neural networks, recommender systems, convolutions, and object detection. Based on the course **Advanced Machine Learning**, University of Debrecen.\n",
       "\n",
       "## GitHub Repository (Standalone Version)\n",
       "\n",
       "You can access the non-Colab version of the project directly on GitHub:\n",
       "\n",
       "[github.com/KeremDUZENLI/python-keras-deep-learning](https://github.com/KeremDUZENLI/python-keras-deep-learning)\n",
       "\n",
       "## Install\n",
       "\n",
       "1. Download Python 3.6.8: [Python 3.6.8 Download](https://www.python.org/downloads/release/python-368/)\n",
       "2. Check Python versions installed: `py -0`\n",
       "3. Check the default version: `python --version`\n",
       "4. Select Python 3.6.8: [Video Guide](https://www.youtube.com/watch?v=C5mn0WWKmGY&t=10s)\n",
       "\n",
       "## Setup\n",
       "\n",
       "1. Clone the repository:\n",
       "   ```sh\n",
       "   git clone https://github.com/KeremDUZENLI/python-keras-deep-learning.git\n",
       "   ```\n",
       "2. Create a virtual environment:\n",
       "   ```sh\n",
       "   python -m venv myEnv\n",
       "   ```\n",
       "3. Activate the virtual environment:\n",
       "   - **Windows**: `myEnv\\Scripts\\activate`\n",
       "   - **Linux/macOS**: `source myEnv/bin/activate`\n",
       "4. Update pip:\n",
       "   ```sh\n",
       "   python -m pip install --upgrade pip\n",
       "   ```\n",
       "5. Update setuptools:\n",
       "   ```sh\n",
       "   pip install --upgrade setuptools\n",
       "   ```\n",
       "6. Install dependencies:\n",
       "   ```sh\n",
       "   pip install -r requirements.txt\n",
       "   ```\n",
       "7. Freeze dependencies (optional):\n",
       "   ```sh\n",
       "   python -m pip freeze > requirements.txt\n",
       "   ```\n",
       "\n",
       "## Notebooks\n",
       "\n",
       "1. Install Jupyter:\n",
       "   ```sh\n",
       "   pip install jupyterlab\n",
       "   ```\n",
       "2. Launch Jupyter:\n",
       "   ```sh\n",
       "   jupyter lab\n",
       "   ```\n",
       "\n",
       "### Notebook Descriptions\n",
       "\n",
       "- [1. Neural Networks](notebooks/1_neural_networks.ipynb) – Basics of neural networks with Keras.\n",
       "- [2. Backpropagation](notebooks/2_backpropagation.ipynb) – Understanding the backpropagation algorithm and its implementation in Keras.\n",
       "- [3. Neural Recommender](notebooks/3_neural_recommender.ipynb) – Building a simple recommender system using neural networks.\n",
       "- [4. Convolutional Networks](notebooks/4_convolutional_network.ipynb) – Introduction to convolutional neural networks (CNNs) for image classification.\n",
       "- [5. Fully Convolutional Networks](notebooks/5_full_convolutional_network.ipynb) – Implementing a full convolutional network for image segmentation tasks.\n",
       "- [6. CNN Classification](notebooks/6_convolutional_network_classification.ipynb) – Classifying images using a convolutional neural network.\n",
       "- [7. Text Classification & Seq2Seq Translation](notebooks/7_text_classification_seq2seq_translation.ipynb) – Text classification using RNNs and sequence-to-sequence models for language translation.\n",
       "- [8. Variational Autoencoders](notebooks/8_variational_autoencoders.ipynb) – Implementing variational autoencoders for generative modeling.\n",
       "\n",
       "## Acknowledgments\n",
       "\n",
       "This project is based on the **Advanced Machine Learning** course at the **University of Debrecen**\n",
       "\n",
       "- **Prof. Dr. András Hajdu** – Dean, Head of Department\n",
       "\n",
       "  - _Department of Data Science and Visualization, Faculty of Informatics, University of Debrecen_\n",
       "  - Email: [hajdu.andras@inf.unideb.hu](mailto:hajdu.andras@inf.unideb.hu)\n",
       "\n",
       "- **Dr. Balázs Harangi** – Associate Professor, Deputy Head of Department\n",
       "\n",
       "  - _Department of Data Science and Visualization, Faculty of Informatics, University of Debrecen_\n",
       "  - Email: [harangi.balazs@inf.unideb.hu](mailto:harangi.balazs@inf.unideb.hu)\n",
       "\n",
       "- **Kerem Düzenli** – PhD Candidate, University of Debrecen\n",
       "\n",
       "  - _Creator and maintainer of this repository_\n",
       "  - Email: [kerem.duzenli@inf.unideb.hu](mailto:kerem.duzenli@inf.unideb.hu)\n",
       "\n",
       "## Contributing\n",
       "\n",
       "1. Fork the repository.\n",
       "2. Create a new branch:\n",
       "   ```sh\n",
       "   git checkout -b YourBranch\n",
       "   ```\n",
       "3. Make your changes and commit them:\n",
       "   ```sh\n",
       "   git commit -m \"Add some feature\"\n",
       "   ```\n",
       "4. Push to the branch:\n",
       "   ```sh\n",
       "   git push origin YourBranch\n",
       "   ```\n",
       "5. Open a pull request.\n",
       "\n",
       "## License\n",
       "\n",
       "This project is licensed under the **Creative Commons Attribution-NonCommercial 4.0 International (CC BY-NC 4.0)** license. This means you are free to:\n",
       "\n",
       "- **Share** – Copy and redistribute the material in any medium or format.\n",
       "- **Adapt** – Remix, transform, and build upon the material.\n",
       "\n",
       "However, **you may not use the material for commercial purposes**.\n",
       "\n",
       "For details, see the [LICENSE](LICENSE) file or read more at [Creative Commons](https://creativecommons.org/licenses/by-nc/4.0/).\n",
       "\n",
       "## Disclaimer\n",
       "\n",
       "This repository is intended **only for educational and research purposes**. The authors and contributors assume no responsibility for misuse of the code or any implications arising from its use.\n",
       "\n",
       "## Support My Work\n",
       "\n",
       "If you find this resource valuable and would like to help support my education and doctoral research, please consider treating me to a cup of coffee (or tea) via Revolut.\n",
       "\n",
       "<div align=\"center\">\n",
       "  <a href=\"https://revolut.me/krmdznl\" target=\"_blank\">\n",
       "    <img src=\"https://img.shields.io/badge/Support%20My%20Projects-Donate%20via%20Revolut-orange?style=for-the-badge\" alt=\"Support my education via Revolut\" />\n",
       "  </a>\n",
       "</div> <br>\n"
      ],
      "text/plain": [
       "<IPython.core.display.Markdown object>"
      ]
     },
     "metadata": {},
     "output_type": "display_data"
    }
   ],
   "source": [
    "from IPython.display import Markdown, display\n",
    "\n",
    "\n",
    "with open('../README.md', 'r', encoding='utf-8') as f:\n",
    "    display(Markdown(f.read()))"
   ]
  },
  {
   "cell_type": "markdown",
   "id": "e89b1ef4-f8e0-4658-ba81-600abffa6695",
   "metadata": {
    "jp-MarkdownHeadingCollapsed": true,
    "tags": []
   },
   "source": [
    "# Step 1: Loading and Exploring the Dataset"
   ]
  },
  {
   "cell_type": "code",
   "execution_count": 1,
   "id": "8e40f1db-bd2f-41ea-aced-f7287ac4b927",
   "metadata": {},
   "outputs": [
    {
     "name": "stdout",
     "output_type": "stream",
     "text": [
      "Dataset shape: (1797, 64)\n"
     ]
    },
    {
     "data": {
      "image/png": "[encoded data removed]",
      "text/plain": [
       "<Figure size 216x216 with 1 Axes>"
      ]
     },
     "metadata": {
      "needs_background": "light"
     },
     "output_type": "display_data"
    }
   ],
   "source": [
    "import numpy as np\n",
    "import matplotlib.pyplot as plt\n",
    "from sklearn.datasets import load_digits\n",
    "\n",
    "\n",
    "# Load the digits dataset\n",
    "digits = load_digits()\n",
    "\n",
    "# Print the shape of the data to understand its size\n",
    "print(\"Dataset shape:\", digits.data.shape)\n",
    "\n",
    "# Display one sample image\n",
    "sample_index = 45\n",
    "plt.figure(figsize=(3, 3))\n",
    "plt.imshow(digits.images[sample_index], cmap=plt.cm.gray_r, interpolation='nearest')\n",
    "plt.title(f\"Image label: {digits.target[sample_index]}\")\n",
    "plt.show()"
   ]
  },
  {
   "cell_type": "markdown",
   "id": "a1fc6e8e-854e-46ee-9d32-6a795fb064ca",
   "metadata": {
    "jp-MarkdownHeadingCollapsed": true,
    "tags": []
   },
   "source": [
    "# Step 2: Preprocessing the Data"
   ]
  },
  {
   "cell_type": "code",
   "execution_count": 2,
   "id": "c5d76ce8-15ab-461d-853e-4913d24ef0e4",
   "metadata": {},
   "outputs": [
    {
     "name": "stdout",
     "output_type": "stream",
     "text": [
      "Training set shape: (1527, 64)\n",
      "Test set shape: (270, 64)\n"
     ]
    },
    {
     "data": {
      "image/png": "[encoded data removed]",
      "text/plain": [
       "<Figure size 216x216 with 1 Axes>"
      ]
     },
     "metadata": {
      "needs_background": "light"
     },
     "output_type": "display_data"
    },
    {
     "data": {
      "image/png": "[encoded data removed]",
      "text/plain": [
       "<Figure size 216x216 with 1 Axes>"
      ]
     },
     "metadata": {
      "needs_background": "light"
     },
     "output_type": "display_data"
    }
   ],
   "source": [
    "from sklearn import preprocessing\n",
    "from sklearn.model_selection import train_test_split\n",
    "\n",
    "\n",
    "## Convert data to the right format\n",
    "data = np.asarray(digits.data, dtype='float32')\n",
    "target = np.asarray(digits.target, dtype='int32')\n",
    "\n",
    "# Split into training and test sets\n",
    "X_train, X_test, y_train, y_test = train_test_split(data, target, test_size=0.15, random_state=37)\n",
    "\n",
    "# Normalize the data\n",
    "scaler = preprocessing.StandardScaler()\n",
    "X_train = scaler.fit_transform(X_train)\n",
    "X_test = scaler.transform(X_test)\n",
    "\n",
    "# Print the shapes of the new sets\n",
    "print(\"Training set shape:\", X_train.shape)\n",
    "print(\"Test set shape:\", X_test.shape)\n",
    "\n",
    "\n",
    "## Visualizing Normalization\n",
    "sample_index = 45\n",
    "\n",
    "# Show the original sample\n",
    "plt.figure(figsize=(3, 3))\n",
    "plt.imshow(scaler.inverse_transform(X_train[sample_index]).reshape(8, 8), cmap=plt.cm.gray_r, interpolation='nearest')\n",
    "plt.title(\"Original sample\")\n",
    "plt.show()\n",
    "\n",
    "# Show a transformed sample\n",
    "plt.figure(figsize=(3, 3))\n",
    "plt.imshow(X_train[sample_index].reshape(8, 8), cmap=plt.cm.gray_r, interpolation='nearest')\n",
    "plt.title(\"Transformed sample \\n(after standardization)\")\n",
    "plt.show()"
   ]
  },
  {
   "cell_type": "markdown",
   "id": "69b41e2f-08de-4d24-a9f8-cdaa8bc65e1f",
   "metadata": {
    "jp-MarkdownHeadingCollapsed": true,
    "tags": []
   },
   "source": [
    "# Step 3: Preparing Labels for Classification"
   ]
  },
  {
   "cell_type": "code",
   "execution_count": 12,
   "id": "24fa79e8-6d5b-4925-849f-13585baaddae",
   "metadata": {},
   "outputs": [
    {
     "name": "stdout",
     "output_type": "stream",
     "text": [
      "Original labels:\n",
      " [2 9 5]\n",
      "\n",
      "One-hot encoded labels:\n",
      " [[0. 0. 1. 0. 0. 0. 0. 0. 0. 0.]\n",
      " [0. 0. 0. 0. 0. 0. 0. 0. 0. 1.]\n",
      " [0. 0. 0. 0. 0. 1. 0. 0. 0. 0.]]\n"
     ]
    }
   ],
   "source": [
    "import tensorflow as tf\n",
    "from keras.utils.np_utils import to_categorical\n",
    "\n",
    "\n",
    "# Look at original labels\n",
    "print(\"Original labels:\\n\", y_train[:3])\n",
    "\n",
    "# Convert to one-hot encoding\n",
    "Y_train = to_categorical(y_train)\n",
    "print(\"\\nOne-hot encoded labels:\\n\", Y_train[:3])"
   ]
  },
  {
   "cell_type": "markdown",
   "id": "92684898-329c-4464-a681-88afea6f071b",
   "metadata": {
    "jp-MarkdownHeadingCollapsed": true,
    "tags": []
   },
   "source": [
    "# Step 4: Building and Training the Neural Network"
   ]
  },
  {
   "cell_type": "code",
   "execution_count": 13,
   "id": "38580409-2784-4b29-8992-e08d4f052965",
   "metadata": {},
   "outputs": [
    {
     "name": "stdout",
     "output_type": "stream",
     "text": [
      "Neural Network is built\n"
     ]
    }
   ],
   "source": [
    "from keras.models import Sequential\n",
    "from keras.layers.core import Dense, Activation\n",
    "from keras import optimizers\n",
    "\n",
    "\n",
    "## Define the model\n",
    "N = X_train.shape[1]  # 64 (input features)\n",
    "H = 100               # 100 neurons in hidden layer\n",
    "K = 10                # 10 classes (output)\n",
    "\n",
    "model = Sequential()\n",
    "model.add(Dense(H, input_dim=N))    # Hidden layer\n",
    "model.add(Activation(\"tanh\"))       # Activation function\n",
    "model.add(Dense(K))                 # Output layer\n",
    "model.add(Activation(\"softmax\"))    # Output activation\n",
    "\n",
    "print(\"Neural Network is built\")"
   ]
  },
  {
   "cell_type": "markdown",
   "id": "adcc96c5-51fa-4b63-8279-7f8b2860cfe1",
   "metadata": {},
   "source": [
    "## Step 4.1: Train the Model"
   ]
  },
  {
   "cell_type": "code",
   "execution_count": 14,
   "id": "32f70117-f278-4974-afe3-c26d552582e2",
   "metadata": {},
   "outputs": [
    {
     "name": "stdout",
     "output_type": "stream",
     "text": [
      "\n",
      "Weights:\n",
      " [[-0.1433155  -0.15063956  0.15194307 ... -0.01502232 -0.02344881\n",
      "  -0.13982613]\n",
      " [ 0.17570524  0.14402251 -0.0540604  ...  0.03787543  0.03638156\n",
      "   0.18284826]\n",
      " [-0.08081064 -0.13100545 -0.1593975  ... -0.13613333 -0.05172347\n",
      "   0.01762129]\n",
      " ...\n",
      " [ 0.07634543  0.09711815  0.10929398 ... -0.11425514  0.01676925\n",
      "   0.00827613]\n",
      " [ 0.0607558  -0.14382502  0.17738877 ... -0.09028604  0.1364656\n",
      "   0.18580662]\n",
      " [ 0.16194238 -0.09496988  0.08811907 ... -0.04298009 -0.01953635\n",
      "  -0.10641506]]\n",
      "\n",
      "Weights Standard Deviation:\n",
      " 0.11052714\n",
      "\n",
      "Biases:\n",
      " [0. 0. 0. 0. 0. 0. 0. 0. 0. 0. 0. 0. 0. 0. 0. 0. 0. 0. 0. 0. 0. 0. 0. 0.\n",
      " 0. 0. 0. 0. 0. 0. 0. 0. 0. 0. 0. 0. 0. 0. 0. 0. 0. 0. 0. 0. 0. 0. 0. 0.\n",
      " 0. 0. 0. 0. 0. 0. 0. 0. 0. 0. 0. 0. 0. 0. 0. 0. 0. 0. 0. 0. 0. 0. 0. 0.\n",
      " 0. 0. 0. 0. 0. 0. 0. 0. 0. 0. 0. 0. 0. 0. 0. 0. 0. 0. 0. 0. 0. 0. 0. 0.\n",
      " 0. 0. 0. 0.]\n",
      "Epoch 1/15\n",
      "1527/1527 [==============================] - 0s 43us/step - loss: 0.8277 - accuracy: 0.7898\n",
      "Epoch 2/15\n",
      "1527/1527 [==============================] - 0s 19us/step - loss: 0.2783 - accuracy: 0.9470\n",
      "Epoch 3/15\n",
      "1527/1527 [==============================] - 0s 18us/step - loss: 0.1909 - accuracy: 0.9607\n",
      "Epoch 4/15\n",
      "1527/1527 [==============================] - 0s 16us/step - loss: 0.1484 - accuracy: 0.9718\n",
      "Epoch 5/15\n",
      "1527/1527 [==============================] - 0s 15us/step - loss: 0.1225 - accuracy: 0.9790\n",
      "Epoch 6/15\n",
      "1527/1527 [==============================] - 0s 16us/step - loss: 0.1047 - accuracy: 0.9823\n",
      "Epoch 7/15\n",
      "1527/1527 [==============================] - 0s 15us/step - loss: 0.0917 - accuracy: 0.9856\n",
      "Epoch 8/15\n",
      "1527/1527 [==============================] - 0s 14us/step - loss: 0.0816 - accuracy: 0.9856\n",
      "Epoch 9/15\n",
      "1527/1527 [==============================] - 0s 15us/step - loss: 0.0730 - accuracy: 0.9895\n",
      "Epoch 10/15\n",
      "1527/1527 [==============================] - 0s 14us/step - loss: 0.0661 - accuracy: 0.9902\n",
      "Epoch 11/15\n",
      "1527/1527 [==============================] - 0s 16us/step - loss: 0.0604 - accuracy: 0.9908\n",
      "Epoch 12/15\n",
      "1527/1527 [==============================] - 0s 15us/step - loss: 0.0554 - accuracy: 0.9928\n",
      "Epoch 13/15\n",
      "1527/1527 [==============================] - 0s 15us/step - loss: 0.0511 - accuracy: 0.9941\n",
      "Epoch 14/15\n",
      "1527/1527 [==============================] - 0s 16us/step - loss: 0.0472 - accuracy: 0.9935\n",
      "Epoch 15/15\n",
      "1527/1527 [==============================] - 0s 16us/step - loss: 0.0439 - accuracy: 0.9935\n",
      "Model: \"sequential_4\"\n",
      "_________________________________________________________________\n",
      "Layer (type)                 Output Shape              Param #   \n",
      "=================================================================\n",
      "dense_5 (Dense)              (None, 100)               6500      \n",
      "_________________________________________________________________\n",
      "activation_5 (Activation)    (None, 100)               0         \n",
      "_________________________________________________________________\n",
      "dense_6 (Dense)              (None, 10)                1010      \n",
      "_________________________________________________________________\n",
      "activation_6 (Activation)    (None, 10)                0         \n",
      "=================================================================\n",
      "Total params: 7,510\n",
      "Trainable params: 7,510\n",
      "Non-trainable params: 0\n",
      "_________________________________________________________________\n"
     ]
    },
    {
     "data": {
      "image/png": "[encoded data removed]",
      "text/plain": [
       "<Figure size 864x432 with 2 Axes>"
      ]
     },
     "metadata": {
      "needs_background": "light"
     },
     "output_type": "display_data"
    },
    {
     "name": "stdout",
     "output_type": "stream",
     "text": [
      "270/270 [==============================] - 0s 82us/step\n",
      "Test Loss: 0.0987\n",
      "Test Accuracy: 0.9741\n"
     ]
    }
   ],
   "source": [
    "## Compile the Model\n",
    "model.compile(optimizer=optimizers.SGD(lr=0.1), loss='categorical_crossentropy', metrics=['accuracy'])\n",
    "\n",
    "# Weights and Biases\n",
    "weights = model.layers[0].weights[0].eval(keras.backend.get_session())\n",
    "print(\"\\nWeights:\\n\", weights)\n",
    "print(\"\\nWeights Standard Deviation:\\n\", weights.std())\n",
    "biases = model.layers[0].weights[1].eval(keras.backend.get_session())\n",
    "print(\"\\nBiases:\\n\", biases)\n",
    "\n",
    "# Train the model\n",
    "history = model.fit(X_train, Y_train, epochs=15, batch_size=32)\n",
    "\n",
    "# Show model summary\n",
    "model.summary()\n",
    "\n",
    "\n",
    "## Visualizing Training Progress\n",
    "plt.figure(figsize=(12, 6))\n",
    "\n",
    "# Training Loss\n",
    "plt.subplot(1, 2, 1)\n",
    "plt.plot(history.history['loss'])\n",
    "plt.title('Training Loss')\n",
    "plt.xlabel('Epoch')\n",
    "plt.ylabel('Loss')\n",
    "\n",
    "# Training Accuracy\n",
    "plt.subplot(1, 2, 2)\n",
    "plt.plot(history.history['accuracy'])\n",
    "plt.title('Training Accuracy')\n",
    "plt.xlabel('Epoch')\n",
    "plt.ylabel('Accuracy')\n",
    "plt.show()\n",
    "\n",
    "\n",
    "## Ensure one-hot encoding for labels\n",
    "Y_train = to_categorical(y_train)\n",
    "Y_test = to_categorical(y_test)\n",
    "\n",
    "# Evaluate on test data\n",
    "test_loss, test_accuracy = model.evaluate(X_test, Y_test)\n",
    "print(f\"Test Loss: {test_loss:.4f}\")\n",
    "print(f\"Test Accuracy: {test_accuracy:.4f}\")"
   ]
  },
  {
   "cell_type": "markdown",
   "id": "9163d20f-f111-469b-831a-abada5a8618e",
   "metadata": {},
   "source": [
    "## Step 4.2: Train the Model (lr=0.1 --> lr=0.001)"
   ]
  },
  {
   "cell_type": "code",
   "execution_count": 15,
   "id": "32eda80c-9c57-4561-9488-f74a58efe1db",
   "metadata": {},
   "outputs": [
    {
     "name": "stdout",
     "output_type": "stream",
     "text": [
      "Epoch 1/15\n",
      "1527/1527 [==============================] - 0s 38us/step - loss: 0.0397 - accuracy: 0.9961\n",
      "Epoch 2/15\n",
      "1527/1527 [==============================] - 0s 18us/step - loss: 0.0397 - accuracy: 0.9961\n",
      "Epoch 3/15\n",
      "1527/1527 [==============================] - 0s 17us/step - loss: 0.0397 - accuracy: 0.9961\n",
      "Epoch 4/15\n",
      "1527/1527 [==============================] - 0s 17us/step - loss: 0.0397 - accuracy: 0.9961\n",
      "Epoch 5/15\n",
      "1527/1527 [==============================] - 0s 17us/step - loss: 0.0396 - accuracy: 0.9961\n",
      "Epoch 6/15\n",
      "1527/1527 [==============================] - 0s 16us/step - loss: 0.0396 - accuracy: 0.9961\n",
      "Epoch 7/15\n",
      "1527/1527 [==============================] - 0s 16us/step - loss: 0.0396 - accuracy: 0.9961\n",
      "Epoch 8/15\n",
      "1527/1527 [==============================] - 0s 16us/step - loss: 0.0395 - accuracy: 0.9961\n",
      "Epoch 9/15\n",
      "1527/1527 [==============================] - 0s 15us/step - loss: 0.0395 - accuracy: 0.9961\n",
      "Epoch 10/15\n",
      "1527/1527 [==============================] - 0s 17us/step - loss: 0.0395 - accuracy: 0.9961\n",
      "Epoch 11/15\n",
      "1527/1527 [==============================] - 0s 17us/step - loss: 0.0394 - accuracy: 0.9961\n",
      "Epoch 12/15\n",
      "1527/1527 [==============================] - 0s 16us/step - loss: 0.0394 - accuracy: 0.9961\n",
      "Epoch 13/15\n",
      "1527/1527 [==============================] - 0s 16us/step - loss: 0.0394 - accuracy: 0.9961\n",
      "Epoch 14/15\n",
      "1527/1527 [==============================] - 0s 16us/step - loss: 0.0394 - accuracy: 0.9961\n",
      "Epoch 15/15\n",
      "1527/1527 [==============================] - 0s 16us/step - loss: 0.0393 - accuracy: 0.9961\n"
     ]
    },
    {
     "data": {
      "image/png": "[encoded data removed]",
      "text/plain": [
       "<Figure size 864x432 with 2 Axes>"
      ]
     },
     "metadata": {
      "needs_background": "light"
     },
     "output_type": "display_data"
    },
    {
     "name": "stdout",
     "output_type": "stream",
     "text": [
      "270/270 [==============================] - 0s 85us/step\n",
      "Test Loss: 0.0984\n",
      "Test Accuracy: 0.9741\n"
     ]
    }
   ],
   "source": [
    "## Compile the model\n",
    "model.compile(optimizer=optimizers.SGD(lr=0.001), loss='categorical_crossentropy', metrics=['accuracy'])\n",
    "\n",
    "# Train the model\n",
    "history_slow = model.fit(X_train, Y_train, epochs=15, batch_size=32)\n",
    "\n",
    "# Visualizing Training Progress\n",
    "plt.figure(figsize=(12, 6))\n",
    "\n",
    "# Training Loss\n",
    "plt.subplot(1, 2, 1)\n",
    "plt.plot(history_slow.history['loss'])\n",
    "plt.title('Loss with Small Learning Rate (0.001)')\n",
    "\n",
    "# Training Accuracy\n",
    "plt.subplot(1, 2, 2)\n",
    "plt.plot(history_slow.history['accuracy'])\n",
    "plt.title('Accuracy with Small Learning Rate (0.001)')\n",
    "plt.show()\n",
    "\n",
    "\n",
    "## Ensure one-hot encoding for labels\n",
    "Y_train = to_categorical(y_train)\n",
    "Y_test = to_categorical(y_test)\n",
    "\n",
    "# Evaluate on test data\n",
    "test_loss, test_accuracy = model.evaluate(X_test, Y_test)\n",
    "print(f\"Test Loss: {test_loss:.4f}\")\n",
    "print(f\"Test Accuracy: {test_accuracy:.4f}\")"
   ]
  },
  {
   "cell_type": "markdown",
   "id": "9a8f48b8-bdc8-4884-8c8b-113bdb02db53",
   "metadata": {
    "jp-MarkdownHeadingCollapsed": true,
    "tags": []
   },
   "source": [
    "# Step 5: Building and Training the Neural Network (normal initialization)"
   ]
  },
  {
   "cell_type": "code",
   "execution_count": 16,
   "id": "e41e7149-b070-4731-963e-ec4809b9444e",
   "metadata": {},
   "outputs": [
    {
     "name": "stdout",
     "output_type": "stream",
     "text": [
      "Neural Network is built with normal initialization\n"
     ]
    }
   ],
   "source": [
    "from keras import initializers\n",
    "\n",
    "\n",
    "## Define the model with normal initialization\n",
    "normal_init = initializers.RandomNormal(stddev=0.01)\n",
    "\n",
    "model = Sequential()\n",
    "model.add(Dense(H, input_dim=N, kernel_initializer=normal_init))    # Hidden layer\n",
    "model.add(Activation(\"tanh\"))                                       # Activation function\n",
    "model.add(Dense(K, kernel_initializer=normal_init))                 # Output layer\n",
    "model.add(Activation(\"softmax\"))                                    # Output activation\n",
    "\n",
    "print(\"Neural Network is built with normal initialization\")"
   ]
  },
  {
   "cell_type": "markdown",
   "id": "051a82bd-8806-482b-8aee-0ce2e0dcca91",
   "metadata": {},
   "source": [
    "## Step 5.1: Train the Model"
   ]
  },
  {
   "cell_type": "code",
   "execution_count": 19,
   "id": "9cd708c8-7854-4d61-8714-dfc7444295f4",
   "metadata": {},
   "outputs": [
    {
     "name": "stdout",
     "output_type": "stream",
     "text": [
      "Epoch 1/15\n",
      "1527/1527 [==============================] - 0s 40us/step - loss: 1.8373 - accuracy: 0.6817\n",
      "Epoch 2/15\n",
      "1527/1527 [==============================] - 0s 19us/step - loss: 0.7024 - accuracy: 0.8330\n",
      "Epoch 3/15\n",
      "1527/1527 [==============================] - 0s 19us/step - loss: 0.3517 - accuracy: 0.9286\n",
      "Epoch 4/15\n",
      "1527/1527 [==============================] - 0s 26us/step - loss: 0.2318 - accuracy: 0.9528\n",
      "Epoch 5/15\n",
      "1527/1527 [==============================] - 0s 18us/step - loss: 0.1768 - accuracy: 0.9601\n",
      "Epoch 6/15\n",
      "1527/1527 [==============================] - 0s 16us/step - loss: 0.1460 - accuracy: 0.9731\n",
      "Epoch 7/15\n",
      "1527/1527 [==============================] - 0s 17us/step - loss: 0.1254 - accuracy: 0.9758\n",
      "Epoch 8/15\n",
      "1527/1527 [==============================] - 0s 16us/step - loss: 0.1107 - accuracy: 0.9784\n",
      "Epoch 9/15\n",
      "1527/1527 [==============================] - 0s 16us/step - loss: 0.0999 - accuracy: 0.9797\n",
      "Epoch 10/15\n",
      "1527/1527 [==============================] - 0s 16us/step - loss: 0.0900 - accuracy: 0.9836\n",
      "Epoch 11/15\n",
      "1527/1527 [==============================] - 0s 17us/step - loss: 0.0827 - accuracy: 0.9830\n",
      "Epoch 12/15\n",
      "1527/1527 [==============================] - 0s 17us/step - loss: 0.0764 - accuracy: 0.9856\n",
      "Epoch 13/15\n",
      "1527/1527 [==============================] - 0s 17us/step - loss: 0.0706 - accuracy: 0.9862\n",
      "Epoch 14/15\n",
      "1527/1527 [==============================] - 0s 16us/step - loss: 0.0657 - accuracy: 0.9876\n",
      "Epoch 15/15\n",
      "1527/1527 [==============================] - 0s 17us/step - loss: 0.0612 - accuracy: 0.9882\n"
     ]
    },
    {
     "data": {
      "image/png": "[encoded data removed]",
      "text/plain": [
       "<Figure size 864x432 with 2 Axes>"
      ]
     },
     "metadata": {
      "needs_background": "light"
     },
     "output_type": "display_data"
    },
    {
     "name": "stdout",
     "output_type": "stream",
     "text": [
      "270/270 [==============================] - 0s 93us/step\n",
      "Test Loss: 0.1022\n",
      "Test Accuracy: 0.9667\n"
     ]
    }
   ],
   "source": [
    "## Compile the model\n",
    "model.compile(optimizer=optimizers.SGD(lr=0.1), loss='categorical_crossentropy', metrics=['accuracy'])\n",
    "\n",
    "# Train the model\n",
    "history_init = model.fit(X_train, Y_train, epochs=15, batch_size=32)\n",
    "\n",
    "\n",
    "## Visualizing Training Progress\n",
    "plt.figure(figsize=(12, 6))\n",
    "\n",
    "# Training Loss\n",
    "plt.subplot(1, 2, 1)\n",
    "plt.plot(history_init.history['loss'])\n",
    "plt.title('Loss with Normal Initialization')\n",
    "\n",
    "# Training Accuracy\n",
    "plt.subplot(1, 2, 2)\n",
    "plt.plot(history_init.history['accuracy'])\n",
    "plt.title('Accuracy with Normal Initialization')\n",
    "plt.show()\n",
    "\n",
    "\n",
    "## Ensure one-hot encoding for labels\n",
    "Y_train = to_categorical(y_train)\n",
    "Y_test = to_categorical(y_test)\n",
    "\n",
    "# Evaluate on test data\n",
    "test_loss, test_accuracy = model.evaluate(X_test, Y_test)\n",
    "print(f\"Test Loss: {test_loss:.4f}\")\n",
    "print(f\"Test Accuracy: {test_accuracy:.4f}\")"
   ]
  },
  {
   "cell_type": "markdown",
   "id": "7e2f2d84-3eec-46b8-90cf-30cdd1550efc",
   "metadata": {
    "jp-MarkdownHeadingCollapsed": true,
    "tags": []
   },
   "source": [
    "# Step 6: Building and Training the Neural Network (more layers or neurons (H --> 200))"
   ]
  },
  {
   "cell_type": "code",
   "execution_count": 20,
   "id": "809888ba-3daf-49a7-82a8-506304b7f7bd",
   "metadata": {},
   "outputs": [
    {
     "name": "stdout",
     "output_type": "stream",
     "text": [
      "Neural Network is built with more layers or neurons\n"
     ]
    }
   ],
   "source": [
    "from keras import initializers\n",
    "\n",
    "\n",
    "# Use normal initialization\n",
    "normal_init = initializers.RandomNormal(stddev=0.01)\n",
    "\n",
    "model = Sequential()\n",
    "model.add(Dense(200, input_dim=N, kernel_initializer=normal_init))\n",
    "model.add(Activation(\"tanh\"))\n",
    "model.add(Dense(K, kernel_initializer=normal_init))\n",
    "model.add(Activation(\"softmax\"))\n",
    "\n",
    "print(\"Neural Network is built with more layers or neurons\")"
   ]
  },
  {
   "cell_type": "markdown",
   "id": "d3f60ed3-058b-442b-9726-43e64dfa33f3",
   "metadata": {},
   "source": [
    "## Step 6.1: Train the Model (different optimizer (SGD --> optimizers.Adam))"
   ]
  },
  {
   "cell_type": "code",
   "execution_count": 21,
   "id": "7ead0bd5-0678-4cbb-ad38-6d60f4c73c0d",
   "metadata": {},
   "outputs": [
    {
     "name": "stdout",
     "output_type": "stream",
     "text": [
      "Epoch 1/15\n",
      "1527/1527 [==============================] - 0s 59us/step - loss: 1.5776 - accuracy: 0.7577\n",
      "Epoch 2/15\n",
      "1527/1527 [==============================] - 0s 21us/step - loss: 0.5054 - accuracy: 0.8854\n",
      "Epoch 3/15\n",
      "1527/1527 [==============================] - 0s 19us/step - loss: 0.2480 - accuracy: 0.9463\n",
      "Epoch 4/15\n",
      "1527/1527 [==============================] - 0s 18us/step - loss: 0.1701 - accuracy: 0.9659\n",
      "Epoch 5/15\n",
      "1527/1527 [==============================] - 0s 18us/step - loss: 0.1263 - accuracy: 0.9771\n",
      "Epoch 6/15\n",
      "1527/1527 [==============================] - 0s 18us/step - loss: 0.1044 - accuracy: 0.9771\n",
      "Epoch 7/15\n",
      "1527/1527 [==============================] - 0s 20us/step - loss: 0.0869 - accuracy: 0.9817\n",
      "Epoch 8/15\n",
      "1527/1527 [==============================] - 0s 18us/step - loss: 0.0748 - accuracy: 0.9862\n",
      "Epoch 9/15\n",
      "1527/1527 [==============================] - 0s 18us/step - loss: 0.0637 - accuracy: 0.9889\n",
      "Epoch 10/15\n",
      "1527/1527 [==============================] - 0s 16us/step - loss: 0.0551 - accuracy: 0.9915\n",
      "Epoch 11/15\n",
      "1527/1527 [==============================] - 0s 19us/step - loss: 0.0485 - accuracy: 0.9928\n",
      "Epoch 12/15\n",
      "1527/1527 [==============================] - 0s 18us/step - loss: 0.0427 - accuracy: 0.9941\n",
      "Epoch 13/15\n",
      "1527/1527 [==============================] - 0s 19us/step - loss: 0.0378 - accuracy: 0.9941\n",
      "Epoch 14/15\n",
      "1527/1527 [==============================] - 0s 19us/step - loss: 0.0345 - accuracy: 0.9954\n",
      "Epoch 15/15\n",
      "1527/1527 [==============================] - 0s 18us/step - loss: 0.0300 - accuracy: 0.9980\n"
     ]
    },
    {
     "data": {
      "image/png": "[encoded data removed]",
      "text/plain": [
       "<Figure size 864x432 with 2 Axes>"
      ]
     },
     "metadata": {
      "needs_background": "light"
     },
     "output_type": "display_data"
    },
    {
     "name": "stdout",
     "output_type": "stream",
     "text": [
      "270/270 [==============================] - 0s 102us/step\n",
      "Test Loss: 0.0782\n",
      "Test Accuracy: 0.9704\n"
     ]
    }
   ],
   "source": [
    "## Compile the model\n",
    "model.compile(optimizer=optimizers.Adam(), loss='categorical_crossentropy', metrics=['accuracy'])\n",
    "\n",
    "# Train the model\n",
    "history_init = model.fit(X_train, Y_train, epochs=15, batch_size=32)\n",
    "\n",
    "\n",
    "## Visualizing Training Progress\n",
    "plt.figure(figsize=(12, 6))\n",
    "\n",
    "# Training Loss\n",
    "plt.subplot(1, 2, 1)\n",
    "plt.plot(history_init.history['loss'])\n",
    "plt.title('Loss with Normal Initialization')\n",
    "\n",
    "# Training Accuracy\n",
    "plt.subplot(1, 2, 2)\n",
    "plt.plot(history_init.history['accuracy'])\n",
    "plt.title('Accuracy with Normal Initialization')\n",
    "plt.show()\n",
    "\n",
    "\n",
    "## Ensure one-hot encoding for labels\n",
    "Y_train = to_categorical(y_train)\n",
    "Y_test = to_categorical(y_test)\n",
    "\n",
    "# Evaluate on test data\n",
    "test_loss, test_accuracy = model.evaluate(X_test, Y_test)\n",
    "print(f\"Test Loss: {test_loss:.4f}\")\n",
    "print(f\"Test Accuracy: {test_accuracy:.4f}\")"
   ]
  }
 ],
 "metadata": {
  "kernelspec": {
   "display_name": "Python 3",
   "language": "python",
   "name": "python3"
  },
  "language_info": {
   "codemirror_mode": {
    "name": "ipython",
    "version": 3
   },
   "file_extension": ".py",
   "mimetype": "text/x-python",
   "name": "python",
   "nbconvert_exporter": "python",
   "pygments_lexer": "ipython3",
   "version": "3.6.8"
  }
 },
 "nbformat": 4,
 "nbformat_minor": 5
}
