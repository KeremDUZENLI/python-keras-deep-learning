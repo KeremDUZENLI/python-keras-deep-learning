{
 "cells": [
  {
   "cell_type": "markdown",
   "id": "e89b1ef4-f8e0-4658-ba81-600abffa6695",
   "metadata": {
    "jp-MarkdownHeadingCollapsed": true,
    "tags": []
   },
   "source": [
    "# Step 1: Loading and Exploring the Dataset"
   ]
  },
  {
   "cell_type": "code",
   "execution_count": 54,
   "id": "8e40f1db-bd2f-41ea-aced-f7287ac4b927",
   "metadata": {},
   "outputs": [
    {
     "name": "stdout",
     "output_type": "stream",
     "text": [
      "Dataset shape: (1797, 64)\n"
     ]
    },
    {
     "data": {
      "image/png": "[encoded data removed]",
      "text/plain": [
       "<Figure size 216x216 with 1 Axes>"
      ]
     },
     "metadata": {
      "needs_background": "light"
     },
     "output_type": "display_data"
    }
   ],
   "source": [
    "import matplotlib.pyplot as plt\n",
    "import numpy as np\n",
    "from sklearn.datasets import load_digits\n",
    "\n",
    "# Load the digits dataset\n",
    "digits = load_digits()\n",
    "\n",
    "# Print the shape of the data to understand its size\n",
    "print(\"Dataset shape:\", digits.data.shape)\n",
    "\n",
    "# Display one sample image\n",
    "sample_index = 45\n",
    "plt.figure(figsize=(3, 3))\n",
    "plt.imshow(digits.images[sample_index], cmap=plt.cm.gray_r, interpolation='nearest')\n",
    "plt.title(f\"Image label: {digits.target[sample_index]}\")\n",
    "plt.show()"
   ]
  },
  {
   "cell_type": "markdown",
   "id": "a1fc6e8e-854e-46ee-9d32-6a795fb064ca",
   "metadata": {
    "jp-MarkdownHeadingCollapsed": true,
    "tags": []
   },
   "source": [
    "# Step 2: Preprocessing the Data"
   ]
  },
  {
   "cell_type": "code",
   "execution_count": 55,
   "id": "c5d76ce8-15ab-461d-853e-4913d24ef0e4",
   "metadata": {},
   "outputs": [
    {
     "name": "stdout",
     "output_type": "stream",
     "text": [
      "Training set shape: (1527, 64)\n",
      "Test set shape: (270, 64)\n"
     ]
    },
    {
     "data": {
      "image/png": "[encoded data removed]",
      "text/plain": [
       "<Figure size 216x216 with 1 Axes>"
      ]
     },
     "metadata": {
      "needs_background": "light"
     },
     "output_type": "display_data"
    },
    {
     "data": {
      "image/png": "[encoded data removed]",
      "text/plain": [
       "<Figure size 216x216 with 1 Axes>"
      ]
     },
     "metadata": {
      "needs_background": "light"
     },
     "output_type": "display_data"
    }
   ],
   "source": [
    "from sklearn import preprocessing\n",
    "from sklearn.model_selection import train_test_split\n",
    "\n",
    "\n",
    "## Convert data to the right format\n",
    "data = np.asarray(digits.data, dtype='float32')\n",
    "target = np.asarray(digits.target, dtype='int32')\n",
    "\n",
    "# Split into training and test sets\n",
    "X_train, X_test, y_train, y_test = train_test_split(data, target, test_size=0.15, random_state=37)\n",
    "\n",
    "# Normalize the data\n",
    "scaler = preprocessing.StandardScaler()\n",
    "X_train = scaler.fit_transform(X_train)\n",
    "X_test = scaler.transform(X_test)\n",
    "\n",
    "# Print the shapes of the new sets\n",
    "print(\"Training set shape:\", X_train.shape)\n",
    "print(\"Test set shape:\", X_test.shape)\n",
    "\n",
    "\n",
    "## Visualizing Normalization\n",
    "sample_index = 45\n",
    "\n",
    "# Show the original sample\n",
    "plt.figure(figsize=(3, 3))\n",
    "plt.imshow(scaler.inverse_transform(X_train[sample_index]).reshape(8, 8), cmap=plt.cm.gray_r, interpolation='nearest')\n",
    "plt.title(\"Original sample\")\n",
    "plt.show()\n",
    "\n",
    "# Show a transformed sample\n",
    "plt.figure(figsize=(3, 3))\n",
    "plt.imshow(X_train[sample_index].reshape(8, 8), cmap=plt.cm.gray_r, interpolation='nearest')\n",
    "plt.title(\"Transformed sample \\n(after standardization)\")\n",
    "plt.show()"
   ]
  },
  {
   "cell_type": "markdown",
   "id": "69b41e2f-08de-4d24-a9f8-cdaa8bc65e1f",
   "metadata": {
    "jp-MarkdownHeadingCollapsed": true,
    "tags": []
   },
   "source": [
    "# Step 3: Preparing Labels for Classification"
   ]
  },
  {
   "cell_type": "code",
   "execution_count": 56,
   "id": "24fa79e8-6d5b-4925-849f-13585baaddae",
   "metadata": {},
   "outputs": [
    {
     "name": "stdout",
     "output_type": "stream",
     "text": [
      "Original labels:\n",
      " [2 9 5]\n",
      "\n",
      "One-hot encoded labels:\n",
      " [[0. 0. 1. 0. 0. 0. 0. 0. 0. 0.]\n",
      " [0. 0. 0. 0. 0. 0. 0. 0. 0. 1.]\n",
      " [0. 0. 0. 0. 0. 1. 0. 0. 0. 0.]]\n"
     ]
    }
   ],
   "source": [
    "import tensorflow as tf\n",
    "import keras\n",
    "from keras.utils.np_utils import to_categorical\n",
    "\n",
    "# Look at original labels\n",
    "print(\"Original labels:\\n\", y_train[:3])\n",
    "\n",
    "# Convert to one-hot encoding\n",
    "Y_train = to_categorical(y_train)\n",
    "print(\"\\nOne-hot encoded labels:\\n\", Y_train[:3])"
   ]
  },
  {
   "cell_type": "markdown",
   "id": "92684898-329c-4464-a681-88afea6f071b",
   "metadata": {
    "jp-MarkdownHeadingCollapsed": true,
    "tags": []
   },
   "source": [
    "# Step 4: Building and Training the Neural Network"
   ]
  },
  {
   "cell_type": "code",
   "execution_count": 57,
   "id": "38580409-2784-4b29-8992-e08d4f052965",
   "metadata": {},
   "outputs": [
    {
     "name": "stdout",
     "output_type": "stream",
     "text": [
      "Neural Network is built\n"
     ]
    }
   ],
   "source": [
    "from keras.models import Sequential\n",
    "from keras.layers.core import Dense, Activation\n",
    "from keras import optimizers\n",
    "\n",
    "\n",
    "## Define the model\n",
    "N = X_train.shape[1]  # 64 (input features)\n",
    "H = 100               # 100 neurons in hidden layer\n",
    "K = 10                # 10 classes (output)\n",
    "\n",
    "model = Sequential()\n",
    "model.add(Dense(H, input_dim=N))    # Hidden layer\n",
    "model.add(Activation(\"tanh\"))       # Activation function\n",
    "model.add(Dense(K))                 # Output layer\n",
    "model.add(Activation(\"softmax\"))    # Output activation\n",
    "\n",
    "print(\"Neural Network is built\")"
   ]
  },
  {
   "cell_type": "markdown",
   "id": "adcc96c5-51fa-4b63-8279-7f8b2860cfe1",
   "metadata": {},
   "source": [
    "## Step 4.1: Train the Model"
   ]
  },
  {
   "cell_type": "code",
   "execution_count": 58,
   "id": "32f70117-f278-4974-afe3-c26d552582e2",
   "metadata": {},
   "outputs": [
    {
     "name": "stdout",
     "output_type": "stream",
     "text": [
      "\n",
      "Weights:\n",
      " [[ 0.1609431   0.12122254  0.01260176 ...  0.09876482 -0.00856794\n",
      "  -0.05460612]\n",
      " [ 0.10650776 -0.18573831 -0.14796509 ...  0.12377281  0.05433822\n",
      "   0.17167343]\n",
      " [ 0.09437637 -0.03221381  0.04401268 ...  0.05504666  0.05405305\n",
      "  -0.1504116 ]\n",
      " ...\n",
      " [ 0.03502865 -0.08525019  0.08140846 ...  0.00138323  0.12844597\n",
      "  -0.17175186]\n",
      " [ 0.039574   -0.18919748  0.03533192 ... -0.10634921  0.15241595\n",
      "   0.18416692]\n",
      " [-0.07531757  0.05996035 -0.16356917 ... -0.1844851   0.1822427\n",
      "  -0.14852086]]\n",
      "\n",
      "Weights Standard Deviation:\n",
      " 0.10920088\n",
      "\n",
      "Biases:\n",
      " [0. 0. 0. 0. 0. 0. 0. 0. 0. 0. 0. 0. 0. 0. 0. 0. 0. 0. 0. 0. 0. 0. 0. 0.\n",
      " 0. 0. 0. 0. 0. 0. 0. 0. 0. 0. 0. 0. 0. 0. 0. 0. 0. 0. 0. 0. 0. 0. 0. 0.\n",
      " 0. 0. 0. 0. 0. 0. 0. 0. 0. 0. 0. 0. 0. 0. 0. 0. 0. 0. 0. 0. 0. 0. 0. 0.\n",
      " 0. 0. 0. 0. 0. 0. 0. 0. 0. 0. 0. 0. 0. 0. 0. 0. 0. 0. 0. 0. 0. 0. 0. 0.\n",
      " 0. 0. 0. 0.]\n",
      "Epoch 1/15\n",
      "1527/1527 [==============================] - 0s 81us/step - loss: 0.8387 - accuracy: 0.7747\n",
      "Epoch 2/15\n",
      "1527/1527 [==============================] - 0s 21us/step - loss: 0.2733 - accuracy: 0.9476\n",
      "Epoch 3/15\n",
      "1527/1527 [==============================] - 0s 20us/step - loss: 0.1873 - accuracy: 0.9640\n",
      "Epoch 4/15\n",
      "1527/1527 [==============================] - 0s 19us/step - loss: 0.1467 - accuracy: 0.9738\n",
      "Epoch 5/15\n",
      "1527/1527 [==============================] - 0s 19us/step - loss: 0.1217 - accuracy: 0.9784\n",
      "Epoch 6/15\n",
      "1527/1527 [==============================] - 0s 19us/step - loss: 0.1046 - accuracy: 0.9836\n",
      "Epoch 7/15\n",
      "1527/1527 [==============================] - 0s 18us/step - loss: 0.0919 - accuracy: 0.9843\n",
      "Epoch 8/15\n",
      "1527/1527 [==============================] - 0s 18us/step - loss: 0.0817 - accuracy: 0.9876\n",
      "Epoch 9/15\n",
      "1527/1527 [==============================] - 0s 19us/step - loss: 0.0734 - accuracy: 0.9882\n",
      "Epoch 10/15\n",
      "1527/1527 [==============================] - 0s 19us/step - loss: 0.0669 - accuracy: 0.9908\n",
      "Epoch 11/15\n",
      "1527/1527 [==============================] - 0s 20us/step - loss: 0.0607 - accuracy: 0.9921\n",
      "Epoch 12/15\n",
      "1527/1527 [==============================] - 0s 18us/step - loss: 0.0559 - accuracy: 0.9928\n",
      "Epoch 13/15\n",
      "1527/1527 [==============================] - 0s 18us/step - loss: 0.0513 - accuracy: 0.9935\n",
      "Epoch 14/15\n",
      "1527/1527 [==============================] - 0s 18us/step - loss: 0.0476 - accuracy: 0.9954\n",
      "Epoch 15/15\n",
      "1527/1527 [==============================] - 0s 19us/step - loss: 0.0441 - accuracy: 0.9941\n",
      "Model: \"sequential_16\"\n",
      "_________________________________________________________________\n",
      "Layer (type)                 Output Shape              Param #   \n",
      "=================================================================\n",
      "dense_31 (Dense)             (None, 100)               6500      \n",
      "_________________________________________________________________\n",
      "activation_31 (Activation)   (None, 100)               0         \n",
      "_________________________________________________________________\n",
      "dense_32 (Dense)             (None, 10)                1010      \n",
      "_________________________________________________________________\n",
      "activation_32 (Activation)   (None, 10)                0         \n",
      "=================================================================\n",
      "Total params: 7,510\n",
      "Trainable params: 7,510\n",
      "Non-trainable params: 0\n",
      "_________________________________________________________________\n"
     ]
    },
    {
     "data": {
      "image/png": "[encoded data removed]",
      "text/plain": [
       "<Figure size 864x432 with 2 Axes>"
      ]
     },
     "metadata": {
      "needs_background": "light"
     },
     "output_type": "display_data"
    },
    {
     "name": "stdout",
     "output_type": "stream",
     "text": [
      "270/270 [==============================] - 0s 268us/step\n",
      "Test Loss: 0.0858\n",
      "Test Accuracy: 0.9741\n"
     ]
    }
   ],
   "source": [
    "## Compile the Model\n",
    "model.compile(optimizer=optimizers.SGD(lr=0.1), loss='categorical_crossentropy', metrics=['accuracy'])\n",
    "\n",
    "# Weights and Biases\n",
    "weights = model.layers[0].weights[0].eval(keras.backend.get_session())\n",
    "print(\"\\nWeights:\\n\", weights)\n",
    "print(\"\\nWeights Standard Deviation:\\n\", weights.std())\n",
    "biases = model.layers[0].weights[1].eval(keras.backend.get_session())\n",
    "print(\"\\nBiases:\\n\", biases)\n",
    "\n",
    "# Train the model\n",
    "history = model.fit(X_train, Y_train, epochs=15, batch_size=32)\n",
    "\n",
    "# Show model summary\n",
    "model.summary()\n",
    "\n",
    "\n",
    "## Visualizing Training Progress\n",
    "plt.figure(figsize=(12, 6))\n",
    "\n",
    "# Training Loss\n",
    "plt.subplot(1, 2, 1)\n",
    "plt.plot(history.history['loss'])\n",
    "plt.title('Training Loss')\n",
    "plt.xlabel('Epoch')\n",
    "plt.ylabel('Loss')\n",
    "\n",
    "# Training Accuracy\n",
    "plt.subplot(1, 2, 2)\n",
    "plt.plot(history.history['accuracy'])\n",
    "plt.title('Training Accuracy')\n",
    "plt.xlabel('Epoch')\n",
    "plt.ylabel('Accuracy')\n",
    "plt.show()\n",
    "\n",
    "\n",
    "## Ensure one-hot encoding for labels\n",
    "Y_train = to_categorical(y_train)\n",
    "Y_test = to_categorical(y_test)\n",
    "\n",
    "# Evaluate on test data\n",
    "test_loss, test_accuracy = model.evaluate(X_test, Y_test)\n",
    "print(f\"Test Loss: {test_loss:.4f}\")\n",
    "print(f\"Test Accuracy: {test_accuracy:.4f}\")"
   ]
  },
  {
   "cell_type": "markdown",
   "id": "9163d20f-f111-469b-831a-abada5a8618e",
   "metadata": {},
   "source": [
    "## Step 4.2: Train the Model (lr=0.1 --> lr=0.001)"
   ]
  },
  {
   "cell_type": "code",
   "execution_count": 59,
   "id": "32eda80c-9c57-4561-9488-f74a58efe1db",
   "metadata": {},
   "outputs": [
    {
     "name": "stdout",
     "output_type": "stream",
     "text": [
      "Epoch 1/15\n",
      "1527/1527 [==============================] - 0s 87us/step - loss: 0.0399 - accuracy: 0.9961\n",
      "Epoch 2/15\n",
      "1527/1527 [==============================] - 0s 21us/step - loss: 0.0398 - accuracy: 0.9961\n",
      "Epoch 3/15\n",
      "1527/1527 [==============================] - 0s 20us/step - loss: 0.0398 - accuracy: 0.9961\n",
      "Epoch 4/15\n",
      "1527/1527 [==============================] - 0s 19us/step - loss: 0.0398 - accuracy: 0.9961\n",
      "Epoch 5/15\n",
      "1527/1527 [==============================] - 0s 19us/step - loss: 0.0398 - accuracy: 0.9961\n",
      "Epoch 6/15\n",
      "1527/1527 [==============================] - 0s 18us/step - loss: 0.0397 - accuracy: 0.9961\n",
      "Epoch 7/15\n",
      "1527/1527 [==============================] - 0s 18us/step - loss: 0.0397 - accuracy: 0.9961\n",
      "Epoch 8/15\n",
      "1527/1527 [==============================] - 0s 19us/step - loss: 0.0397 - accuracy: 0.9961\n",
      "Epoch 9/15\n",
      "1527/1527 [==============================] - 0s 19us/step - loss: 0.0396 - accuracy: 0.9961\n",
      "Epoch 10/15\n",
      "1527/1527 [==============================] - 0s 18us/step - loss: 0.0396 - accuracy: 0.9961\n",
      "Epoch 11/15\n",
      "1527/1527 [==============================] - 0s 19us/step - loss: 0.0396 - accuracy: 0.9961\n",
      "Epoch 12/15\n",
      "1527/1527 [==============================] - 0s 19us/step - loss: 0.0396 - accuracy: 0.9961\n",
      "Epoch 13/15\n",
      "1527/1527 [==============================] - 0s 18us/step - loss: 0.0395 - accuracy: 0.9961\n",
      "Epoch 14/15\n",
      "1527/1527 [==============================] - 0s 22us/step - loss: 0.0395 - accuracy: 0.9961\n",
      "Epoch 15/15\n",
      "1527/1527 [==============================] - 0s 19us/step - loss: 0.0395 - accuracy: 0.9961\n"
     ]
    },
    {
     "data": {
      "image/png": "[encoded data removed]",
      "text/plain": [
       "<Figure size 864x432 with 2 Axes>"
      ]
     },
     "metadata": {
      "needs_background": "light"
     },
     "output_type": "display_data"
    },
    {
     "name": "stdout",
     "output_type": "stream",
     "text": [
      "270/270 [==============================] - 0s 329us/step\n",
      "Test Loss: 0.0855\n",
      "Test Accuracy: 0.9741\n"
     ]
    }
   ],
   "source": [
    "## Compile the model\n",
    "model.compile(optimizer=optimizers.SGD(lr=0.001), loss='categorical_crossentropy', metrics=['accuracy'])\n",
    "\n",
    "# Train the model\n",
    "history_slow = model.fit(X_train, Y_train, epochs=15, batch_size=32)\n",
    "\n",
    "\n",
    "## Visualizing Training Progress\n",
    "plt.figure(figsize=(12, 6))\n",
    "\n",
    "# Training Loss\n",
    "plt.subplot(1, 2, 1)\n",
    "plt.plot(history_slow.history['loss'])\n",
    "plt.title('Loss with Small Learning Rate (0.001)')\n",
    "\n",
    "# Training Accuracy\n",
    "plt.subplot(1, 2, 2)\n",
    "plt.plot(history_slow.history['accuracy'])\n",
    "plt.title('Accuracy with Small Learning Rate (0.001)')\n",
    "plt.show()\n",
    "\n",
    "\n",
    "## Ensure one-hot encoding for labels\n",
    "Y_train = to_categorical(y_train)\n",
    "Y_test = to_categorical(y_test)\n",
    "\n",
    "# Evaluate on test data\n",
    "test_loss, test_accuracy = model.evaluate(X_test, Y_test)\n",
    "print(f\"Test Loss: {test_loss:.4f}\")\n",
    "print(f\"Test Accuracy: {test_accuracy:.4f}\")"
   ]
  },
  {
   "cell_type": "markdown",
   "id": "9a8f48b8-bdc8-4884-8c8b-113bdb02db53",
   "metadata": {
    "jp-MarkdownHeadingCollapsed": true,
    "tags": []
   },
   "source": [
    "# Step 5: Building and Training the Neural Network (normal initialization)"
   ]
  },
  {
   "cell_type": "code",
   "execution_count": 60,
   "id": "e41e7149-b070-4731-963e-ec4809b9444e",
   "metadata": {},
   "outputs": [
    {
     "name": "stdout",
     "output_type": "stream",
     "text": [
      "Neural Network is built with normal initialization\n"
     ]
    }
   ],
   "source": [
    "from keras import initializers\n",
    "\n",
    "## Define the model with normal initialization\n",
    "normal_init = initializers.RandomNormal(stddev=0.01)\n",
    "\n",
    "model = Sequential()\n",
    "model.add(Dense(H, input_dim=N, kernel_initializer=normal_init))    # Hidden layer\n",
    "model.add(Activation(\"tanh\"))                                       # Activation function\n",
    "model.add(Dense(K, kernel_initializer=normal_init))                 # Output layer\n",
    "model.add(Activation(\"softmax\"))                                    # Output activation\n",
    "\n",
    "print(\"Neural Network is built with normal initialization\")"
   ]
  },
  {
   "cell_type": "markdown",
   "id": "051a82bd-8806-482b-8aee-0ce2e0dcca91",
   "metadata": {},
   "source": [
    "## Step 5.1: Train the Model"
   ]
  },
  {
   "cell_type": "code",
   "execution_count": 61,
   "id": "9cd708c8-7854-4d61-8714-dfc7444295f4",
   "metadata": {},
   "outputs": [
    {
     "name": "stdout",
     "output_type": "stream",
     "text": [
      "Epoch 1/15\n",
      "1527/1527 [==============================] - 0s 96us/step - loss: 1.9891 - accuracy: 0.6077\n",
      "Epoch 2/15\n",
      "1527/1527 [==============================] - 0s 21us/step - loss: 0.8721 - accuracy: 0.8114\n",
      "Epoch 3/15\n",
      "1527/1527 [==============================] - 0s 19us/step - loss: 0.4415 - accuracy: 0.9057\n",
      "Epoch 4/15\n",
      "1527/1527 [==============================] - 0s 18us/step - loss: 0.2752 - accuracy: 0.9456\n",
      "Epoch 5/15\n",
      "1527/1527 [==============================] - 0s 19us/step - loss: 0.2028 - accuracy: 0.9607\n",
      "Epoch 6/15\n",
      "1527/1527 [==============================] - 0s 18us/step - loss: 0.1640 - accuracy: 0.9725\n",
      "Epoch 7/15\n",
      "1527/1527 [==============================] - 0s 19us/step - loss: 0.1389 - accuracy: 0.9764\n",
      "Epoch 8/15\n",
      "1527/1527 [==============================] - 0s 19us/step - loss: 0.1215 - accuracy: 0.9777\n",
      "Epoch 9/15\n",
      "1527/1527 [==============================] - 0s 19us/step - loss: 0.1079 - accuracy: 0.9810\n",
      "Epoch 10/15\n",
      "1527/1527 [==============================] - 0s 19us/step - loss: 0.0973 - accuracy: 0.9823\n",
      "Epoch 11/15\n",
      "1527/1527 [==============================] - 0s 19us/step - loss: 0.0888 - accuracy: 0.9810\n",
      "Epoch 12/15\n",
      "1527/1527 [==============================] - 0s 19us/step - loss: 0.0815 - accuracy: 0.9849\n",
      "Epoch 13/15\n",
      "1527/1527 [==============================] - 0s 18us/step - loss: 0.0750 - accuracy: 0.9856\n",
      "Epoch 14/15\n",
      "1527/1527 [==============================] - 0s 20us/step - loss: 0.0697 - accuracy: 0.9856\n",
      "Epoch 15/15\n",
      "1527/1527 [==============================] - 0s 21us/step - loss: 0.0648 - accuracy: 0.9895\n"
     ]
    },
    {
     "data": {
      "image/png": "[encoded data removed]",
      "text/plain": [
       "<Figure size 864x432 with 2 Axes>"
      ]
     },
     "metadata": {
      "needs_background": "light"
     },
     "output_type": "display_data"
    },
    {
     "name": "stdout",
     "output_type": "stream",
     "text": [
      "270/270 [==============================] - 0s 404us/step\n",
      "Test Loss: 0.0989\n",
      "Test Accuracy: 0.9741\n"
     ]
    }
   ],
   "source": [
    "## Compile the model\n",
    "model.compile(optimizer=optimizers.SGD(lr=0.1), loss='categorical_crossentropy', metrics=['accuracy'])\n",
    "\n",
    "# Train the model\n",
    "history_init = model.fit(X_train, Y_train, epochs=15, batch_size=32)\n",
    "\n",
    "\n",
    "## Visualizing Training Progress\n",
    "plt.figure(figsize=(12, 6))\n",
    "\n",
    "# Training Loss\n",
    "plt.subplot(1, 2, 1)\n",
    "plt.plot(history_init.history['loss'])\n",
    "plt.title('Loss with Normal Initialization')\n",
    "\n",
    "# Training Accuracy\n",
    "plt.subplot(1, 2, 2)\n",
    "plt.plot(history_init.history['accuracy'])\n",
    "plt.title('Accuracy with Normal Initialization')\n",
    "plt.show()\n",
    "\n",
    "\n",
    "## Ensure one-hot encoding for labels\n",
    "Y_train = to_categorical(y_train)\n",
    "Y_test = to_categorical(y_test)\n",
    "\n",
    "# Evaluate on test data\n",
    "test_loss, test_accuracy = model.evaluate(X_test, Y_test)\n",
    "print(f\"Test Loss: {test_loss:.4f}\")\n",
    "print(f\"Test Accuracy: {test_accuracy:.4f}\")"
   ]
  },
  {
   "cell_type": "markdown",
   "id": "7e2f2d84-3eec-46b8-90cf-30cdd1550efc",
   "metadata": {
    "jp-MarkdownHeadingCollapsed": true,
    "tags": []
   },
   "source": [
    "# Step 6: Building and Training the Neural Network (more layers or neurons (H --> 200))"
   ]
  },
  {
   "cell_type": "code",
   "execution_count": 62,
   "id": "809888ba-3daf-49a7-82a8-506304b7f7bd",
   "metadata": {},
   "outputs": [
    {
     "name": "stdout",
     "output_type": "stream",
     "text": [
      "Neural Network is built with more layers or neurons\n"
     ]
    }
   ],
   "source": [
    "from keras import initializers\n",
    "\n",
    "# Use normal initialization\n",
    "normal_init = initializers.RandomNormal(stddev=0.01)\n",
    "\n",
    "model = Sequential()\n",
    "model.add(Dense(200, input_dim=N, kernel_initializer=normal_init))\n",
    "model.add(Activation(\"tanh\"))\n",
    "model.add(Dense(K, kernel_initializer=normal_init))\n",
    "model.add(Activation(\"softmax\"))\n",
    "\n",
    "print(\"Neural Network is built with more layers or neurons\")"
   ]
  },
  {
   "cell_type": "markdown",
   "id": "d3f60ed3-058b-442b-9726-43e64dfa33f3",
   "metadata": {},
   "source": [
    "## Step 6.1: Train the Model (different optimizer (SGD --> optimizers.Adam))"
   ]
  },
  {
   "cell_type": "code",
   "execution_count": 63,
   "id": "7ead0bd5-0678-4cbb-ad38-6d60f4c73c0d",
   "metadata": {},
   "outputs": [
    {
     "name": "stdout",
     "output_type": "stream",
     "text": [
      "Epoch 1/15\n",
      "1527/1527 [==============================] - 0s 132us/step - loss: 1.6028 - accuracy: 0.7675\n",
      "Epoch 2/15\n",
      "1527/1527 [==============================] - 0s 23us/step - loss: 0.5010 - accuracy: 0.8867\n",
      "Epoch 3/15\n",
      "1527/1527 [==============================] - 0s 22us/step - loss: 0.2427 - accuracy: 0.9456\n",
      "Epoch 4/15\n",
      "1527/1527 [==============================] - 0s 21us/step - loss: 0.1633 - accuracy: 0.9692\n",
      "Epoch 5/15\n",
      "1527/1527 [==============================] - 0s 22us/step - loss: 0.1249 - accuracy: 0.9731\n",
      "Epoch 6/15\n",
      "1527/1527 [==============================] - 0s 20us/step - loss: 0.1011 - accuracy: 0.9784\n",
      "Epoch 7/15\n",
      "1527/1527 [==============================] - 0s 21us/step - loss: 0.0866 - accuracy: 0.9843\n",
      "Epoch 8/15\n",
      "1527/1527 [==============================] - 0s 20us/step - loss: 0.0728 - accuracy: 0.9849\n",
      "Epoch 9/15\n",
      "1527/1527 [==============================] - 0s 21us/step - loss: 0.0632 - accuracy: 0.9882\n",
      "Epoch 10/15\n",
      "1527/1527 [==============================] - 0s 20us/step - loss: 0.0546 - accuracy: 0.9915\n",
      "Epoch 11/15\n",
      "1527/1527 [==============================] - 0s 21us/step - loss: 0.0478 - accuracy: 0.9928\n",
      "Epoch 12/15\n",
      "1527/1527 [==============================] - 0s 21us/step - loss: 0.0419 - accuracy: 0.9948\n",
      "Epoch 13/15\n",
      "1527/1527 [==============================] - 0s 22us/step - loss: 0.0376 - accuracy: 0.9941\n",
      "Epoch 14/15\n",
      "1527/1527 [==============================] - 0s 21us/step - loss: 0.0334 - accuracy: 0.9954\n",
      "Epoch 15/15\n",
      "1527/1527 [==============================] - 0s 21us/step - loss: 0.0290 - accuracy: 0.9974\n"
     ]
    },
    {
     "data": {
      "image/png": "[encoded data removed]",
      "text/plain": [
       "<Figure size 864x432 with 2 Axes>"
      ]
     },
     "metadata": {
      "needs_background": "light"
     },
     "output_type": "display_data"
    },
    {
     "name": "stdout",
     "output_type": "stream",
     "text": [
      "270/270 [==============================] - 0s 346us/step\n",
      "Test Loss: 0.0784\n",
      "Test Accuracy: 0.9704\n"
     ]
    }
   ],
   "source": [
    "## Compile the model\n",
    "model.compile(optimizer=optimizers.Adam(), loss='categorical_crossentropy', metrics=['accuracy'])\n",
    "\n",
    "# Train the model\n",
    "history_init = model.fit(X_train, Y_train, epochs=15, batch_size=32)\n",
    "\n",
    "\n",
    "## Visualizing Training Progress\n",
    "plt.figure(figsize=(12, 6))\n",
    "\n",
    "# Training Loss\n",
    "plt.subplot(1, 2, 1)\n",
    "plt.plot(history_init.history['loss'])\n",
    "plt.title('Loss with Normal Initialization')\n",
    "\n",
    "# Training Accuracy\n",
    "plt.subplot(1, 2, 2)\n",
    "plt.plot(history_init.history['accuracy'])\n",
    "plt.title('Accuracy with Normal Initialization')\n",
    "plt.show()\n",
    "\n",
    "\n",
    "## Ensure one-hot encoding for labels\n",
    "Y_train = to_categorical(y_train)\n",
    "Y_test = to_categorical(y_test)\n",
    "\n",
    "# Evaluate on test data\n",
    "test_loss, test_accuracy = model.evaluate(X_test, Y_test)\n",
    "print(f\"Test Loss: {test_loss:.4f}\")\n",
    "print(f\"Test Accuracy: {test_accuracy:.4f}\")"
   ]
  },
  {
   "cell_type": "code",
   "execution_count": null,
   "id": "bcbb68f2-8f5d-49b8-87c2-5838f64a6081",
   "metadata": {},
   "outputs": [],
   "source": []
  }
 ],
 "metadata": {
  "kernelspec": {
   "display_name": "Python 3",
   "language": "python",
   "name": "python3"
  },
  "language_info": {
   "codemirror_mode": {
    "name": "ipython",
    "version": 3
   },
   "file_extension": ".py",
   "mimetype": "text/x-python",
   "name": "python",
   "nbconvert_exporter": "python",
   "pygments_lexer": "ipython3",
   "version": "3.6.8"
  }
 },
 "nbformat": 4,
 "nbformat_minor": 5
}
