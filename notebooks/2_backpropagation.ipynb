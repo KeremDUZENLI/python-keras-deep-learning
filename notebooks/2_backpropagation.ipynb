{
 "cells": [
  {
   "cell_type": "markdown",
   "id": "7be7f85c-dc95-4df9-b87b-66ce86956bf9",
   "metadata": {
    "jp-MarkdownHeadingCollapsed": true,
    "tags": []
   },
   "source": [
    "# Step 1: Loading and Exploring the Dataset"
   ]
  },
  {
   "cell_type": "code",
   "execution_count": 1,
   "id": "f4b51bd2-33ab-4872-922c-ffb682cf419e",
   "metadata": {},
   "outputs": [
    {
     "name": "stdout",
     "output_type": "stream",
     "text": [
      "Dataset shape: (1797, 64)\n"
     ]
    },
    {
     "data": {
      "image/png": "[encoded data removed]",
      "text/plain": [
       "<Figure size 216x216 with 1 Axes>"
      ]
     },
     "metadata": {
      "needs_background": "light"
     },
     "output_type": "display_data"
    }
   ],
   "source": [
    "import matplotlib.pyplot as plt\n",
    "import numpy as np\n",
    "from sklearn.datasets import load_digits\n",
    "\n",
    "# Load the digits dataset\n",
    "digits = load_digits()\n",
    "\n",
    "# Print the shape of the data\n",
    "print(\"Dataset shape:\", digits.data.shape)\n",
    "\n",
    "# Display a sample image\n",
    "sample_index = 45\n",
    "plt.figure(figsize=(3, 3))\n",
    "plt.imshow(digits.images[sample_index], cmap=plt.cm.gray_r, interpolation='nearest')\n",
    "plt.title(f\"Image label: {digits.target[sample_index]}\")\n",
    "plt.show()"
   ]
  },
  {
   "cell_type": "markdown",
   "id": "6f6ade1a-c261-4c97-a33d-8f8924d7e5d5",
   "metadata": {
    "jp-MarkdownHeadingCollapsed": true,
    "tags": []
   },
   "source": [
    "# Step 2: Preprocessing the Data"
   ]
  },
  {
   "cell_type": "code",
   "execution_count": 2,
   "id": "8e3f8ad9-11c2-43e7-99a3-dd43bf627531",
   "metadata": {},
   "outputs": [
    {
     "name": "stdout",
     "output_type": "stream",
     "text": [
      "Training set shape: (1527, 64)\n",
      "Test set shape: (270, 64)\n"
     ]
    }
   ],
   "source": [
    "from sklearn.model_selection import train_test_split\n",
    "from sklearn import preprocessing\n",
    "\n",
    "# Convert data to appropriate types\n",
    "data = np.asarray(digits.data, dtype='float32')\n",
    "target = np.asarray(digits.target, dtype='int32')\n",
    "\n",
    "# Split into training and test sets\n",
    "X_train, X_test, y_train, y_test = train_test_split(data, target, test_size=0.15, random_state=37)\n",
    "\n",
    "# Normalize the data\n",
    "scaler = preprocessing.StandardScaler()\n",
    "X_train = scaler.fit_transform(X_train)\n",
    "X_test = scaler.transform(X_test)\n",
    "\n",
    "# Print shapes of the resulting sets\n",
    "print(\"Training set shape:\", X_train.shape)\n",
    "print(\"Test set shape:\", X_test.shape)"
   ]
  },
  {
   "cell_type": "markdown",
   "id": "104d0867-aa57-4d4d-9978-580574240260",
   "metadata": {
    "jp-MarkdownHeadingCollapsed": true,
    "tags": []
   },
   "source": [
    "# Step 3: Helper Functions"
   ]
  },
  {
   "cell_type": "code",
   "execution_count": 4,
   "id": "5de0d32e-70d2-43d9-b7cb-6101bf237728",
   "metadata": {},
   "outputs": [
    {
     "name": "stdout",
     "output_type": "stream",
     "text": [
      "One-hot encoding for label 3: [[0. 0. 0. 1. 0. 0. 0. 0. 0. 0.]]\n",
      "One-hot encoding for labels [0, 4, 9, 1]:\n",
      " [[1. 0. 0. 0. 0. 0. 0. 0. 0. 0.]\n",
      " [0. 0. 0. 0. 1. 0. 0. 0. 0. 0.]\n",
      " [0. 0. 0. 0. 0. 0. 0. 0. 0. 1.]\n",
      " [0. 1. 0. 0. 0. 0. 0. 0. 0. 0.]]\n",
      "\n",
      "Softmax of a single vector:\n",
      "1.0\n",
      "\n",
      "Softmax of 2 vectors:\n",
      "[[9.99662391e-01 3.35349373e-04 2.25956630e-06]\n",
      " [2.47262316e-03 9.97527377e-01 1.38536042e-11]]\n",
      "\n",
      "Sum of softmax rows:\n",
      "[1. 1.]\n",
      "\n",
      "NLL of confident correct prediction: 0.010050327\n",
      "NLL of confident wrong prediction: 4.6051702\n",
      "\n",
      "Average NLL: 0.0033501089\n"
     ]
    }
   ],
   "source": [
    "def one_hot(n_classes, y):\n",
    "    y = np.array(y)                                  # Ensure NumPy array\n",
    "    one_hot_encoded = np.zeros((y.size, n_classes))  # Zero matrix\n",
    "    one_hot_encoded[np.arange(y.size), y] = 1        # Set 1 at correct indices\n",
    "    return one_hot_encoded\n",
    "\n",
    "print(\"One-hot encoding for label 3:\", one_hot(n_classes=10, y=3))\n",
    "print(\"One-hot encoding for labels [0, 4, 9, 1]:\\n\", one_hot(n_classes=10, y=[0, 4, 9, 1]))\n",
    "\n",
    "\n",
    "def softmax(X):\n",
    "    X = np.array(X)\n",
    "    if X.ndim == 1:        # Single vector\n",
    "        X = X - np.max(X)  # Stabilize\n",
    "        exp_X = np.exp(X)\n",
    "        return exp_X / np.sum(exp_X)\n",
    "    elif X.ndim == 2:      # Matrix (batch)\n",
    "        X = X - np.max(X, axis=1, keepdims=True)\n",
    "        exp_X = np.exp(X)\n",
    "        return exp_X / np.sum(exp_X, axis=1, keepdims=True)\n",
    "\n",
    "print(\"\\nSoftmax of a single vector:\")\n",
    "print(np.sum(softmax([10, 2, -3])))  # Should sum to 1\n",
    "\n",
    "print(\"\\nSoftmax of 2 vectors:\")\n",
    "X = np.array([[10, 2, -3], [-1, 5, -20]])\n",
    "print(softmax(X))  # Each row should sum to 1\n",
    "\n",
    "print(\"\\nSum of softmax rows:\")\n",
    "print(np.sum(softmax(X), axis=1))  # Should be [1, 1]\n",
    "\n",
    "\n",
    "def nll(Y_true, Y_pred):\n",
    "    Y_true = np.array(Y_true, dtype=np.float32)\n",
    "    Y_pred = np.array(Y_pred, dtype=np.float32)\n",
    "    epsilon = 1e-10  # Prevent log(0)\n",
    "    Y_pred = np.clip(Y_pred, epsilon, 1.0)\n",
    "    if Y_true.ndim == 1:  # Single example\n",
    "        Y_true = Y_true.reshape(1, -1)\n",
    "        Y_pred = Y_pred.reshape(1, -1)\n",
    "    return -np.mean(np.sum(Y_true * np.log(Y_pred), axis=1))\n",
    "\n",
    "print(\"\\nNLL of confident correct prediction:\", nll([1, 0, 0], [.99, 0.01, 0]))  # Near 0\n",
    "print(\"NLL of confident wrong prediction:\", nll([1, 0, 0], [0.01, 0.01, .98]))  # Large\n",
    "\n",
    "# Test with multiple samples\n",
    "Y_true = np.array([[0, 1, 0], [1, 0, 0], [0, 0, 1]])\n",
    "Y_pred = np.array([[0,   1,    0], [.99, 0.01, 0], [0,   0,    1]])\n",
    "\n",
    "# Should be close to 0 for perfect prediction\n",
    "print(\"\\nAverage NLL:\", nll(Y_true, Y_pred))"
   ]
  },
  {
   "cell_type": "markdown",
   "id": "c5d9051e-9993-4914-90e2-33fab22344b3",
   "metadata": {
    "jp-MarkdownHeadingCollapsed": true,
    "tags": []
   },
   "source": [
    "# Step 4: Logistic Regression"
   ]
  },
  {
   "cell_type": "code",
   "execution_count": 7,
   "id": "80690e2d-6f6a-4642-be6b-77c43484e061",
   "metadata": {},
   "outputs": [
    {
     "name": "stdout",
     "output_type": "stream",
     "text": [
      "\n",
      "Evaluation of the untrained model:\n",
      "Initial train loss= 2.3780 | train acc= 0.079 | test acc= 0.070\n"
     ]
    }
   ],
   "source": [
    "class LogisticRegression:\n",
    "    def __init__(self, input_size, output_size):\n",
    "        self.W = np.random.uniform(size=(input_size, output_size), high=0.1, low=-0.1)\n",
    "        self.b = np.random.uniform(size=output_size, high=0.1, low=-0.1)\n",
    "        self.output_size = output_size\n",
    "\n",
    "    def forward(self, X):\n",
    "        Z = np.dot(X, self.W) + self.b\n",
    "        return softmax(Z)\n",
    "\n",
    "    def predict(self, X):\n",
    "        if len(X.shape) == 1:\n",
    "            return np.argmax(self.forward(X))\n",
    "        else:\n",
    "            return np.argmax(self.forward(X), axis=1)\n",
    "\n",
    "    def grad_loss(self, x, y_true):\n",
    "        y_pred = self.forward(x)\n",
    "        target = one_hot(self.output_size, y_true)\n",
    "        if target.ndim > 1:\n",
    "            target = target.squeeze()\n",
    "        dnll_output = y_pred - target\n",
    "        grad_W = x[:, np.newaxis] @ dnll_output[np.newaxis, :]\n",
    "        grad_b = dnll_output\n",
    "        return {\"W\": grad_W, \"b\": grad_b}\n",
    "\n",
    "    def train(self, x, y, learning_rate):\n",
    "        grads = self.grad_loss(x, y)\n",
    "        self.W -= learning_rate * grads[\"W\"]\n",
    "        self.b -= learning_rate * grads[\"b\"]\n",
    "\n",
    "    def loss(self, x, y):\n",
    "        return nll(one_hot(self.output_size, y), self.forward(x))\n",
    "\n",
    "    def accuracy(self, X, y):\n",
    "        if len(X.shape) == 1:\n",
    "            X = X[np.newaxis, :]\n",
    "        y_preds = self.forward(X)\n",
    "        return np.mean(np.argmax(y_preds, axis=1) == y)\n",
    "\n",
    "\n",
    "# Build a model and test its forward inference\n",
    "n_features = X_train.shape[1]\n",
    "n_classes = len(np.unique(y_train))\n",
    "lr = LogisticRegression(n_features, n_classes)\n",
    "\n",
    "# Evaluate untrained model\n",
    "print(\"\\nEvaluation of the untrained model:\")\n",
    "train_loss = lr.loss(X_train, y_train)\n",
    "train_acc = lr.accuracy(X_train, y_train)\n",
    "test_acc = lr.accuracy(X_test, y_test)\n",
    "print(f\"Initial train loss= {train_loss:.4f} | train acc= {train_acc:.3f} | test acc= {test_acc:.3f}\")"
   ]
  },
  {
   "cell_type": "markdown",
   "id": "952745ba-6473-41a0-892a-4a1f09bfba53",
   "metadata": {
    "jp-MarkdownHeadingCollapsed": true,
    "tags": []
   },
   "source": [
    "# Step 5: Visualizing Predictions"
   ]
  },
  {
   "cell_type": "code",
   "execution_count": 8,
   "id": "ed438d7b-66ba-4ab3-9877-71ed74425eda",
   "metadata": {},
   "outputs": [
    {
     "data": {
      "image/png": "[encoded data removed]",
      "text/plain": [
       "<Figure size 720x288 with 2 Axes>"
      ]
     },
     "metadata": {
      "needs_background": "light"
     },
     "output_type": "display_data"
    }
   ],
   "source": [
    "def plot_prediction(model, sample_idx=0, classes=range(10)):\n",
    "    fig, (ax0, ax1) = plt.subplots(nrows=1, ncols=2, figsize=(10, 4))\n",
    "    # Display the image\n",
    "    ax0.imshow(scaler.inverse_transform(X_test[sample_idx].reshape(1, -1)).reshape(8, 8),\n",
    "               cmap=plt.cm.gray_r, interpolation='nearest')\n",
    "    ax0.set_title(f\"True image label: {y_test[sample_idx]}\")\n",
    "    # Get probabilities and prediction\n",
    "    probabilities = model.forward(X_test[sample_idx])\n",
    "    predicted_label = model.predict(X_test[sample_idx])\n",
    "    # Plot true vs predicted\n",
    "    true_class = np.zeros(len(classes))\n",
    "    true_class[y_test[sample_idx]] = 1\n",
    "    ax1.bar(classes, true_class, label='True')\n",
    "    ax1.bar(classes, probabilities, label='Prediction', color=\"red\", alpha=0.5)\n",
    "    ax1.set_xticks(classes)\n",
    "    ax1.set_title(f'Output probabilities (prediction: {predicted_label})')\n",
    "    ax1.set_xlabel('Digit class')\n",
    "    ax1.legend()\n",
    "    plt.show()\n",
    "\n",
    "# Test with sample 0\n",
    "plot_prediction(lr, sample_idx=0)"
   ]
  },
  {
   "cell_type": "markdown",
   "id": "2b331236-8795-4805-a313-a3cbab6c63ed",
   "metadata": {
    "jp-MarkdownHeadingCollapsed": true,
    "tags": []
   },
   "source": [
    "# Step 6: Training the Logistic Regression Model"
   ]
  },
  {
   "cell_type": "code",
   "execution_count": 6,
   "id": "34634575-acad-48d8-9dfb-cb59db9a24b0",
   "metadata": {},
   "outputs": [
    {
     "name": "stdout",
     "output_type": "stream",
     "text": [
      "Update #0, train loss: 2.4448, train acc: 0.045, test acc: 0.056\n",
      "Update #100, train loss: 1.3549, train acc: 0.657, test acc: 0.674\n",
      "Update #200, train loss: 0.8849, train acc: 0.845, test acc: 0.856\n",
      "Update #300, train loss: 0.6451, train acc: 0.898, test acc: 0.900\n",
      "Update #400, train loss: 0.5364, train acc: 0.905, test acc: 0.930\n",
      "Update #500, train loss: 0.4635, train acc: 0.917, test acc: 0.930\n",
      "Update #600, train loss: 0.4078, train acc: 0.925, test acc: 0.933\n",
      "Update #700, train loss: 0.3691, train acc: 0.935, test acc: 0.941\n",
      "Update #800, train loss: 0.3487, train acc: 0.933, test acc: 0.948\n",
      "Update #900, train loss: 0.3229, train acc: 0.938, test acc: 0.948\n",
      "Update #1000, train loss: 0.3030, train acc: 0.946, test acc: 0.952\n",
      "Update #1100, train loss: 0.2837, train acc: 0.946, test acc: 0.948\n",
      "Update #1200, train loss: 0.2721, train acc: 0.947, test acc: 0.956\n",
      "Update #1300, train loss: 0.2624, train acc: 0.948, test acc: 0.941\n",
      "Update #1400, train loss: 0.2475, train acc: 0.953, test acc: 0.952\n",
      "Update #1500, train loss: 0.2365, train acc: 0.955, test acc: 0.952\n"
     ]
    },
    {
     "data": {
      "image/png": "[encoded data removed]",
      "text/plain": [
       "<Figure size 720x288 with 2 Axes>"
      ]
     },
     "metadata": {
      "needs_background": "light"
     },
     "output_type": "display_data"
    }
   ],
   "source": [
    "# Train for one epoch\n",
    "learning_rate = 0.01\n",
    "for i, (x, y) in enumerate(zip(X_train, y_train)):\n",
    "    lr.train(x, y, learning_rate)\n",
    "    if i % 100 == 0:\n",
    "        train_loss = lr.loss(X_train, y_train)\n",
    "        train_acc = lr.accuracy(X_train, y_train)\n",
    "        test_acc = lr.accuracy(X_test, y_test)\n",
    "        print(f\"Update #{i}, train loss: {train_loss:.4f}, train acc: {train_acc:.3f}, test acc: {test_acc:.3f}\")\n",
    "\n",
    "# Visualize after training\n",
    "plot_prediction(lr, sample_idx=0)"
   ]
  },
  {
   "cell_type": "markdown",
   "id": "5acd9e0e-7fae-4318-b133-aac84605898b",
   "metadata": {
    "jp-MarkdownHeadingCollapsed": true,
    "tags": []
   },
   "source": [
    "# Step 7: Sigmoid and DSigmoid"
   ]
  },
  {
   "cell_type": "code",
   "execution_count": 9,
   "id": "669848ff-e62e-4de3-9799-57eb7f7fd0be",
   "metadata": {},
   "outputs": [
    {
     "data": {
      "image/png": "[encoded data removed]",
      "text/plain": [
       "<Figure size 432x288 with 1 Axes>"
      ]
     },
     "metadata": {
      "needs_background": "light"
     },
     "output_type": "display_data"
    }
   ],
   "source": [
    "def sigmoid(X):\n",
    "    return 1 / (1 + np.exp(-X))\n",
    "\n",
    "def dsigmoid(X):\n",
    "    s = sigmoid(X)\n",
    "    return s * (1 - s)\n",
    "\n",
    "# Visualize sigmoid\n",
    "x = np.linspace(-5, 5, 100)\n",
    "plt.plot(x, sigmoid(x), label='sigmoid')\n",
    "plt.plot(x, dsigmoid(x), label='dsigmoid')\n",
    "plt.title(\"Sigmoid and Its Derivative\")\n",
    "plt.legend()\n",
    "plt.show()"
   ]
  },
  {
   "cell_type": "markdown",
   "id": "a0d81e35-4946-4a76-809f-472e92fa372c",
   "metadata": {
    "jp-MarkdownHeadingCollapsed": true,
    "tags": []
   },
   "source": [
    "# Step 8: Neural Network"
   ]
  },
  {
   "cell_type": "code",
   "execution_count": 10,
   "id": "bc6fd7b2-6c57-46de-ac7d-ab37bc38458d",
   "metadata": {},
   "outputs": [
    {
     "data": {
      "image/png": "[encoded data removed]",
      "text/plain": [
       "<Figure size 720x288 with 2 Axes>"
      ]
     },
     "metadata": {
      "needs_background": "light"
     },
     "output_type": "display_data"
    },
    {
     "name": "stdout",
     "output_type": "stream",
     "text": [
      "Initial loss: 2.314904\n",
      "Initial accuracy: 0.03798297314996726\n"
     ]
    }
   ],
   "source": [
    "class NeuralNet:\n",
    "    def __init__(self, input_size, hidden_size, output_size):\n",
    "        self.W_h = np.random.uniform(low=-0.1, high=0.1, size=(input_size, hidden_size))\n",
    "        self.b_h = np.zeros(hidden_size)\n",
    "        self.W_o = np.random.uniform(low=-0.1, high=0.1, size=(hidden_size, output_size))\n",
    "        self.b_o = np.zeros(output_size)\n",
    "        self.output_size = output_size\n",
    "\n",
    "    def forward(self, X):\n",
    "        z_h = np.dot(X, self.W_h) + self.b_h\n",
    "        h = sigmoid(z_h)\n",
    "        z_o = np.dot(h, self.W_o) + self.b_o\n",
    "        y = softmax(z_o)\n",
    "        return y\n",
    "\n",
    "    def loss(self, X, y):\n",
    "        return nll(one_hot(self.output_size, y), self.forward(X))\n",
    "\n",
    "    def forward_keep_activations(self, X):\n",
    "        z_h = np.dot(X, self.W_h) + self.b_h\n",
    "        h = sigmoid(z_h)\n",
    "        z_o = np.dot(h, self.W_o) + self.b_o\n",
    "        y = softmax(z_o)\n",
    "        return y, h, z_h\n",
    "\n",
    "    def grad_loss(self, x, y_true):\n",
    "        y, h, z_h = self.forward_keep_activations(x)\n",
    "        target = one_hot(self.output_size, y_true)\n",
    "        if target.ndim > 1:\n",
    "            target = target.squeeze()\n",
    "        grad_z_o = y - target\n",
    "        grad_W_o = np.outer(h, grad_z_o)\n",
    "        grad_b_o = grad_z_o\n",
    "        grad_h = np.dot(grad_z_o, self.W_o.T)\n",
    "        grad_z_h = grad_h * dsigmoid(z_h)\n",
    "        grad_W_h = np.outer(x, grad_z_h)\n",
    "        grad_b_h = grad_z_h\n",
    "        return {\"W_h\": grad_W_h, \"b_h\": grad_b_h, \"W_o\": grad_W_o, \"b_o\": grad_b_o}\n",
    "\n",
    "    def train(self, x, y, learning_rate):\n",
    "        grads = self.grad_loss(x, y)\n",
    "        self.W_h -= learning_rate * grads[\"W_h\"]\n",
    "        self.b_h -= learning_rate * grads[\"b_h\"]\n",
    "        self.W_o -= learning_rate * grads[\"W_o\"]\n",
    "        self.b_o -= learning_rate * grads[\"b_o\"]\n",
    "\n",
    "    def predict(self, X):\n",
    "        if len(X.shape) == 1:\n",
    "            return np.argmax(self.forward(X))\n",
    "        else:\n",
    "            return np.argmax(self.forward(X), axis=1)\n",
    "\n",
    "    def accuracy(self, X, y):\n",
    "        if X.ndim == 1:\n",
    "            X = X[np.newaxis, :]\n",
    "        return np.mean(self.predict(X) == y)\n",
    "\n",
    "\n",
    "# Initialize and test\n",
    "n_hidden = 10\n",
    "model = NeuralNet(n_features, n_hidden, n_classes)\n",
    "plot_prediction(model, sample_idx=5)\n",
    "print(\"Initial loss:\", model.loss(X_train, y_train))\n",
    "print(\"Initial accuracy:\", model.accuracy(X_train, y_train))"
   ]
  },
  {
   "cell_type": "markdown",
   "id": "de732ce5-d5da-4bf8-b96e-ce6f80ad9366",
   "metadata": {
    "jp-MarkdownHeadingCollapsed": true,
    "tags": []
   },
   "source": [
    "# Step 9: Epochs"
   ]
  },
  {
   "cell_type": "code",
   "execution_count": 11,
   "id": "65eb7fcc-9ad5-4375-be3f-00a80df1a0a1",
   "metadata": {},
   "outputs": [
    {
     "name": "stdout",
     "output_type": "stream",
     "text": [
      "\n",
      "Random init: train loss: 2.31490, train acc: 0.038, test acc: 0.033\n",
      "Epoch 1, train loss: 0.29505, train acc: 0.938, test acc: 0.907\n",
      "Epoch 2, train loss: 0.15754, train acc: 0.966, test acc: 0.922\n",
      "Epoch 3, train loss: 0.12410, train acc: 0.973, test acc: 0.930\n",
      "Epoch 4, train loss: 0.09452, train acc: 0.981, test acc: 0.930\n",
      "Epoch 5, train loss: 0.07032, train acc: 0.986, test acc: 0.941\n",
      "Epoch 6, train loss: 0.07001, train acc: 0.983, test acc: 0.926\n",
      "Epoch 7, train loss: 0.05199, train acc: 0.988, test acc: 0.948\n",
      "Epoch 8, train loss: 0.04370, train acc: 0.992, test acc: 0.944\n",
      "Epoch 9, train loss: 0.03853, train acc: 0.993, test acc: 0.941\n",
      "Epoch 10, train loss: 0.03367, train acc: 0.997, test acc: 0.941\n",
      "Epoch 11, train loss: 0.03002, train acc: 0.997, test acc: 0.944\n",
      "Epoch 12, train loss: 0.02635, train acc: 0.997, test acc: 0.948\n",
      "Epoch 13, train loss: 0.02444, train acc: 0.997, test acc: 0.952\n",
      "Epoch 14, train loss: 0.02322, train acc: 0.997, test acc: 0.948\n",
      "Epoch 15, train loss: 0.02118, train acc: 0.998, test acc: 0.948\n"
     ]
    },
    {
     "data": {
      "image/png": "[encoded data removed]",
      "text/plain": [
       "<Figure size 432x288 with 1 Axes>"
      ]
     },
     "metadata": {
      "needs_background": "light"
     },
     "output_type": "display_data"
    },
    {
     "data": {
      "image/png": "[encoded data removed]",
      "text/plain": [
       "<Figure size 432x288 with 1 Axes>"
      ]
     },
     "metadata": {
      "needs_background": "light"
     },
     "output_type": "display_data"
    },
    {
     "data": {
      "image/png": "[encoded data removed]",
      "text/plain": [
       "<Figure size 720x288 with 2 Axes>"
      ]
     },
     "metadata": {
      "needs_background": "light"
     },
     "output_type": "display_data"
    }
   ],
   "source": [
    "# Train for 15 epochs\n",
    "losses, accuracies, accuracies_test = [], [], []\n",
    "losses.append(model.loss(X_train, y_train))\n",
    "accuracies.append(model.accuracy(X_train, y_train))\n",
    "accuracies_test.append(model.accuracy(X_test, y_test))\n",
    "print(f\"\\nRandom init: train loss: {losses[-1]:.5f}, train acc: {accuracies[-1]:.3f}, test acc: {accuracies_test[-1]:.3f}\")\n",
    "\n",
    "for epoch in range(15):\n",
    "    for i, (x, y) in enumerate(zip(X_train, y_train)):\n",
    "        model.train(x, y, 0.1)\n",
    "    losses.append(model.loss(X_train, y_train))\n",
    "    accuracies.append(model.accuracy(X_train, y_train))\n",
    "    accuracies_test.append(model.accuracy(X_test, y_test))\n",
    "    print(f\"Epoch {epoch+1}, train loss: {losses[-1]:.5f}, train acc: {accuracies[-1]:.3f}, test acc: {accuracies_test[-1]:.3f}\")\n",
    "\n",
    "# Plot training progress\n",
    "plt.figure()\n",
    "plt.plot(losses)\n",
    "plt.title(\"Training Loss\")\n",
    "plt.xlabel(\"Epoch\")\n",
    "plt.ylabel(\"Loss\")\n",
    "plt.show()\n",
    "\n",
    "plt.figure()\n",
    "plt.plot(accuracies, label='Train Accuracy')\n",
    "plt.plot(accuracies_test, label='Test Accuracy')\n",
    "plt.ylim(0, 1.1)\n",
    "plt.ylabel(\"Accuracy\")\n",
    "plt.legend()\n",
    "plt.show()\n",
    "\n",
    "# Visualize prediction\n",
    "plot_prediction(model, sample_idx=4)"
   ]
  },
  {
   "cell_type": "markdown",
   "id": "69a9aa1c-ed45-4556-80f0-e6c2116bf08b",
   "metadata": {
    "jp-MarkdownHeadingCollapsed": true,
    "tags": []
   },
   "source": [
    "# Step 10: Neural Network with TensorFlow"
   ]
  },
  {
   "cell_type": "code",
   "execution_count": 12,
   "id": "a8085b5e-5997-47bc-bb60-a8e4f8594a69",
   "metadata": {},
   "outputs": [
    {
     "name": "stdout",
     "output_type": "stream",
     "text": [
      "Epoch 0, Train acc: 0.111, Test acc: 0.067\n",
      "Epoch 1, Train acc: 0.474, Test acc: 0.415\n",
      "Epoch 2, Train acc: 0.771, Test acc: 0.752\n",
      "Epoch 3, Train acc: 0.824, Test acc: 0.796\n",
      "Epoch 4, Train acc: 0.874, Test acc: 0.863\n",
      "Epoch 5, Train acc: 0.916, Test acc: 0.911\n",
      "Epoch 6, Train acc: 0.944, Test acc: 0.930\n",
      "Epoch 7, Train acc: 0.954, Test acc: 0.944\n",
      "Epoch 8, Train acc: 0.963, Test acc: 0.948\n",
      "Epoch 9, Train acc: 0.968, Test acc: 0.956\n"
     ]
    },
    {
     "data": {
      "image/png": "[encoded data removed]",
      "text/plain": [
       "<Figure size 432x288 with 1 Axes>"
      ]
     },
     "metadata": {
      "needs_background": "light"
     },
     "output_type": "display_data"
    }
   ],
   "source": [
    "import tensorflow as tf\n",
    "\n",
    "# Hyperparameters\n",
    "batch_size = 32\n",
    "hid_size = 15\n",
    "learning_rate = 0.01\n",
    "num_epochs = 10\n",
    "input_size = X_train.shape[1]\n",
    "output_size = 10\n",
    "\n",
    "# Placeholders\n",
    "X = tf.placeholder(\"float32\", shape=[None, input_size])\n",
    "y = tf.placeholder(\"int32\", shape=[None])\n",
    "\n",
    "# Weight initialization\n",
    "def init_weights(shape):\n",
    "    return tf.Variable(tf.random_normal(shape, stddev=0.01))\n",
    "\n",
    "# Model\n",
    "W_h = init_weights([input_size, hid_size])\n",
    "b_h = init_weights([hid_size])\n",
    "h = tf.nn.sigmoid(tf.matmul(X, W_h) + b_h)\n",
    "W_o = init_weights([hid_size, output_size])\n",
    "b_o = init_weights([output_size])\n",
    "out_act = tf.matmul(h, W_o) + b_o\n",
    "\n",
    "# Loss and optimizer\n",
    "cross_entropy = tf.nn.sparse_softmax_cross_entropy_with_logits(logits=out_act, labels=y)\n",
    "loss = tf.reduce_sum(cross_entropy)\n",
    "optimizer = tf.train.GradientDescentOptimizer(learning_rate)\n",
    "train_op = optimizer.minimize(loss)\n",
    "\n",
    "# Prediction\n",
    "predict = tf.nn.softmax(out_act)\n",
    "\n",
    "# Training\n",
    "init = tf.global_variables_initializer()\n",
    "with tf.Session() as sess:\n",
    "    sess.run(init)\n",
    "    losses = []\n",
    "    for e in range(num_epochs):\n",
    "        for i in range(X_train.shape[0] // batch_size):\n",
    "            idx = i * batch_size\n",
    "            idxn = min(X_train.shape[0], (i + 1) * batch_size)\n",
    "            batch_xs, batch_ys = X_train[idx:idxn], y_train[idx:idxn]\n",
    "            _, l = sess.run([train_op, loss], feed_dict={X: batch_xs, y: batch_ys})\n",
    "            losses.append(l)\n",
    "        # Accuracy\n",
    "        predicts_train = sess.run(predict, feed_dict={X: X_train})\n",
    "        predicts_test = sess.run(predict, feed_dict={X: X_test})\n",
    "        train_acc = np.mean(np.argmax(predicts_train, axis=1) == y_train)\n",
    "        test_acc = np.mean(np.argmax(predicts_test, axis=1) == y_test)\n",
    "        print(f\"Epoch {e}, Train acc: {train_acc:.3f}, Test acc: {test_acc:.3f}\")\n",
    "    \n",
    "    # Plot loss\n",
    "    plt.figure()\n",
    "    plt.plot(losses)\n",
    "    plt.title(\"Loss over Training\")\n",
    "    plt.xlabel(\"Iteration\")\n",
    "    plt.ylabel(\"Loss\")\n",
    "    plt.show()"
   ]
  }
 ],
 "metadata": {
  "kernelspec": {
   "display_name": "Python 3",
   "language": "python",
   "name": "python3"
  },
  "language_info": {
   "codemirror_mode": {
    "name": "ipython",
    "version": 3
   },
   "file_extension": ".py",
   "mimetype": "text/x-python",
   "name": "python",
   "nbconvert_exporter": "python",
   "pygments_lexer": "ipython3",
   "version": "3.6.8"
  }
 },
 "nbformat": 4,
 "nbformat_minor": 5
}
