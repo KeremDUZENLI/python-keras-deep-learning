{
 "cells": [
  {
   "cell_type": "markdown",
   "id": "639256ef-e938-44f5-b0c1-49878e23bfc1",
   "metadata": {},
   "source": [
    "# **PART I: Neural Recommender System** #"
   ]
  },
  {
   "cell_type": "markdown",
   "id": "8bbc98f5-08c1-4221-a958-f1cbc92a53df",
   "metadata": {
    "jp-MarkdownHeadingCollapsed": true,
    "tags": []
   },
   "source": [
    "# Step 1: Loading and Exploring the Dataset"
   ]
  },
  {
   "cell_type": "code",
   "execution_count": 31,
   "id": "46592f01-fd54-4de9-9a93-5d472ddd721e",
   "metadata": {},
   "outputs": [
    {
     "name": "stdout",
     "output_type": "stream",
     "text": [
      "Already downloaded:\t http://files.grouplens.org/datasets/movielens/ml-100k.zip --> Downloads/ml-100k.zip\n",
      "Already extracted:\t Downloads/ml-100k.zip --> Downloads/ml-100k\n"
     ]
    }
   ],
   "source": [
    "import pandas as pd\n",
    "import os.path as op\n",
    "import matplotlib.pyplot as plt\n",
    "\n",
    "from zipfile import ZipFile\n",
    "from urllib.request import urlretrieve\n",
    "\n",
    "try:\n",
    "    from urllib.request import urlretrieve\n",
    "except ImportError:  # Python 2 compat\n",
    "    from urllib import urlretrieve\n",
    "\n",
    "# Download and extract the dataset\n",
    "ML_100K_URL = \"http://files.grouplens.org/datasets/movielens/ml-100k.zip\"\n",
    "ML_100K_FILENAME = \"Downloads/ml-100k.zip\"  # Store ZIP file in 'Downloads' folder\n",
    "ML_100K_FOLDER = \"Downloads/ml-100k\"        # Extract inside 'Downloads' folder\n",
    "\n",
    "\n",
    "if not op.exists(ML_100K_FILENAME):\n",
    "    print(f'Downloading:\\t {ML_100K_URL} --> {ML_100K_FILENAME}')\n",
    "    urlretrieve(ML_100K_URL, ML_100K_FILENAME)\n",
    "else:\n",
    "    print(f'Already downloaded:\\t {ML_100K_URL} --> {ML_100K_FILENAME}')\n",
    "\n",
    "\n",
    "if not op.exists(ML_100K_FOLDER):\n",
    "    print(f'Extracting:\\t {ML_100K_FILENAME} --> {ML_100K_FOLDER}')\n",
    "    ZipFile(ML_100K_FILENAME).extractall(\"Downloads/\")\n",
    "else:\n",
    "    print(f'Already extracted:\\t {ML_100K_FILENAME} --> {ML_100K_FOLDER}')"
   ]
  },
  {
   "cell_type": "markdown",
   "id": "bab5ac30-0b6f-4df7-9141-e21267b6052c",
   "metadata": {},
   "source": [
    "## Step 1.1: See the Content of the Downloaded Files"
   ]
  },
  {
   "cell_type": "code",
   "execution_count": 104,
   "id": "66835104-bfb4-402b-a012-df68fa771fc8",
   "metadata": {},
   "outputs": [
    {
     "name": "stdout",
     "output_type": "stream",
     "text": [
      "Ratings DataFrame:\n",
      "   user_id  item_id  rating  timestamp\n",
      "0      196      242       3  881250949\n",
      "1      186      302       3  891717742\n",
      "2       22      377       1  878887116\n",
      "3      244       51       2  880606923\n",
      "4      166      346       1  886397596\n",
      "\n",
      "Items DataFrame:\n",
      "   item_id              title release_date  video_release_date  \\\n",
      "0        1   Toy Story (1995)  01-Jan-1995                 NaN   \n",
      "1        2   GoldenEye (1995)  01-Jan-1995                 NaN   \n",
      "2        3  Four Rooms (1995)  01-Jan-1995                 NaN   \n",
      "3        4  Get Shorty (1995)  01-Jan-1995                 NaN   \n",
      "4        5     Copycat (1995)  01-Jan-1995                 NaN   \n",
      "\n",
      "                                            imdb_url  \n",
      "0  http://us.imdb.com/M/title-exact?Toy%20Story%2...  \n",
      "1  http://us.imdb.com/M/title-exact?GoldenEye%20(...  \n",
      "2  http://us.imdb.com/M/title-exact?Four%20Rooms%...  \n",
      "3  http://us.imdb.com/M/title-exact?Get%20Shorty%...  \n",
      "4  http://us.imdb.com/M/title-exact?Copycat%20(1995)  \n"
     ]
    }
   ],
   "source": [
    "# Load ratings\n",
    "raw_ratings = pd.read_csv(op.join(ML_100K_FOLDER, 'u.data'), sep='\\t', names=[\"user_id\", \"item_id\", \"rating\", \"timestamp\"])\n",
    "\n",
    "# Load item metadata\n",
    "m_cols = ['item_id', 'title', 'release_date', 'video_release_date', 'imdb_url']\n",
    "items = pd.read_csv(op.join(ML_100K_FOLDER, 'u.item'), sep='|', names=m_cols, usecols=range(5), encoding='latin-1')\n",
    "\n",
    "# Display first few rows\n",
    "print(\"Ratings DataFrame:\")\n",
    "print(raw_ratings.head())\n",
    "print(\"\\nItems DataFrame:\")\n",
    "print(items.head())"
   ]
  },
  {
   "cell_type": "markdown",
   "id": "9e84fd57-f829-499e-9a65-4670f5f902df",
   "metadata": {
    "jp-MarkdownHeadingCollapsed": true,
    "tags": []
   },
   "source": [
    "# Step 2: Preprocessing the Data"
   ]
  },
  {
   "cell_type": "code",
   "execution_count": 33,
   "id": "ea20f850-70ba-4c40-aad8-52e60e9c0390",
   "metadata": {},
   "outputs": [
    {
     "data": {
      "image/png": "[encoded data removed]",
      "text/plain": [
       "<Figure size 432x288 with 1 Axes>"
      ]
     },
     "metadata": {
      "needs_background": "light"
     },
     "output_type": "display_data"
    }
   ],
   "source": [
    "from sklearn.model_selection import train_test_split\n",
    "\n",
    "# Extract release year from release_date\n",
    "def extract_year(release_date):\n",
    "    if isinstance(release_date, str):\n",
    "        components = release_date.split('-')\n",
    "        if len(components) == 3:\n",
    "            return int(components[2])\n",
    "    return 1920  # Default for missing values\n",
    "\n",
    "items['release_year'] = items['release_date'].map(extract_year)\n",
    "\n",
    "# Visualize release year distribution\n",
    "items.hist('release_year', bins=50)\n",
    "plt.title(\"Distribution of Movie Release Years\")\n",
    "plt.xlabel(\"Release Year\")\n",
    "plt.ylabel(\"Number of Movies\")\n",
    "plt.show()"
   ]
  },
  {
   "cell_type": "markdown",
   "id": "6f383317-da32-41fd-b5d8-aeab38a642cf",
   "metadata": {},
   "source": [
    "## Step 2.1: See the Content of the DataFrame"
   ]
  },
  {
   "cell_type": "code",
   "execution_count": 29,
   "id": "5cf80401-1272-4685-a1bf-6e3b0e98112b",
   "metadata": {},
   "outputs": [
    {
     "name": "stdout",
     "output_type": "stream",
     "text": [
      "\n",
      "\n",
      "\n",
      "Merged DataFrame (first 5 rows):\n",
      "    item_id  popularity_x  popularity_y  popularity_x  popularity_y  \\\n",
      "0        1           452           452           452           452   \n",
      "1        1           452           452           452           452   \n",
      "2        1           452           452           452           452   \n",
      "3        1           452           452           452           452   \n",
      "4        1           452           452           452           452   \n",
      "\n",
      "   popularity_x  popularity_y  popularity_x  popularity_y  popularity_x  ...  \\\n",
      "0           452           452           452           452           452  ...   \n",
      "1           452           452           452           452           452  ...   \n",
      "2           452           452           452           452           452  ...   \n",
      "3           452           452           452           452           452  ...   \n",
      "4           452           452           452           452           452  ...   \n",
      "\n",
      "   popularity_x  popularity_y             title  release_date  \\\n",
      "0           452           452  Toy Story (1995)   01-Jan-1995   \n",
      "1           452           452  Toy Story (1995)   01-Jan-1995   \n",
      "2           452           452  Toy Story (1995)   01-Jan-1995   \n",
      "3           452           452  Toy Story (1995)   01-Jan-1995   \n",
      "4           452           452  Toy Story (1995)   01-Jan-1995   \n",
      "\n",
      "   video_release_date                                           imdb_url  \\\n",
      "0                 NaN  http://us.imdb.com/M/title-exact?Toy%20Story%2...   \n",
      "1                 NaN  http://us.imdb.com/M/title-exact?Toy%20Story%2...   \n",
      "2                 NaN  http://us.imdb.com/M/title-exact?Toy%20Story%2...   \n",
      "3                 NaN  http://us.imdb.com/M/title-exact?Toy%20Story%2...   \n",
      "4                 NaN  http://us.imdb.com/M/title-exact?Toy%20Story%2...   \n",
      "\n",
      "   release_year user_id rating  timestamp  \n",
      "0          1995     308      4  887736532  \n",
      "1          1995     287      5  875334088  \n",
      "2          1995     148      4  877019411  \n",
      "3          1995     280      4  891700426  \n",
      "4          1995      66      3  883601324  \n",
      "\n",
      "[5 rows x 25 columns]\n",
      "\n",
      "\n",
      "\n",
      "Max user ID:\n",
      " 943, Max item ID: 1682\n",
      "\n",
      "\n",
      "\n",
      "Rating Statistics:\n",
      " count    100000.000000\n",
      "mean          3.529860\n",
      "std           1.125674\n",
      "min           1.000000\n",
      "25%           3.000000\n",
      "50%           4.000000\n",
      "75%           4.000000\n",
      "max           5.000000\n",
      "Name: rating, dtype: float64\n",
      "\n",
      "\n",
      "\n",
      "Top 10 Most Popular Movies:\n",
      "                          title  popularity\n",
      "              Star Wars (1977)         583\n",
      "                Contact (1997)         509\n",
      "                  Fargo (1996)         508\n",
      "     Return of the Jedi (1983)         507\n",
      "              Liar Liar (1997)         485\n",
      "   English Patient, The (1996)         481\n",
      "                 Scream (1996)         478\n",
      "              Toy Story (1995)         452\n",
      "          Air Force One (1997)         431\n",
      " Independence Day (ID4) (1996)         429\n"
     ]
    }
   ],
   "source": [
    "# Merge ratings with items\n",
    "all_ratings = pd.merge(items, raw_ratings, on='item_id')\n",
    "print(\"Merged DataFrame (first 5 rows):\\n\", all_ratings.head())\n",
    "\n",
    "# Get max user and item IDs\n",
    "max_user_id = all_ratings['user_id'].max()\n",
    "max_item_id = all_ratings['item_id'].max()\n",
    "print(f\"\\n\\n\\nMax user ID:\\n {max_user_id}, Max item ID: {max_item_id}\")\n",
    "\n",
    "# Rating statistics\n",
    "print(\"\\n\\n\\nRating Statistics:\\n\", all_ratings['rating'].describe())\n",
    "\n",
    "# Calculate movie popularity\n",
    "popularity = all_ratings.groupby('item_id').size().reset_index(name='popularity')\n",
    "items = pd.merge(popularity, items, on='item_id')\n",
    "print(\"\\n\\n\\nTop 10 Most Popular Movies:\\n\", items.nlargest(10, 'popularity')[['title', 'popularity']].to_string(index=False))\n",
    "\n",
    "\n",
    "# Enrich ratings with popularity\n",
    "all_ratings = pd.merge(popularity, all_ratings, on='item_id')\n",
    "\n",
    "# Split into train and test sets\n",
    "ratings_train, ratings_test = train_test_split(all_ratings, test_size=0.2, random_state=0)\n",
    "\n",
    "# Extract features for training and testing\n",
    "user_id_train = ratings_train['user_id']\n",
    "item_id_train = ratings_train['item_id']\n",
    "rating_train = ratings_train['rating']\n",
    "\n",
    "user_id_test = ratings_test['user_id']\n",
    "item_id_test = ratings_test['item_id']\n",
    "rating_test = ratings_test['rating']"
   ]
  },
  {
   "cell_type": "markdown",
   "id": "e8dd00c0-fcbc-4171-9534-98fbec4d938e",
   "metadata": {
    "jp-MarkdownHeadingCollapsed": true,
    "tags": []
   },
   "source": [
    "# Step 3: Building a Simple Embedding Model"
   ]
  },
  {
   "cell_type": "code",
   "execution_count": 34,
   "id": "2e9fca04-f64d-4621-b1f2-2383af1fa316",
   "metadata": {},
   "outputs": [
    {
     "name": "stdout",
     "output_type": "stream",
     "text": [
      "Shape of initial predictions: (80000, 1)\n"
     ]
    }
   ],
   "source": [
    "from keras.layers import Input, Embedding, Flatten, Dot\n",
    "from keras.models import Model\n",
    "\n",
    "# Define inputs\n",
    "user_id_input = Input(shape=[1], name='user')\n",
    "item_id_input = Input(shape=[1], name='item')\n",
    "\n",
    "# Embedding layers\n",
    "embedding_size = 30\n",
    "user_embedding = Embedding(output_dim=embedding_size, input_dim=max_user_id + 1, input_length=1, name='user_embedding')(user_id_input)\n",
    "item_embedding = Embedding(output_dim=embedding_size, input_dim=max_item_id + 1, input_length=1, name='item_embedding')(item_id_input)\n",
    "\n",
    "# Flatten embeddings\n",
    "user_vecs = Flatten()(user_embedding)\n",
    "item_vecs = Flatten()(item_embedding)\n",
    "\n",
    "# Dot product\n",
    "y = Dot(axes=1)([user_vecs, item_vecs])\n",
    "\n",
    "# Build and compile model\n",
    "model = Model(inputs=[user_id_input, item_id_input], outputs=y)\n",
    "model.compile(optimizer='adam', loss='mae')\n",
    "\n",
    "# Initial predictions\n",
    "initial_train_preds = model.predict([user_id_train, item_id_train])\n",
    "print(\"Shape of initial predictions:\", initial_train_preds.shape)"
   ]
  },
  {
   "cell_type": "markdown",
   "id": "59d8c064-16cb-414a-b45d-c935caa9ad29",
   "metadata": {
    "jp-MarkdownHeadingCollapsed": true,
    "tags": []
   },
   "source": [
    "# Step 4: Evaluating the Untrained Model"
   ]
  },
  {
   "cell_type": "code",
   "execution_count": 37,
   "id": "b8fbe6fd-f58e-48d9-8c02-91e98108d7ec",
   "metadata": {},
   "outputs": [
    {
     "name": "stdout",
     "output_type": "stream",
     "text": [
      "Random init MSE: 13.719\n",
      "Random init MAE: 3.529\n",
      "Random init MSE (sklearn): 13.719\n",
      "Random init MAE (sklearn): 3.529\n"
     ]
    }
   ],
   "source": [
    "from sklearn.metrics import mean_squared_error, mean_absolute_error\n",
    "import numpy as np\n",
    "\n",
    "# Compute errors\n",
    "squared_differences = np.square(initial_train_preds[:, 0] - rating_train.values)\n",
    "absolute_differences = np.abs(initial_train_preds[:, 0] - rating_train.values)\n",
    "\n",
    "print(\"Random init MSE: %.3f\" % np.mean(squared_differences))\n",
    "print(\"Random init MAE: %.3f\" % np.mean(absolute_differences))\n",
    "\n",
    "# Verify with scikit-learn\n",
    "print(\"Random init MSE (sklearn): %.3f\" % mean_squared_error(initial_train_preds, rating_train))\n",
    "print(\"Random init MAE (sklearn): %.3f\" % mean_absolute_error(initial_train_preds, rating_train))"
   ]
  },
  {
   "cell_type": "markdown",
   "id": "a439fa9d-e8cf-4545-9eb3-f063825d24ff",
   "metadata": {
    "jp-MarkdownHeadingCollapsed": true,
    "tags": []
   },
   "source": [
    "# Step 5: Training the Model"
   ]
  },
  {
   "cell_type": "code",
   "execution_count": 38,
   "id": "3899244a-cc5f-460e-842f-36450bb4c243",
   "metadata": {},
   "outputs": [
    {
     "name": "stdout",
     "output_type": "stream",
     "text": [
      "Train on 72000 samples, validate on 8000 samples\n",
      "Epoch 1/6\n",
      "72000/72000 [==============================] - 1s 12us/step - loss: 2.9060 - val_loss: 1.3352\n",
      "Epoch 2/6\n",
      "72000/72000 [==============================] - 1s 11us/step - loss: 0.9679 - val_loss: 0.8337\n",
      "Epoch 3/6\n",
      "72000/72000 [==============================] - 1s 11us/step - loss: 0.7798 - val_loss: 0.7807\n",
      "Epoch 4/6\n",
      "72000/72000 [==============================] - 1s 11us/step - loss: 0.7469 - val_loss: 0.7662\n",
      "Epoch 5/6\n",
      "72000/72000 [==============================] - 1s 11us/step - loss: 0.7336 - val_loss: 0.7582\n",
      "Epoch 6/6\n",
      "72000/72000 [==============================] - 1s 11us/step - loss: 0.7238 - val_loss: 0.7570\n"
     ]
    },
    {
     "data": {
      "image/png": "[encoded data removed]",
      "text/plain": [
       "<Figure size 432x288 with 1 Axes>"
      ]
     },
     "metadata": {
      "needs_background": "light"
     },
     "output_type": "display_data"
    },
    {
     "name": "stdout",
     "output_type": "stream",
     "text": [
      "Final test MSE: 0.944\n",
      "Final test MAE: 0.746\n",
      "Final train MSE: 0.858\n",
      "Final train MAE: 0.706\n"
     ]
    }
   ],
   "source": [
    "# Train the model\n",
    "history = model.fit([user_id_train, item_id_train], rating_train, batch_size=64, epochs=6, validation_split=0.1, shuffle=True)\n",
    "\n",
    "# Plot loss\n",
    "plt.plot(history.history['loss'], label='train')\n",
    "plt.plot(history.history['val_loss'], label='validation')\n",
    "plt.ylim(0, 2)\n",
    "plt.legend(loc='best')\n",
    "plt.title('Loss Over Epochs')\n",
    "plt.xlabel('Epoch')\n",
    "plt.ylabel('MAE')\n",
    "plt.show()\n",
    "\n",
    "# Evaluate on test set\n",
    "test_preds = model.predict([user_id_test, item_id_test])\n",
    "print(\"Final test MSE: %.3f\" % mean_squared_error(test_preds, rating_test))\n",
    "print(\"Final test MAE: %.3f\" % mean_absolute_error(test_preds, rating_test))\n",
    "\n",
    "# Evaluate on training set\n",
    "train_preds = model.predict([user_id_train, item_id_train])\n",
    "print(\"Final train MSE: %.3f\" % mean_squared_error(train_preds, rating_train))\n",
    "print(\"Final train MAE: %.3f\" % mean_absolute_error(train_preds, rating_train))"
   ]
  },
  {
   "cell_type": "markdown",
   "id": "04c1b11b-4008-411d-b16c-113f0b956f4b",
   "metadata": {
    "jp-MarkdownHeadingCollapsed": true,
    "tags": []
   },
   "source": [
    "# Step 6: Building a Deep Recommender Model"
   ]
  },
  {
   "cell_type": "code",
   "execution_count": 68,
   "id": "922fb299-c1a3-4a9a-b7bd-0c8213188aa5",
   "metadata": {},
   "outputs": [
    {
     "name": "stdout",
     "output_type": "stream",
     "text": [
      "Train on 64000 samples, validate on 16000 samples\n",
      "Epoch 1/5\n",
      "64000/64000 [==============================] - 1s 20us/step - loss: 1.0212 - val_loss: 0.7586\n",
      "Epoch 2/5\n",
      "64000/64000 [==============================] - 1s 16us/step - loss: 0.7544 - val_loss: 0.7487\n",
      "Epoch 3/5\n",
      "64000/64000 [==============================] - 1s 17us/step - loss: 0.7409 - val_loss: 0.7408\n",
      "Epoch 4/5\n",
      "64000/64000 [==============================] - 1s 17us/step - loss: 0.7314 - val_loss: 0.7387\n",
      "Epoch 5/5\n",
      "64000/64000 [==============================] - 1s 18us/step - loss: 0.7231 - val_loss: 0.7331\n"
     ]
    },
    {
     "data": {
      "image/png": "[encoded data removed]",
      "text/plain": [
       "<Figure size 432x288 with 1 Axes>"
      ]
     },
     "metadata": {
      "needs_background": "light"
     },
     "output_type": "display_data"
    },
    {
     "name": "stdout",
     "output_type": "stream",
     "text": [
      "Deep model test MSE: 0.904\n",
      "Deep model test MAE: 0.731\n",
      "Deep model train MSE: 0.855\n",
      "Deep model train MAE: 0.704\n"
     ]
    }
   ],
   "source": [
    "from keras.layers import Concatenate, Dense, Dropout\n",
    "\n",
    "# Define inputs\n",
    "user_id_input = Input(shape=[1], name='user')\n",
    "item_id_input = Input(shape=[1], name='item')\n",
    "\n",
    "# Embeddings\n",
    "embedding_size = 30\n",
    "user_embedding = Embedding(output_dim=embedding_size, input_dim=max_user_id + 1, input_length=1, name='user_embedding')(user_id_input)\n",
    "item_embedding = Embedding(output_dim=embedding_size, input_dim=max_item_id + 1, input_length=1, name='item_embedding')(item_id_input)\n",
    "\n",
    "# Flatten\n",
    "user_vecs = Flatten()(user_embedding)\n",
    "item_vecs = Flatten()(item_embedding)\n",
    "\n",
    "# Concatenate and add dense layers\n",
    "input_vecs = Concatenate()([user_vecs, item_vecs])\n",
    "input_vecs = Dropout(0.3)(input_vecs)  # Prevent overfitting\n",
    "x = Dense(64, activation='relu')(input_vecs)\n",
    "y = Dense(1, activation='linear')(x)\n",
    "\n",
    "# Build and compile\n",
    "model_deep = Model(inputs=[user_id_input, item_id_input], outputs=y)\n",
    "model_deep.compile(optimizer='adam', loss='mae')\n",
    "\n",
    "# Train\n",
    "history_deep = model_deep.fit([user_id_train, item_id_train], rating_train, batch_size=64, epochs=5, validation_split=0.2, shuffle=True)\n",
    "\n",
    "# Plot loss\n",
    "plt.plot(history_deep.history['loss'], label='train')\n",
    "plt.plot(history_deep.history['val_loss'], label='validation')\n",
    "plt.ylim(0, 2)\n",
    "plt.legend(loc='best')\n",
    "plt.title('Deep Model Loss')\n",
    "plt.xlabel('Epoch')\n",
    "plt.ylabel('MAE')\n",
    "plt.show()\n",
    "\n",
    "# Evaluate\n",
    "test_preds_deep = model_deep.predict([user_id_test, item_id_test])\n",
    "print(\"Deep model test MSE: %.3f\" % mean_squared_error(test_preds_deep, rating_test))\n",
    "print(\"Deep model test MAE: %.3f\" % mean_absolute_error(test_preds_deep, rating_test))\n",
    "\n",
    "train_preds_deep = model_deep.predict([user_id_train, item_id_train])\n",
    "print(\"Deep model train MSE: %0.3f\" % mean_squared_error(train_preds_deep, rating_train))\n",
    "print(\"Deep model train MAE: %0.3f\" % mean_absolute_error(train_preds_deep, rating_train))"
   ]
  },
  {
   "cell_type": "markdown",
   "id": "b77726ab-bb0b-4318-ab25-a195810c3df6",
   "metadata": {
    "jp-MarkdownHeadingCollapsed": true,
    "tags": []
   },
   "source": [
    "# Step 7: Retrieving Embeddings"
   ]
  },
  {
   "cell_type": "code",
   "execution_count": 74,
   "id": "26afca9d-2212-43bb-aea8-f6cd86f85a88",
   "metadata": {},
   "outputs": [
    {
     "name": "stdout",
     "output_type": "stream",
     "text": [
      "\n",
      "\n",
      "Weights:\n",
      " [(944, 30), (1683, 30)]\n",
      "Model: \"model_2\"\n",
      "__________________________________________________________________________________________________\n",
      "Layer (type)                    Output Shape         Param #     Connected to                     \n",
      "==================================================================================================\n",
      "user (InputLayer)               (None, 1)            0                                            \n",
      "__________________________________________________________________________________________________\n",
      "item (InputLayer)               (None, 1)            0                                            \n",
      "__________________________________________________________________________________________________\n",
      "user_embedding (Embedding)      (None, 1, 30)        28320       user[0][0]                       \n",
      "__________________________________________________________________________________________________\n",
      "item_embedding (Embedding)      (None, 1, 30)        50490       item[0][0]                       \n",
      "__________________________________________________________________________________________________\n",
      "flatten_3 (Flatten)             (None, 30)           0           user_embedding[0][0]             \n",
      "__________________________________________________________________________________________________\n",
      "flatten_4 (Flatten)             (None, 30)           0           item_embedding[0][0]             \n",
      "__________________________________________________________________________________________________\n",
      "dot_2 (Dot)                     (None, 1)            0           flatten_3[0][0]                  \n",
      "                                                                 flatten_4[0][0]                  \n",
      "==================================================================================================\n",
      "Total params: 78,810\n",
      "Trainable params: 78,810\n",
      "Non-trainable params: 0\n",
      "__________________________________________________________________________________________________\n",
      "\n",
      "\n",
      "Summary:\n",
      " None\n",
      "\n",
      "\n",
      "Weights Deep:\n",
      " [(944, 30), (1683, 30), (60, 64), (64,), (64, 1), (1,)]\n",
      "Model: \"model_6\"\n",
      "__________________________________________________________________________________________________\n",
      "Layer (type)                    Output Shape         Param #     Connected to                     \n",
      "==================================================================================================\n",
      "user (InputLayer)               (None, 1)            0                                            \n",
      "__________________________________________________________________________________________________\n",
      "item (InputLayer)               (None, 1)            0                                            \n",
      "__________________________________________________________________________________________________\n",
      "user_embedding (Embedding)      (None, 1, 30)        28320       user[0][0]                       \n",
      "__________________________________________________________________________________________________\n",
      "item_embedding (Embedding)      (None, 1, 30)        50490       item[0][0]                       \n",
      "__________________________________________________________________________________________________\n",
      "flatten_11 (Flatten)            (None, 30)           0           user_embedding[0][0]             \n",
      "__________________________________________________________________________________________________\n",
      "flatten_12 (Flatten)            (None, 30)           0           item_embedding[0][0]             \n",
      "__________________________________________________________________________________________________\n",
      "concatenate_4 (Concatenate)     (None, 60)           0           flatten_11[0][0]                 \n",
      "                                                                 flatten_12[0][0]                 \n",
      "__________________________________________________________________________________________________\n",
      "dropout_4 (Dropout)             (None, 60)           0           concatenate_4[0][0]              \n",
      "__________________________________________________________________________________________________\n",
      "dense_7 (Dense)                 (None, 64)           3904        dropout_4[0][0]                  \n",
      "__________________________________________________________________________________________________\n",
      "dense_8 (Dense)                 (None, 1)            65          dense_7[0][0]                    \n",
      "==================================================================================================\n",
      "Total params: 82,779\n",
      "Trainable params: 82,779\n",
      "Non-trainable params: 0\n",
      "__________________________________________________________________________________________________\n",
      "\n",
      "\n",
      "Summary Deep:\n",
      " None\n"
     ]
    }
   ],
   "source": [
    "weights = model.get_weights()\n",
    "print(\"\\n\\nWeights:\\n\", [w.shape for w in weights])\n",
    "print(\"\\n\\nSummary:\\n\", model.summary())\n",
    "\n",
    "weights_deep = model_deep.get_weights()\n",
    "print(\"\\n\\nWeights Deep:\\n\", [w.shape for w in weights_deep])\n",
    "print(\"\\n\\nSummary Deep:\\n\", model_deep.summary())"
   ]
  },
  {
   "cell_type": "markdown",
   "id": "a1242294-fe24-4aa6-8016-6832af50cb75",
   "metadata": {},
   "source": [
    "## Step 7.1: Printing Embeddings"
   ]
  },
  {
   "cell_type": "code",
   "execution_count": 75,
   "id": "a4de2f63-8366-4b1d-aa96-f2fa4feab5ab",
   "metadata": {},
   "outputs": [
    {
     "name": "stdout",
     "output_type": "stream",
     "text": [
      "Model Metadata:\n",
      "\n",
      "First item name from metadata: GoldenEye (1995)\n",
      "\n",
      "Embedding vector for the first item: [ 0.40579337 -0.30207893  0.49330223  0.36282426 -0.38556132 -0.42900118\n",
      "  0.3117383  -0.17753382  0.40745515  0.34297198  0.41671932  0.43302098\n",
      "  0.13501869 -0.42772692  0.29819128  0.49644154 -0.40771386 -0.1791847\n",
      "  0.46554488  0.39528978 -0.30394742 -0.33464402  0.52377594 -0.44524828\n",
      " -0.34439015  0.4369193   0.40687737 -0.46202448  0.36345637 -0.3344185 ]\n",
      "\n",
      "Shape: (30,)\n",
      "\n",
      "\n",
      "\n",
      "Deep Metadata:\n",
      "\n",
      "First item name from metadata: GoldenEye (1995)\n",
      "\n",
      "Embedding vector for the first item: [ 0.03618247 -0.04049069  0.06519131 -0.02512775 -0.05403529 -0.10905892\n",
      "  0.09398577  0.07256597 -0.0497587  -0.01359504 -0.02572505  0.0375342\n",
      " -0.01605813  0.12009179 -0.0590348   0.07065597  0.06775748 -0.08167093\n",
      "  0.00790491 -0.1073471  -0.06624372  0.0634551   0.03333774  0.00255696\n",
      " -0.03956097  0.07754119 -0.03827654 -0.01609962 -0.10258127 -0.06660575]\n",
      "\n",
      "Shape: (30,)\n"
     ]
    }
   ],
   "source": [
    "# weights = model.get_weights()\n",
    "user_embeddings = weights[0]\n",
    "item_embeddings = weights[1]\n",
    "print(\"Model Metadata:\")\n",
    "print(\"\\nFirst item name from metadata:\", items[\"title\"][1])\n",
    "print(\"\\nEmbedding vector for the first item:\", item_embeddings[1])\n",
    "print(\"\\nShape:\", item_embeddings[1].shape)\n",
    "\n",
    "\n",
    "# weights_deep = model_deep.get_weights()\n",
    "user_embeddings = weights_deep[0]\n",
    "item_embeddings = weights_deep[1]\n",
    "print(\"\\n\\n\\nDeep Metadata:\")\n",
    "print(\"\\nFirst item name from metadata:\", items[\"title\"][1])\n",
    "print(\"\\nEmbedding vector for the first item:\", item_embeddings[1])\n",
    "print(\"\\nShape:\", item_embeddings[1].shape)"
   ]
  },
  {
   "cell_type": "markdown",
   "id": "1778d5ec-56cc-417f-8fd8-e226d943964a",
   "metadata": {},
   "source": [
    "## Step 7.2: cosine(), cosine_similarities(), euclidean_distances(), most_similar()"
   ]
  },
  {
   "cell_type": "code",
   "execution_count": 114,
   "id": "bc40aa5b-4beb-4350-b533-a0d56ed01322",
   "metadata": {},
   "outputs": [
    {
     "name": "stdout",
     "output_type": "stream",
     "text": [
      "\n",
      "Movies similar to Return of the Jedi (1983):\n",
      " [('Wild Bunch, The (1969)', 0.18174142), ('12 Angry Men (1957)', 0.1918594), ('Paris, Texas (1984)', 0.19505014), ('Party Girl (1995)', 0.20233755), ('Chasing Amy (1997)', 0.20546404), ('Jungle2Jungle (1997)', 0.20969862), ('Kama Sutra: A Tale of Love (1996)', 0.2123398), ('Lawrence of Arabia (1962)', 0.21512897), ('Touch of Evil (1958)', 0.21594204), ('Restoration (1995)', 0.21608566)]\n",
      "\n",
      "cosine of item 1 and item 1:\n",
      " 1.000\n",
      "\n",
      "euclidean_distances shape:\n",
      " (1683,)\n",
      "\n",
      "euclidean_distances dictionary:\n",
      " [0.         0.37747312 0.5034007  0.27449214]\n",
      "\n",
      "Movies similar to Return of the Jedi (1983):\n",
      "Wild Bunch, The (1969)                  : 0.182\n",
      "12 Angry Men (1957)                     : 0.192\n",
      "Paris, Texas (1984)                     : 0.195\n",
      "Party Girl (1995)                       : 0.202\n",
      "Chasing Amy (1997)                      : 0.205\n",
      "Jungle2Jungle (1997)                    : 0.210\n",
      "Kama Sutra: A Tale of Love (1996)       : 0.212\n",
      "Lawrence of Arabia (1962)               : 0.215\n",
      "Touch of Evil (1958)                    : 0.216\n",
      "Restoration (1995)                      : 0.216\n"
     ]
    }
   ],
   "source": [
    "def cosine(x, y):\n",
    "    x = x / np.linalg.norm(x)\n",
    "    y = y / np.linalg.norm(y)\n",
    "    return np.dot(x, y)\n",
    "\n",
    "def cosine_similarities(x):\n",
    "    # TODO\n",
    "    pass\n",
    "\n",
    "def euclidean_distances(x):\n",
    "    return np.linalg.norm(item_embeddings - x, axis=1)\n",
    "\n",
    "def most_similar(idx, top_n=10, mode='euclidean'):\n",
    "    if mode == 'euclidean':\n",
    "        dists = euclidean_distances(item_embeddings[idx])\n",
    "    else:\n",
    "        dists = -np.array([cosine(item_embeddings[idx], emb) for emb in item_embeddings])\n",
    "    top_indices = np.argsort(dists)[1:top_n+1]  # Exclude self\n",
    "    return [(items.iloc[i]['title'], dists[i]) for i in top_indices]\n",
    "\n",
    "\n",
    "# Retrieve movie titles for the given IDs\n",
    "movie_181 = items.loc[items['item_id'] == 181, 'title'].values[0]\n",
    "\n",
    "# most similar\n",
    "print(f\"\\nMovies similar to {movie_181}:\\n\", most_similar(181))\n",
    "\n",
    "# sanity checks\n",
    "print(f\"\\ncosine of item 1 and item 1:\\n {cosine(item_embeddings[1], item_embeddings[1]):0.3f}\")\n",
    "\n",
    "# euclidean distances\n",
    "euc_dists = euclidean_distances(item_embeddings[1])\n",
    "print(\"\\neuclidean_distances shape:\\n\", euc_dists.shape)\n",
    "print(\"\\neuclidean_distances dictionary:\\n\", euc_dists[1:5])\n",
    "\n",
    "# Display most similar movies with proper formatting\n",
    "print(f\"\\nMovies similar to {movie_181}:\")\n",
    "for title, dist in most_similar(181, mode=\"euclidean\"):\n",
    "    print(f\"{title:<40}: {dist:.3f}\")"
   ]
  },
  {
   "cell_type": "markdown",
   "id": "0ae478e4-d628-4251-ac65-9a7b42aa0ffa",
   "metadata": {
    "tags": []
   },
   "source": [
    "## Step 7.3: Visualizing Embeddings"
   ]
  },
  {
   "cell_type": "code",
   "execution_count": 115,
   "id": "6c11a391-7190-45ee-889d-9b1ab728daa8",
   "metadata": {},
   "outputs": [
    {
     "data": {
      "image/png": "[encoded data removed]",
      "text/plain": [
       "<Figure size 720x720 with 1 Axes>"
      ]
     },
     "metadata": {
      "needs_background": "light"
     },
     "output_type": "display_data"
    }
   ],
   "source": [
    "from sklearn.manifold import TSNE\n",
    "\n",
    "item_tsne = TSNE(perplexity=30).fit_transform(item_embeddings)\n",
    "\n",
    "plt.figure(figsize=(10, 10))\n",
    "plt.scatter(item_tsne[:, 0], item_tsne[:, 1])\n",
    "plt.title(\"t-SNE Visualization of Item Embeddings\")\n",
    "plt.xlabel(\"t-SNE Dimension 1\")\n",
    "plt.ylabel(\"t-SNE Dimension 2\")\n",
    "plt.show()"
   ]
  },
  {
   "cell_type": "markdown",
   "id": "ea06e0f0-6afe-4ec5-9a8d-fdbdc8c07aa5",
   "metadata": {
    "jp-MarkdownHeadingCollapsed": true,
    "tags": []
   },
   "source": [
    "# Step 8: Making Recommendations"
   ]
  },
  {
   "cell_type": "code",
   "execution_count": 117,
   "id": "4c04de7f-0f5f-4f02-a491-77939a108eeb",
   "metadata": {},
   "outputs": [
    {
     "name": "stdout",
     "output_type": "stream",
     "text": [
      "\n",
      "Recommendations for user 5:\n",
      "\n",
      "User 5 has seen 175 movies, including:\n",
      "   Star Wars (1977)\n",
      "   Fargo (1996)\n",
      "   Return of the Jedi (1983)\n",
      "   Toy Story (1995)\n",
      "   Independence Day (ID4) (1996)\n",
      "\n",
      "Computing ratings for 1507 other movies:\n",
      "    4.0: Schindler's List (1993)\n",
      "    4.0: Usual Suspects, The (1995)\n",
      "    4.0: Casablanca (1942)\n",
      "    3.9: Titanic (1997)\n",
      "    3.9: Godfather: Part II, The (1974)\n",
      "    3.9: Rear Window (1954)\n",
      "    3.9: Shawshank Redemption, The (1994)\n",
      "    3.9: Godfather, The (1972)\n",
      "    3.9: Raise the Red Lantern (1991)\n",
      "    3.9: To Live (Huozhe) (1994)\n"
     ]
    }
   ],
   "source": [
    "def recommend(user_id, top_n=10):\n",
    "    item_ids = range(1, max_item_id + 1)\n",
    "    seen_mask = all_ratings[\"user_id\"] == user_id\n",
    "    seen_movies = set(all_ratings[seen_mask][\"item_id\"])\n",
    "    item_ids = [i for i in item_ids if i not in seen_movies]\n",
    "\n",
    "    print(f\"\\nUser {user_id} has seen {len(seen_movies)} movies, including:\")\n",
    "    for title in all_ratings[seen_mask].nlargest(5, 'popularity')['title']:\n",
    "        print(f\"   {title}\")\n",
    "    print(f\"\\nComputing ratings for {len(item_ids)} other movies:\")\n",
    "\n",
    "    user_ids = np.full(len(item_ids), user_id)\n",
    "    rating_preds = model_deep.predict([user_ids, np.array(item_ids)])\n",
    "\n",
    "    item_preds = list(zip(item_ids, rating_preds[:, 0]))\n",
    "    item_preds.sort(key=lambda x: x[1], reverse=True)\n",
    "    rec_items = item_preds[:top_n]\n",
    "    return [(items.iloc[i-1]['title'], pred) for i, pred in rec_items]  # Adjust for 0-based indexing\n",
    "\n",
    "# Recommend for user 5\n",
    "print(\"\\nRecommendations for user 5:\")\n",
    "for title, pred_rating in recommend(5):\n",
    "    print(f\"    {pred_rating:.1f}: {title}\")"
   ]
  },
  {
   "cell_type": "markdown",
   "id": "a29eba6d-b64d-4c77-8e6d-541826754719",
   "metadata": {
    "tags": []
   },
   "source": [
    "# **PART II: Embeddings with Keras** #"
   ]
  },
  {
   "cell_type": "markdown",
   "id": "3c339d74-24c1-49c4-a69f-209854256ce4",
   "metadata": {
    "jp-MarkdownHeadingCollapsed": true,
    "tags": []
   },
   "source": [
    "# Step 1: Import Libraries and Create Embedding Matrix"
   ]
  },
  {
   "cell_type": "code",
   "execution_count": 1,
   "id": "7098836f-f7ec-45b9-903f-5e0d8512d200",
   "metadata": {},
   "outputs": [
    {
     "name": "stdout",
     "output_type": "stream",
     "text": [
      "\n",
      "Embedding Matrix:\n",
      " [[ 0.  1.  2.  3.]\n",
      " [ 4.  5.  6.  7.]\n",
      " [ 8.  9. 10. 11.]\n",
      " [12. 13. 14. 15.]\n",
      " [16. 17. 18. 19.]\n",
      " [20. 21. 22. 23.]\n",
      " [24. 25. 26. 27.]\n",
      " [28. 29. 30. 31.]\n",
      " [32. 33. 34. 35.]\n",
      " [36. 37. 38. 39.]]\n",
      "\n",
      "Embedding vector for index 3:\n",
      " [12. 13. 14. 15.]\n"
     ]
    }
   ],
   "source": [
    "import numpy as np\n",
    "\n",
    "embedding_size = 4\n",
    "vocab_size = 10\n",
    "\n",
    "# Create the embedding matrix\n",
    "embedding_matrix = np.arange(embedding_size * vocab_size, dtype='float32')\n",
    "embedding_matrix = embedding_matrix.reshape(vocab_size, embedding_size)\n",
    "print(\"\\nEmbedding Matrix:\\n\", embedding_matrix)\n",
    "\n",
    "# Example index to fetch an embedding\n",
    "i = 3\n",
    "print(f\"\\nEmbedding vector for index {i}:\\n\", embedding_matrix[i])"
   ]
  },
  {
   "cell_type": "markdown",
   "id": "957a8a8d-b761-4530-ab4f-75a13cf858f9",
   "metadata": {
    "jp-MarkdownHeadingCollapsed": true,
    "tags": []
   },
   "source": [
    "# Step 2: Define One-Hot Encoding and Calculate the Embedding Vector"
   ]
  },
  {
   "cell_type": "code",
   "execution_count": 2,
   "id": "2f6f31f9-5ecc-4fb5-8be0-cd8bd5565fb2",
   "metadata": {},
   "outputs": [
    {
     "name": "stdout",
     "output_type": "stream",
     "text": [
      "\n",
      "One-hot encoded vector for index 3:\n",
      " [0. 0. 0. 1. 0. 0. 0. 0. 0. 0.]\n",
      "\n",
      "Embedding vector for index 3:\n",
      " [12. 13. 14. 15.]\n"
     ]
    }
   ],
   "source": [
    "def onehot_encode(dim, label):\n",
    "    return np.eye(dim)[label]\n",
    "\n",
    "# One-hot encode for the given index\n",
    "onehot_i = onehot_encode(vocab_size, i)\n",
    "print(f\"\\nOne-hot encoded vector for index {i}:\\n\", onehot_i)\n",
    "\n",
    "# Compute the embedding vector by multiplying one-hot vector with the embedding matrix\n",
    "embedding_vector = np.dot(onehot_i, embedding_matrix)\n",
    "print(f\"\\nEmbedding vector for index {i}:\\n\", embedding_vector)"
   ]
  },
  {
   "cell_type": "markdown",
   "id": "e95953be-fec9-48a2-beb7-b2c4775d7dbb",
   "metadata": {
    "jp-MarkdownHeadingCollapsed": true,
    "tags": []
   },
   "source": [
    "# Step 3: Create the Keras Embedding Layer"
   ]
  },
  {
   "cell_type": "code",
   "execution_count": 6,
   "id": "9c4e986a-4433-43fc-a7f1-40088f46b283",
   "metadata": {},
   "outputs": [
    {
     "name": "stdout",
     "output_type": "stream",
     "text": [
      "\n",
      "Model output shape:\n",
      " (None, 1, 4)\n",
      "\n",
      "Model weights:\n",
      " [array([[ 0.,  1.,  2.,  3.],\n",
      "       [ 4.,  5.,  6.,  7.],\n",
      "       [ 8.,  9., 10., 11.],\n",
      "       [12., 13., 14., 15.],\n",
      "       [16., 17., 18., 19.],\n",
      "       [20., 21., 22., 23.],\n",
      "       [24., 25., 26., 27.],\n",
      "       [28., 29., 30., 31.],\n",
      "       [32., 33., 34., 35.],\n",
      "       [36., 37., 38., 39.]], dtype=float32)]\n",
      "Model: \"model_2\"\n",
      "_________________________________________________________________\n",
      "Layer (type)                 Output Shape              Param #   \n",
      "=================================================================\n",
      "input (InputLayer)           (None, 1)                 0         \n",
      "_________________________________________________________________\n",
      "my_embedding (Embedding)     (None, 1, 4)              40        \n",
      "=================================================================\n",
      "Total params: 40\n",
      "Trainable params: 40\n",
      "Non-trainable params: 0\n",
      "_________________________________________________________________\n",
      "\n",
      "Model summary:\n",
      " None\n"
     ]
    }
   ],
   "source": [
    "from keras.layers import Embedding\n",
    "from keras.layers import Input\n",
    "from keras.models import Model\n",
    "\n",
    "# Define the embedding layer\n",
    "embedding_layer = Embedding(output_dim=embedding_size, input_dim=vocab_size, weights=[embedding_matrix], input_length=1, name='my_embedding')\n",
    "\n",
    "# Set up the Keras model using the embedding layer\n",
    "x = Input(shape=[1], name='input')\n",
    "embedding = embedding_layer(x)\n",
    "model = Model(inputs=x, outputs=embedding)\n",
    "\n",
    "# Print the output shape of the model\n",
    "print(f\"\\nModel output shape:\\n {model.output_shape}\")\n",
    "\n",
    "# Print model weights (embedding weights)\n",
    "print(f\"\\nModel weights:\\n\", model.get_weights())\n",
    "\n",
    "# Print model summary to show trainable parameters\n",
    "print(f\"\\nModel summary:\\n\", model.summary())"
   ]
  },
  {
   "cell_type": "markdown",
   "id": "d68e85ee-c191-4785-8986-3c801aa1f499",
   "metadata": {
    "jp-MarkdownHeadingCollapsed": true,
    "tags": []
   },
   "source": [
    "# Step 4: Make Predictions with the Keras Embedding Model"
   ]
  },
  {
   "cell_type": "code",
   "execution_count": 7,
   "id": "79e4254c-f482-4e73-9c7e-c99a7421322f",
   "metadata": {},
   "outputs": [
    {
     "name": "stdout",
     "output_type": "stream",
     "text": [
      "\n",
      "Prediction for label 3:\n",
      " [[[12. 13. 14. 15.]]]\n",
      "\n",
      "Predictions for labels [3, 3, 0, 9]:\n",
      " [[[12. 13. 14. 15.]]\n",
      "\n",
      " [[12. 13. 14. 15.]]\n",
      "\n",
      " [[ 0.  1.  2.  3.]]\n",
      "\n",
      " [[36. 37. 38. 39.]]]\n"
     ]
    }
   ],
   "source": [
    "# Example of projecting integer labels into their matching embedding vectors\n",
    "\n",
    "labels_to_encode = np.array([[3]])\n",
    "print(f\"\\nPrediction for label 3:\\n\", model.predict(labels_to_encode))\n",
    "\n",
    "labels_to_encode = np.array([[3], [3], [0], [9]])\n",
    "print(f\"\\nPredictions for labels [3, 3, 0, 9]:\\n\", model.predict(labels_to_encode))"
   ]
  },
  {
   "cell_type": "markdown",
   "id": "12537974-b9f9-4c0d-bc3c-baf128ed2c19",
   "metadata": {
    "jp-MarkdownHeadingCollapsed": true,
    "tags": []
   },
   "source": [
    "# Step 5: Flatten the Output of the Embedding Layer"
   ]
  },
  {
   "cell_type": "code",
   "execution_count": 8,
   "id": "1741d388-f563-41e1-bb63-af4b28369972",
   "metadata": {},
   "outputs": [
    {
     "name": "stdout",
     "output_type": "stream",
     "text": [
      "\n",
      "New model output shape after flattening:\n",
      " (None, 4)\n",
      "\n",
      "Prediction for label 3 after flattening:\n",
      " [[12. 13. 14. 15.]]\n"
     ]
    }
   ],
   "source": [
    "from keras.layers import Flatten\n",
    "\n",
    "# Modify the model to flatten the output (removing the sequence dimension)\n",
    "y = Flatten()(embedding_layer(x))\n",
    "model2 = Model(inputs=x, outputs=y)\n",
    "\n",
    "# Print the output shape of the new model\n",
    "print(f\"\\nNew model output shape after flattening:\\n {model2.output_shape}\")\n",
    "\n",
    "# Test the flattened model with a sample input\n",
    "print(f\"\\nPrediction for label 3 after flattening:\\n\", model2.predict(np.array([3])))"
   ]
  },
  {
   "cell_type": "code",
   "execution_count": null,
   "id": "63b501c2-81dc-45cc-8dc8-bab24368d42b",
   "metadata": {},
   "outputs": [],
   "source": []
  }
 ],
 "metadata": {
  "kernelspec": {
   "display_name": "Python 3",
   "language": "python",
   "name": "python3"
  },
  "language_info": {
   "codemirror_mode": {
    "name": "ipython",
    "version": 3
   },
   "file_extension": ".py",
   "mimetype": "text/x-python",
   "name": "python",
   "nbconvert_exporter": "python",
   "pygments_lexer": "ipython3",
   "version": "3.6.8"
  }
 },
 "nbformat": 4,
 "nbformat_minor": 5
}
