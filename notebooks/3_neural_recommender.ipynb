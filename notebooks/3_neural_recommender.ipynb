{
 "cells": [
  {
   "cell_type": "markdown",
   "id": "8bbc98f5-08c1-4221-a958-f1cbc92a53df",
   "metadata": {},
   "source": [
    "# Step 1: Loading and Exploring the Dataset"
   ]
  },
  {
   "cell_type": "code",
   "execution_count": 1,
   "id": "46592f01-fd54-4de9-9a93-5d472ddd721e",
   "metadata": {},
   "outputs": [
    {
     "name": "stdout",
     "output_type": "stream",
     "text": [
      "Downloading http://files.grouplens.org/datasets/movielens/ml-100k.zip to Downloads/ml-100k.zip...\n",
      "Extracting Downloads/ml-100k.zip to Downloads/ml-100k...\n",
      "Ratings DataFrame:\n",
      "   user_id  item_id  rating  timestamp\n",
      "0      196      242       3  881250949\n",
      "1      186      302       3  891717742\n",
      "2       22      377       1  878887116\n",
      "3      244       51       2  880606923\n",
      "4      166      346       1  886397596\n",
      "\n",
      "Items DataFrame:\n",
      "   item_id              title release_date  video_release_date  \\\n",
      "0        1   Toy Story (1995)  01-Jan-1995                 NaN   \n",
      "1        2   GoldenEye (1995)  01-Jan-1995                 NaN   \n",
      "2        3  Four Rooms (1995)  01-Jan-1995                 NaN   \n",
      "3        4  Get Shorty (1995)  01-Jan-1995                 NaN   \n",
      "4        5     Copycat (1995)  01-Jan-1995                 NaN   \n",
      "\n",
      "                                            imdb_url  \n",
      "0  http://us.imdb.com/M/title-exact?Toy%20Story%2...  \n",
      "1  http://us.imdb.com/M/title-exact?GoldenEye%20(...  \n",
      "2  http://us.imdb.com/M/title-exact?Four%20Rooms%...  \n",
      "3  http://us.imdb.com/M/title-exact?Get%20Shorty%...  \n",
      "4  http://us.imdb.com/M/title-exact?Copycat%20(1995)  \n"
     ]
    }
   ],
   "source": [
    "import pandas as pd\n",
    "import os.path as op\n",
    "from zipfile import ZipFile\n",
    "from urllib.request import urlretrieve\n",
    "import matplotlib.pyplot as plt\n",
    "\n",
    "\n",
    "# Download and extract the dataset\n",
    "ML_100K_URL = \"http://files.grouplens.org/datasets/movielens/ml-100k.zip\"\n",
    "ML_100K_FILENAME = \"Downloads/ml-100k.zip\"  # Store ZIP file in 'Files' folder\n",
    "ML_100K_FOLDER = \"Downloads/ml-100k\"  # Extract inside 'Files' folder\n",
    "\n",
    "if not op.exists(ML_100K_FILENAME):\n",
    "    print(f'Downloading {ML_100K_URL} to {ML_100K_FILENAME}...')\n",
    "    urlretrieve(ML_100K_URL, ML_100K_FILENAME)\n",
    "\n",
    "if not op.exists(ML_100K_FOLDER):\n",
    "    print(f'Extracting {ML_100K_FILENAME} to {ML_100K_FOLDER}...')\n",
    "    ZipFile(ML_100K_FILENAME).extractall(\"Downloads/\")\n",
    "\n",
    "# Load ratings\n",
    "raw_ratings = pd.read_csv(op.join(ML_100K_FOLDER, 'u.data'), sep='\\t',\n",
    "                          names=[\"user_id\", \"item_id\", \"rating\", \"timestamp\"])\n",
    "\n",
    "# Load item metadata\n",
    "m_cols = ['item_id', 'title', 'release_date', 'video_release_date', 'imdb_url']\n",
    "items = pd.read_csv(op.join(ML_100K_FOLDER, 'u.item'), sep='|',\n",
    "                    names=m_cols, usecols=range(5), encoding='latin-1')\n",
    "\n",
    "# Display first few rows\n",
    "print(\"Ratings DataFrame:\")\n",
    "print(raw_ratings.head())\n",
    "print(\"\\nItems DataFrame:\")\n",
    "print(items.head())"
   ]
  },
  {
   "cell_type": "markdown",
   "id": "9e84fd57-f829-499e-9a65-4670f5f902df",
   "metadata": {},
   "source": [
    "# Step 2: Preprocessing the Data"
   ]
  },
  {
   "cell_type": "code",
   "execution_count": 2,
   "id": "ea20f850-70ba-4c40-aad8-52e60e9c0390",
   "metadata": {},
   "outputs": [
    {
     "data": {
      "image/png": "[encoded data removed]",
      "text/plain": [
       "<Figure size 432x288 with 1 Axes>"
      ]
     },
     "metadata": {
      "needs_background": "light"
     },
     "output_type": "display_data"
    },
    {
     "name": "stdout",
     "output_type": "stream",
     "text": [
      "Merged DataFrame (first 5 rows):\n",
      "   item_id             title release_date  video_release_date  \\\n",
      "0        1  Toy Story (1995)  01-Jan-1995                 NaN   \n",
      "1        1  Toy Story (1995)  01-Jan-1995                 NaN   \n",
      "2        1  Toy Story (1995)  01-Jan-1995                 NaN   \n",
      "3        1  Toy Story (1995)  01-Jan-1995                 NaN   \n",
      "4        1  Toy Story (1995)  01-Jan-1995                 NaN   \n",
      "\n",
      "                                            imdb_url  release_year  user_id  \\\n",
      "0  http://us.imdb.com/M/title-exact?Toy%20Story%2...          1995      308   \n",
      "1  http://us.imdb.com/M/title-exact?Toy%20Story%2...          1995      287   \n",
      "2  http://us.imdb.com/M/title-exact?Toy%20Story%2...          1995      148   \n",
      "3  http://us.imdb.com/M/title-exact?Toy%20Story%2...          1995      280   \n",
      "4  http://us.imdb.com/M/title-exact?Toy%20Story%2...          1995       66   \n",
      "\n",
      "   rating  timestamp  \n",
      "0       4  887736532  \n",
      "1       5  875334088  \n",
      "2       4  877019411  \n",
      "3       4  891700426  \n",
      "4       3  883601324  \n",
      "Max user ID: 943, Max item ID: 1682\n",
      "\n",
      "Rating Statistics:\n",
      "count    100000.000000\n",
      "mean          3.529860\n",
      "std           1.125674\n",
      "min           1.000000\n",
      "25%           3.000000\n",
      "50%           4.000000\n",
      "75%           4.000000\n",
      "max           5.000000\n",
      "Name: rating, dtype: float64\n",
      "\n",
      "Top 10 Most Popular Movies:\n",
      "                             title  popularity\n",
      "49                Star Wars (1977)         583\n",
      "257                 Contact (1997)         509\n",
      "99                    Fargo (1996)         508\n",
      "180      Return of the Jedi (1983)         507\n",
      "293               Liar Liar (1997)         485\n",
      "285    English Patient, The (1996)         481\n",
      "287                  Scream (1996)         478\n",
      "0                 Toy Story (1995)         452\n",
      "299           Air Force One (1997)         431\n",
      "120  Independence Day (ID4) (1996)         429\n"
     ]
    }
   ],
   "source": [
    "from sklearn.model_selection import train_test_split\n",
    "\n",
    "# Extract release year from release_date\n",
    "def extract_year(release_date):\n",
    "    if isinstance(release_date, str):\n",
    "        components = release_date.split('-')\n",
    "        if len(components) == 3:\n",
    "            return int(components[2])\n",
    "    return 1920  # Default for missing values\n",
    "\n",
    "items['release_year'] = items['release_date'].map(extract_year)\n",
    "\n",
    "# Visualize release year distribution\n",
    "items.hist('release_year', bins=50)\n",
    "plt.title(\"Distribution of Movie Release Years\")\n",
    "plt.xlabel(\"Release Year\")\n",
    "plt.ylabel(\"Number of Movies\")\n",
    "plt.show()\n",
    "\n",
    "# Merge ratings with items\n",
    "all_ratings = pd.merge(items, raw_ratings, on='item_id')\n",
    "print(\"Merged DataFrame (first 5 rows):\")\n",
    "print(all_ratings.head())\n",
    "\n",
    "# Get max user and item IDs\n",
    "max_user_id = all_ratings['user_id'].max()\n",
    "max_item_id = all_ratings['item_id'].max()\n",
    "print(f\"Max user ID: {max_user_id}, Max item ID: {max_item_id}\")\n",
    "\n",
    "# Rating statistics\n",
    "print(\"\\nRating Statistics:\")\n",
    "print(all_ratings['rating'].describe())\n",
    "\n",
    "# Calculate movie popularity\n",
    "popularity = all_ratings.groupby('item_id').size().reset_index(name='popularity')\n",
    "items = pd.merge(popularity, items, on='item_id')\n",
    "print(\"\\nTop 10 Most Popular Movies:\")\n",
    "print(items.nlargest(10, 'popularity')[['title', 'popularity']])\n",
    "\n",
    "# Enrich ratings with popularity\n",
    "all_ratings = pd.merge(popularity, all_ratings, on='item_id')\n",
    "\n",
    "# Split into train and test sets\n",
    "ratings_train, ratings_test = train_test_split(\n",
    "    all_ratings, test_size=0.2, random_state=0\n",
    ")\n",
    "\n",
    "# Extract features for training and testing\n",
    "user_id_train = ratings_train['user_id']\n",
    "item_id_train = ratings_train['item_id']\n",
    "rating_train = ratings_train['rating']\n",
    "user_id_test = ratings_test['user_id']\n",
    "item_id_test = ratings_test['item_id']\n",
    "rating_test = ratings_test['rating']"
   ]
  },
  {
   "cell_type": "markdown",
   "id": "e8dd00c0-fcbc-4171-9534-98fbec4d938e",
   "metadata": {},
   "source": [
    "# Step 3: Building a Simple Embedding Model"
   ]
  },
  {
   "cell_type": "code",
   "execution_count": 3,
   "id": "2e9fca04-f64d-4621-b1f2-2383af1fa316",
   "metadata": {},
   "outputs": [
    {
     "name": "stderr",
     "output_type": "stream",
     "text": [
      "Using TensorFlow backend.\n"
     ]
    },
    {
     "name": "stdout",
     "output_type": "stream",
     "text": [
      "WARNING:tensorflow:From c:\\users\\kerem\\github\\python-keras-deep-learning\\myenv\\lib\\site-packages\\tensorflow_core\\python\\ops\\resource_variable_ops.py:1630: calling BaseResourceVariable.__init__ (from tensorflow.python.ops.resource_variable_ops) with constraint is deprecated and will be removed in a future version.\n",
      "Instructions for updating:\n",
      "If using Keras pass *_constraint arguments to layers.\n",
      "WARNING:tensorflow:From c:\\users\\kerem\\github\\python-keras-deep-learning\\myenv\\lib\\site-packages\\keras\\backend\\tensorflow_backend.py:422: The name tf.global_variables is deprecated. Please use tf.compat.v1.global_variables instead.\n",
      "\n",
      "Shape of initial predictions: (80000, 1)\n"
     ]
    }
   ],
   "source": [
    "from keras.layers import Input, Embedding, Flatten, Dot\n",
    "from keras.models import Model\n",
    "\n",
    "# Define inputs\n",
    "user_id_input = Input(shape=[1], name='user')\n",
    "item_id_input = Input(shape=[1], name='item')\n",
    "\n",
    "# Embedding layers\n",
    "embedding_size = 30\n",
    "user_embedding = Embedding(output_dim=embedding_size, input_dim=max_user_id + 1,\n",
    "                           input_length=1, name='user_embedding')(user_id_input)\n",
    "item_embedding = Embedding(output_dim=embedding_size, input_dim=max_item_id + 1,\n",
    "                           input_length=1, name='item_embedding')(item_id_input)\n",
    "\n",
    "# Flatten embeddings\n",
    "user_vecs = Flatten()(user_embedding)\n",
    "item_vecs = Flatten()(item_embedding)\n",
    "\n",
    "# Dot product\n",
    "y = Dot(axes=1)([user_vecs, item_vecs])\n",
    "\n",
    "# Build and compile model\n",
    "model = Model(inputs=[user_id_input, item_id_input], outputs=y)\n",
    "model.compile(optimizer='adam', loss='mae')\n",
    "\n",
    "# Initial predictions\n",
    "initial_train_preds = model.predict([user_id_train, item_id_train])\n",
    "print(\"Shape of initial predictions:\", initial_train_preds.shape)"
   ]
  },
  {
   "cell_type": "markdown",
   "id": "59d8c064-16cb-414a-b45d-c935caa9ad29",
   "metadata": {},
   "source": [
    "# Step 4: Evaluating the Untrained Model"
   ]
  },
  {
   "cell_type": "code",
   "execution_count": 4,
   "id": "b8fbe6fd-f58e-48d9-8c02-91e98108d7ec",
   "metadata": {},
   "outputs": [
    {
     "name": "stdout",
     "output_type": "stream",
     "text": [
      "Random init MSE: 13.719\n",
      "Random init MAE: 3.529\n",
      "Random init MSE (sklearn): 13.719\n",
      "Random init MAE (sklearn): 3.529\n"
     ]
    }
   ],
   "source": [
    "from sklearn.metrics import mean_squared_error, mean_absolute_error\n",
    "import numpy as np\n",
    "\n",
    "# Compute errors\n",
    "squared_differences = np.square(initial_train_preds[:, 0] - rating_train.values)\n",
    "absolute_differences = np.abs(initial_train_preds[:, 0] - rating_train.values)\n",
    "\n",
    "print(\"Random init MSE: %.3f\" % np.mean(squared_differences))\n",
    "print(\"Random init MAE: %.3f\" % np.mean(absolute_differences))\n",
    "\n",
    "# Verify with scikit-learn\n",
    "print(\"Random init MSE (sklearn): %.3f\" % mean_squared_error(initial_train_preds, rating_train))\n",
    "print(\"Random init MAE (sklearn): %.3f\" % mean_absolute_error(initial_train_preds, rating_train))"
   ]
  },
  {
   "cell_type": "markdown",
   "id": "a439fa9d-e8cf-4545-9eb3-f063825d24ff",
   "metadata": {},
   "source": [
    "# Step 5: Training the Model"
   ]
  },
  {
   "cell_type": "code",
   "execution_count": 5,
   "id": "3899244a-cc5f-460e-842f-36450bb4c243",
   "metadata": {},
   "outputs": [
    {
     "name": "stdout",
     "output_type": "stream",
     "text": [
      "Train on 72000 samples, validate on 8000 samples\n",
      "Epoch 1/6\n",
      "72000/72000 [==============================] - 4s 59us/step - loss: 2.9272 - val_loss: 1.3495\n",
      "Epoch 2/6\n",
      "72000/72000 [==============================] - 4s 54us/step - loss: 0.9701 - val_loss: 0.8350\n",
      "Epoch 3/6\n",
      "72000/72000 [==============================] - 4s 55us/step - loss: 0.7813 - val_loss: 0.7831\n",
      "Epoch 4/6\n",
      "72000/72000 [==============================] - 4s 53us/step - loss: 0.7480 - val_loss: 0.7660\n",
      "Epoch 5/6\n",
      "72000/72000 [==============================] - 2s 31us/step - loss: 0.7339 - val_loss: 0.7571\n",
      "Epoch 6/6\n",
      "72000/72000 [==============================] - 2s 32us/step - loss: 0.7240 - val_loss: 0.7530\n"
     ]
    },
    {
     "data": {
      "image/png": "[encoded data removed]",
      "text/plain": [
       "<Figure size 432x288 with 1 Axes>"
      ]
     },
     "metadata": {
      "needs_background": "light"
     },
     "output_type": "display_data"
    },
    {
     "name": "stdout",
     "output_type": "stream",
     "text": [
      "Final test MSE: 0.944\n",
      "Final test MAE: 0.747\n",
      "Final train MSE: 0.857\n",
      "Final train MAE: 0.705\n"
     ]
    }
   ],
   "source": [
    "# Train the model\n",
    "history = model.fit([user_id_train, item_id_train], rating_train,\n",
    "                    batch_size=64, epochs=6, validation_split=0.1,\n",
    "                    shuffle=True)\n",
    "\n",
    "# Plot loss\n",
    "plt.plot(history.history['loss'], label='train')\n",
    "plt.plot(history.history['val_loss'], label='validation')\n",
    "plt.ylim(0, 2)\n",
    "plt.legend(loc='best')\n",
    "plt.title('Loss Over Epochs')\n",
    "plt.xlabel('Epoch')\n",
    "plt.ylabel('MAE')\n",
    "plt.show()\n",
    "\n",
    "# Evaluate on test set\n",
    "test_preds = model.predict([user_id_test, item_id_test])\n",
    "print(\"Final test MSE: %.3f\" % mean_squared_error(test_preds, rating_test))\n",
    "print(\"Final test MAE: %.3f\" % mean_absolute_error(test_preds, rating_test))\n",
    "\n",
    "# Evaluate on training set\n",
    "train_preds = model.predict([user_id_train, item_id_train])\n",
    "print(\"Final train MSE: %.3f\" % mean_squared_error(train_preds, rating_train))\n",
    "print(\"Final train MAE: %.3f\" % mean_absolute_error(train_preds, rating_train))"
   ]
  },
  {
   "cell_type": "markdown",
   "id": "04c1b11b-4008-411d-b16c-113f0b956f4b",
   "metadata": {},
   "source": [
    "# Step 6: Building a Deep Recommender Model"
   ]
  },
  {
   "cell_type": "code",
   "execution_count": 6,
   "id": "922fb299-c1a3-4a9a-b7bd-0c8213188aa5",
   "metadata": {},
   "outputs": [
    {
     "name": "stdout",
     "output_type": "stream",
     "text": [
      "Train on 64000 samples, validate on 16000 samples\n",
      "Epoch 1/5\n",
      "64000/64000 [==============================] - 6s 88us/step - loss: 1.0192 - val_loss: 0.7588\n",
      "Epoch 2/5\n",
      "64000/64000 [==============================] - 5s 77us/step - loss: 0.7529 - val_loss: 0.7488\n",
      "Epoch 3/5\n",
      "64000/64000 [==============================] - 5s 77us/step - loss: 0.7402 - val_loss: 0.7429\n",
      "Epoch 4/5\n",
      "64000/64000 [==============================] - 5s 78us/step - loss: 0.7315 - val_loss: 0.7399\n",
      "Epoch 5/5\n",
      "64000/64000 [==============================] - 6s 96us/step - loss: 0.7242 - val_loss: 0.7332\n"
     ]
    },
    {
     "data": {
      "image/png": "[encoded data removed]",
      "text/plain": [
       "<Figure size 432x288 with 1 Axes>"
      ]
     },
     "metadata": {
      "needs_background": "light"
     },
     "output_type": "display_data"
    },
    {
     "name": "stdout",
     "output_type": "stream",
     "text": [
      "Deep model test MSE: 0.921\n",
      "Deep model test MAE: 0.731\n"
     ]
    }
   ],
   "source": [
    "from keras.layers import Concatenate, Dense, Dropout\n",
    "\n",
    "# Define inputs\n",
    "user_id_input = Input(shape=[1], name='user')\n",
    "item_id_input = Input(shape=[1], name='item')\n",
    "\n",
    "# Embeddings\n",
    "user_embedding = Embedding(output_dim=embedding_size, input_dim=max_user_id + 1,\n",
    "                           input_length=1, name='user_embedding')(user_id_input)\n",
    "item_embedding = Embedding(output_dim=embedding_size, input_dim=max_item_id + 1,\n",
    "                           input_length=1, name='item_embedding')(item_id_input)\n",
    "\n",
    "# Flatten\n",
    "user_vecs = Flatten()(user_embedding)\n",
    "item_vecs = Flatten()(item_embedding)\n",
    "\n",
    "# Concatenate and add dense layers\n",
    "input_vecs = Concatenate()([user_vecs, item_vecs])\n",
    "input_vecs = Dropout(0.3)(input_vecs)  # Prevent overfitting\n",
    "x = Dense(64, activation='relu')(input_vecs)\n",
    "y = Dense(1, activation='linear')(x)\n",
    "\n",
    "# Build and compile\n",
    "model_deep = Model(inputs=[user_id_input, item_id_input], outputs=y)\n",
    "model_deep.compile(optimizer='adam', loss='mae')\n",
    "\n",
    "# Train\n",
    "history_deep = model_deep.fit([user_id_train, item_id_train], rating_train,\n",
    "                              batch_size=64, epochs=5, validation_split=0.2,\n",
    "                              shuffle=True)\n",
    "\n",
    "# Plot loss\n",
    "plt.plot(history_deep.history['loss'], label='train')\n",
    "plt.plot(history_deep.history['val_loss'], label='validation')\n",
    "plt.ylim(0, 2)\n",
    "plt.legend(loc='best')\n",
    "plt.title('Deep Model Loss')\n",
    "plt.xlabel('Epoch')\n",
    "plt.ylabel('MAE')\n",
    "plt.show()\n",
    "\n",
    "# Evaluate\n",
    "test_preds_deep = model_deep.predict([user_id_test, item_id_test])\n",
    "print(\"Deep model test MSE: %.3f\" % mean_squared_error(test_preds_deep, rating_test))\n",
    "print(\"Deep model test MAE: %.3f\" % mean_absolute_error(test_preds_deep, rating_test))"
   ]
  },
  {
   "cell_type": "markdown",
   "id": "1778d5ec-56cc-417f-8fd8-e226d943964a",
   "metadata": {},
   "source": [
    "# Step 7: Retrieving and Visualizing Embeddings"
   ]
  },
  {
   "cell_type": "code",
   "execution_count": 7,
   "id": "bc40aa5b-4beb-4350-b533-a0d56ed01322",
   "metadata": {},
   "outputs": [
    {
     "name": "stdout",
     "output_type": "stream",
     "text": [
      "Embedding for 'Toy Story (1995)' (item_id=1):\n",
      "[-0.50753736  0.37955856  0.3995729  -0.29282433  0.17885558  0.35944963\n",
      " -0.05620178  0.3263117  -0.4526397   0.3959551   0.41165316 -0.4582024\n",
      "  0.34513637  0.36026075 -0.3131637  -0.41931856 -0.3964191  -0.05493119\n",
      "  0.34755656 -0.40136492  0.48041674  0.17234604 -0.3363692  -0.38675475\n",
      " -0.34582177 -0.43343788  0.32197043  0.5192161  -0.35172063  0.24899098]\n",
      "\n",
      "Movies similar to 'Return of the Jedi':\n",
      "Babe (1995): 0.369\n",
      "GoldenEye (1995): 0.412\n",
      "M*A*S*H (1970): 0.412\n",
      "Contact (1997): 0.414\n",
      "Wild Bunch, The (1969): 0.415\n",
      "Legends of the Fall (1994): 0.420\n",
      "Princess Bride, The (1987): 0.424\n",
      "Dead Poets Society (1989): 0.440\n",
      "Godfather: Part II, The (1974): 0.447\n",
      "Patton (1970): 0.449\n"
     ]
    },
    {
     "data": {
      "image/png": "[encoded data removed]",
      "text/plain": [
       "<Figure size 720x720 with 1 Axes>"
      ]
     },
     "metadata": {
      "needs_background": "light"
     },
     "output_type": "display_data"
    }
   ],
   "source": [
    "# Extract embeddings\n",
    "weights = model.get_weights()\n",
    "user_embeddings = weights[0]\n",
    "item_embeddings = weights[1]\n",
    "\n",
    "# Example embedding\n",
    "print(\"Embedding for 'Toy Story (1995)' (item_id=1):\")\n",
    "print(item_embeddings[1])\n",
    "\n",
    "# Cosine similarity function\n",
    "def cosine(x, y):\n",
    "    x = x / np.linalg.norm(x)\n",
    "    y = y / np.linalg.norm(y)\n",
    "    return np.dot(x, y)\n",
    "\n",
    "# Euclidean distance function\n",
    "def euclidean_distances(x):\n",
    "    return np.linalg.norm(item_embeddings - x, axis=1)\n",
    "\n",
    "# Find similar items\n",
    "def most_similar(idx, top_n=10, mode='euclidean'):\n",
    "    if mode == 'euclidean':\n",
    "        dists = euclidean_distances(item_embeddings[idx])\n",
    "    else:\n",
    "        dists = -np.array([cosine(item_embeddings[idx], emb) for emb in item_embeddings])\n",
    "    top_indices = np.argsort(dists)[1:top_n+1]  # Exclude self\n",
    "    return [(items.iloc[i]['title'], dists[i]) for i in top_indices]\n",
    "\n",
    "# Similar movies to 'Return of the Jedi' (item_id=181)\n",
    "print(\"\\nMovies similar to 'Return of the Jedi':\")\n",
    "for title, dist in most_similar(181, mode=\"euclidean\"):\n",
    "    print(f\"{title}: {dist:.3f}\")\n",
    "\n",
    "# Visualize with t-SNE\n",
    "from sklearn.manifold import TSNE\n",
    "item_tsne = TSNE(perplexity=30).fit_transform(item_embeddings)\n",
    "plt.figure(figsize=(10, 10))\n",
    "plt.scatter(item_tsne[:, 0], item_tsne[:, 1])\n",
    "plt.title(\"t-SNE Visualization of Item Embeddings\")\n",
    "plt.xlabel(\"t-SNE Dimension 1\")\n",
    "plt.ylabel(\"t-SNE Dimension 2\")\n",
    "plt.show()"
   ]
  },
  {
   "cell_type": "markdown",
   "id": "ea06e0f0-6afe-4ec5-9a8d-fdbdc8c07aa5",
   "metadata": {},
   "source": [
    "# Step 8: Making Recommendations"
   ]
  },
  {
   "cell_type": "code",
   "execution_count": 8,
   "id": "4c04de7f-0f5f-4f02-a491-77939a108eeb",
   "metadata": {},
   "outputs": [
    {
     "name": "stdout",
     "output_type": "stream",
     "text": [
      "\n",
      "Recommendations for user 5:\n",
      "User 5 has seen 175 movies, including:\n",
      "   Star Wars (1977)\n",
      "   Fargo (1996)\n",
      "   Return of the Jedi (1983)\n",
      "   Toy Story (1995)\n",
      "   Independence Day (ID4) (1996)\n",
      "Computing ratings for 1507 other movies:\n",
      "    4.4: Schindler's List (1993)\n",
      "    4.4: Usual Suspects, The (1995)\n",
      "    4.4: Casablanca (1942)\n",
      "    4.3: Titanic (1997)\n",
      "    4.3: Prefontaine (1997)\n",
      "    4.3: To Live (Huozhe) (1994)\n",
      "    4.3: Pather Panchali (1955)\n",
      "    4.2: Wallace & Gromit: The Best of Aardman Animation (1996)\n",
      "    4.2: Lawrence of Arabia (1962)\n",
      "    4.2: Shawshank Redemption, The (1994)\n"
     ]
    }
   ],
   "source": [
    "def recommend(user_id, top_n=10):\n",
    "    item_ids = range(1, max_item_id + 1)\n",
    "    seen_mask = all_ratings[\"user_id\"] == user_id\n",
    "    seen_movies = set(all_ratings[seen_mask][\"item_id\"])\n",
    "    item_ids = [i for i in item_ids if i not in seen_movies]\n",
    "\n",
    "    print(f\"User {user_id} has seen {len(seen_movies)} movies, including:\")\n",
    "    for title in all_ratings[seen_mask].nlargest(5, 'popularity')['title']:\n",
    "        print(f\"   {title}\")\n",
    "    print(f\"Computing ratings for {len(item_ids)} other movies:\")\n",
    "\n",
    "    user_ids = np.full(len(item_ids), user_id)\n",
    "    rating_preds = model_deep.predict([user_ids, np.array(item_ids)])\n",
    "\n",
    "    item_preds = list(zip(item_ids, rating_preds[:, 0]))\n",
    "    item_preds.sort(key=lambda x: x[1], reverse=True)\n",
    "    rec_items = item_preds[:top_n]\n",
    "    return [(items.iloc[i-1]['title'], pred) for i, pred in rec_items]  # Adjust for 0-based indexing\n",
    "\n",
    "# Recommend for user 5\n",
    "print(\"\\nRecommendations for user 5:\")\n",
    "for title, pred_rating in recommend(5):\n",
    "    print(f\"    {pred_rating:.1f}: {title}\")"
   ]
  },
  {
   "cell_type": "code",
   "execution_count": null,
   "id": "47066100-5023-4881-b39f-6f943b9c752f",
   "metadata": {},
   "outputs": [],
   "source": []
  }
 ],
 "metadata": {
  "kernelspec": {
   "display_name": "Python 3",
   "language": "python",
   "name": "python3"
  },
  "language_info": {
   "codemirror_mode": {
    "name": "ipython",
    "version": 3
   },
   "file_extension": ".py",
   "mimetype": "text/x-python",
   "name": "python",
   "nbconvert_exporter": "python",
   "pygments_lexer": "ipython3",
   "version": "3.6.8"
  }
 },
 "nbformat": 4,
 "nbformat_minor": 5
}
