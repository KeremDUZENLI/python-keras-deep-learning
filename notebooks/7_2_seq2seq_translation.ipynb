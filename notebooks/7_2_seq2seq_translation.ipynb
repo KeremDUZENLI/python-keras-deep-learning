{
 "cells": [
  {
   "cell_type": "markdown",
   "id": "bd4fa7b4-bc84-41e5-9f68-f2681b0b3785",
   "metadata": {},
   "source": [
    "# **Part 2: Seq2Seq Translation** #"
   ]
  },
  {
   "cell_type": "markdown",
   "id": "d5c7e529-03d4-40b6-94e5-fac04b3b260b",
   "metadata": {},
   "source": [
    "# Step 2.1: Generating the Dataset #"
   ]
  },
  {
   "cell_type": "code",
   "execution_count": 1,
   "id": "cef82355-51df-4876-bca4-1cdc71260d2d",
   "metadata": {},
   "outputs": [],
   "source": [
    "import os.path as op\n",
    "import numpy as np\n",
    "import matplotlib.pyplot as plt\n",
    "from sklearn.model_selection import train_test_split\n",
    "from sklearn.utils import shuffle\n",
    "\n",
    "# Import the french_numbers module from the Files directory\n",
    "import Files.french_numbers as fn\n",
    "\n",
    "# Access special tokens from the module\n",
    "START_VOCAB = fn.START_VOCAB\n",
    "PAD_ID = fn.PAD_ID\n",
    "GO_ID = fn.GO_ID\n",
    "EOS_ID = fn.EOS_ID\n",
    "UNK_ID = fn.UNK_ID\n",
    "\n",
    "# Define special tokens for convenience (optional, since they're accessible via fn)\n",
    "PAD, GO, EOS, UNK = START_VOCAB"
   ]
  },
  {
   "cell_type": "markdown",
   "id": "12c42253-e149-443b-93d3-981d77c965f3",
   "metadata": {},
   "source": [
    "# Step 2.2: Building Vocabularies #"
   ]
  },
  {
   "cell_type": "code",
   "execution_count": 14,
   "id": "50925f24-a46d-47e7-be32-76faa2864283",
   "metadata": {},
   "outputs": [
    {
     "name": "stdout",
     "output_type": "stream",
     "text": [
      "French vocabulary size: 30\n",
      "Numeric vocabulary size: 14\n",
      "Sample French vocab: ['_PAD', '_GO', '_EOS', '_UNK', 'cent', 'cents', 'cinq', 'cinquante', 'deux', 'dix']\n",
      "Sample Numeric vocab: ['_PAD', '_GO', '_EOS', '_UNK', '0', '1', '2', '3', '4', '5']\n"
     ]
    }
   ],
   "source": [
    "def tokenize(sentence, word_level=True):\n",
    "    if word_level:\n",
    "        return sentence.split()\n",
    "    else:\n",
    "        return [sentence[i:i + 1] for i in range(len(sentence))]\n",
    "\n",
    "def build_vocabulary(tokenized_sequences):\n",
    "    rev_vocabulary = START_VOCAB[:]\n",
    "    unique_tokens = set()\n",
    "    for tokens in tokenized_sequences:\n",
    "        unique_tokens.update(tokens)\n",
    "    rev_vocabulary += sorted(unique_tokens)\n",
    "    vocabulary = {}\n",
    "    for i, token in enumerate(rev_vocabulary):\n",
    "        vocabulary[token] = i\n",
    "    return vocabulary, rev_vocabulary\n",
    "\n",
    "# Tokenize sequences\n",
    "tokenized_fr_train = [tokenize(s, word_level=True) for s in fr_train]\n",
    "tokenized_num_train = [tokenize(s, word_level=False) for s in num_train]\n",
    "\n",
    "# Build vocabularies\n",
    "fr_vocab, rev_fr_vocab = build_vocabulary(tokenized_fr_train)\n",
    "num_vocab, rev_num_vocab = build_vocabulary(tokenized_num_train)\n",
    "print(\"French vocabulary size:\", len(fr_vocab))\n",
    "print(\"Numeric vocabulary size:\", len(num_vocab))\n",
    "print(\"Sample French vocab:\", rev_fr_vocab[:10])\n",
    "print(\"Sample Numeric vocab:\", rev_num_vocab[:10])"
   ]
  },
  {
   "cell_type": "markdown",
   "id": "8dbbb2c6-7613-4f6a-8409-b2abead1b514",
   "metadata": {},
   "source": [
    "# Step 2.3: Preparing Input and Output Sequences for Seq2Seq"
   ]
  },
  {
   "cell_type": "code",
   "execution_count": 15,
   "id": "34df3c1a-6e33-4e2d-93a4-1abf98a30c45",
   "metadata": {},
   "outputs": [
    {
     "name": "stdout",
     "output_type": "stream",
     "text": [
      "Input tokens: ['seize', 'soixante', 'cent', 'quatre', '_GO', '4', '7', '6']\n",
      "Output tokens: ['4', '7', '6', '_EOS']\n",
      "Sample input sequence: [ 0  0  0  0  0  0  0  0  0  0  0  0 30 33 14 28  1  8 11 10]\n",
      "Sample output sequence: [ 0  0  0  0  0  0  0  0  0  0  0  0  0  0  0  0  8 11 10  2]\n",
      "Corresponding French phrase: quatre cent soixante seize\n",
      "Corresponding number: 476\n"
     ]
    }
   ],
   "source": [
    "def make_input_output(source_tokens, target_tokens, reverse_source=True):\n",
    "    input_tokens = source_tokens[::-1] if reverse_source else source_tokens\n",
    "    input_tokens += [GO]\n",
    "    input_tokens += target_tokens\n",
    "    output_tokens = target_tokens + [EOS]\n",
    "    return input_tokens, output_tokens\n",
    "\n",
    "# Test the function\n",
    "input_tokens, output_tokens = make_input_output(\n",
    "    ['quatre', 'cent', 'soixante', 'seize'], ['4', '7', '6'])\n",
    "print(\"Input tokens:\", input_tokens)\n",
    "print(\"Output tokens:\", output_tokens)\n",
    "\n",
    "# Vectorize the corpus\n",
    "all_tokenized_sequences = tokenized_fr_train + tokenized_num_train\n",
    "shared_vocab, rev_shared_vocab = build_vocabulary(all_tokenized_sequences)\n",
    "\n",
    "max_length = 20\n",
    "\n",
    "def vectorize_corpus(source_sequences, target_sequences, shared_vocab,\n",
    "                     word_level_source=True, word_level_target=True, max_length=max_length):\n",
    "    assert len(source_sequences) == len(target_sequences)\n",
    "    n_sequences = len(source_sequences)\n",
    "    source_ids = np.empty(shape=(n_sequences, max_length), dtype=np.int32)\n",
    "    source_ids.fill(shared_vocab[PAD])\n",
    "    target_ids = np.empty(shape=(n_sequences, max_length), dtype=np.int32)\n",
    "    target_ids.fill(shared_vocab[PAD])\n",
    "    for i, (source_seq, target_seq) in enumerate(zip(source_sequences, target_sequences)):\n",
    "        source_tokens = tokenize(source_seq, word_level=word_level_source)\n",
    "        target_tokens = tokenize(target_seq, word_level=word_level_target)\n",
    "        in_tokens, out_tokens = make_input_output(source_tokens, target_tokens)\n",
    "        in_token_ids = [shared_vocab.get(t, UNK_ID) for t in in_tokens]\n",
    "        source_ids[i, -len(in_token_ids):] = in_token_ids\n",
    "        out_token_ids = [shared_vocab.get(t, UNK_ID) for t in out_tokens]\n",
    "        target_ids[i, -len(out_token_ids):] = out_token_ids\n",
    "    return source_ids, target_ids\n",
    "\n",
    "X_train, Y_train = vectorize_corpus(fr_train, num_train, shared_vocab, word_level_target=False)\n",
    "X_val, Y_val = vectorize_corpus(fr_val, num_val, shared_vocab, word_level_target=False)\n",
    "X_test, Y_test = vectorize_corpus(fr_test, num_test, shared_vocab, word_level_target=False)\n",
    "\n",
    "print(\"Sample input sequence:\", X_train[5])\n",
    "print(\"Sample output sequence:\", Y_train[5])\n",
    "print(\"Corresponding French phrase:\", fr_train[5])\n",
    "print(\"Corresponding number:\", num_train[5])"
   ]
  },
  {
   "cell_type": "markdown",
   "id": "76bbe5c3-590d-4f71-9218-5aa421416e62",
   "metadata": {},
   "source": [
    "# Step 2.4: Building the Seq2Seq Model"
   ]
  },
  {
   "cell_type": "code",
   "execution_count": 16,
   "id": "5c25c524-a612-4ee0-9096-a4cfaba361e9",
   "metadata": {},
   "outputs": [
    {
     "name": "stdout",
     "output_type": "stream",
     "text": [
      "Model: \"sequential_2\"\n",
      "_________________________________________________________________\n",
      "Layer (type)                 Output Shape              Param #   \n",
      "=================================================================\n",
      "embedding_2 (Embedding)      (None, 20, 32)            1280      \n",
      "_________________________________________________________________\n",
      "dropout_2 (Dropout)          (None, 20, 32)            0         \n",
      "_________________________________________________________________\n",
      "gru_2 (GRU)                  (None, 20, 64)            18624     \n",
      "_________________________________________________________________\n",
      "dense_2 (Dense)              (None, 20, 40)            2600      \n",
      "=================================================================\n",
      "Total params: 22,504\n",
      "Trainable params: 22,504\n",
      "Non-trainable params: 0\n",
      "_________________________________________________________________\n",
      "None\n",
      "Train on 10000 samples, validate on 5000 samples\n",
      "Epoch 1/15\n",
      " - 3s - loss: 1.0746 - val_loss: 0.6034\n",
      "\n",
      "Epoch 00001: val_loss improved from inf to 0.60344, saving model to Files/simple_seq2seq_checkpoint.h5\n",
      "Epoch 2/15\n",
      " - 3s - loss: 0.5804 - val_loss: 0.5649\n",
      "\n",
      "Epoch 00002: val_loss improved from 0.60344 to 0.56486, saving model to Files/simple_seq2seq_checkpoint.h5\n",
      "Epoch 3/15\n",
      " - 3s - loss: 0.5584 - val_loss: 0.5560\n",
      "\n",
      "Epoch 00003: val_loss improved from 0.56486 to 0.55597, saving model to Files/simple_seq2seq_checkpoint.h5\n",
      "Epoch 4/15\n",
      " - 3s - loss: 0.5486 - val_loss: 0.5375\n",
      "\n",
      "Epoch 00004: val_loss improved from 0.55597 to 0.53752, saving model to Files/simple_seq2seq_checkpoint.h5\n",
      "Epoch 5/15\n",
      " - 3s - loss: 0.5340 - val_loss: 0.5254\n",
      "\n",
      "Epoch 00005: val_loss improved from 0.53752 to 0.52544, saving model to Files/simple_seq2seq_checkpoint.h5\n",
      "Epoch 6/15\n",
      " - 3s - loss: 0.5053 - val_loss: 0.4789\n",
      "\n",
      "Epoch 00006: val_loss improved from 0.52544 to 0.47889, saving model to Files/simple_seq2seq_checkpoint.h5\n",
      "Epoch 7/15\n",
      " - 3s - loss: 0.4604 - val_loss: 0.4313\n",
      "\n",
      "Epoch 00007: val_loss improved from 0.47889 to 0.43133, saving model to Files/simple_seq2seq_checkpoint.h5\n",
      "Epoch 8/15\n",
      " - 3s - loss: 0.4025 - val_loss: 0.3682\n",
      "\n",
      "Epoch 00008: val_loss improved from 0.43133 to 0.36824, saving model to Files/simple_seq2seq_checkpoint.h5\n",
      "Epoch 9/15\n",
      " - 3s - loss: 0.3594 - val_loss: 0.3261\n",
      "\n",
      "Epoch 00009: val_loss improved from 0.36824 to 0.32615, saving model to Files/simple_seq2seq_checkpoint.h5\n",
      "Epoch 10/15\n",
      " - 3s - loss: 0.3300 - val_loss: 0.3020\n",
      "\n",
      "Epoch 00010: val_loss improved from 0.32615 to 0.30205, saving model to Files/simple_seq2seq_checkpoint.h5\n",
      "Epoch 11/15\n",
      " - 3s - loss: 0.3066 - val_loss: 0.2762\n",
      "\n",
      "Epoch 00011: val_loss improved from 0.30205 to 0.27620, saving model to Files/simple_seq2seq_checkpoint.h5\n",
      "Epoch 12/15\n",
      " - 3s - loss: 0.2881 - val_loss: 0.2572\n",
      "\n",
      "Epoch 00012: val_loss improved from 0.27620 to 0.25725, saving model to Files/simple_seq2seq_checkpoint.h5\n",
      "Epoch 13/15\n",
      " - 3s - loss: 0.2717 - val_loss: 0.2435\n",
      "\n",
      "Epoch 00013: val_loss improved from 0.25725 to 0.24351, saving model to Files/simple_seq2seq_checkpoint.h5\n",
      "Epoch 14/15\n",
      " - 3s - loss: 0.2567 - val_loss: 0.2298\n",
      "\n",
      "Epoch 00014: val_loss improved from 0.24351 to 0.22978, saving model to Files/simple_seq2seq_checkpoint.h5\n",
      "Epoch 15/15\n",
      " - 3s - loss: 0.2446 - val_loss: 0.2132\n",
      "\n",
      "Epoch 00015: val_loss improved from 0.22978 to 0.21323, saving model to Files/simple_seq2seq_checkpoint.h5\n"
     ]
    },
    {
     "data": {
      "image/png": "[encoded data removed]",
      "text/plain": [
       "<Figure size 864x432 with 1 Axes>"
      ]
     },
     "metadata": {
      "needs_background": "light"
     },
     "output_type": "display_data"
    }
   ],
   "source": [
    "from keras.models import Sequential\n",
    "from keras.layers import Embedding, Dropout, GRU, Dense\n",
    "\n",
    "\n",
    "# Build the Seq2Seq model\n",
    "vocab_size = len(shared_vocab)\n",
    "embedding_dim = 32\n",
    "gru_units = 64\n",
    "\n",
    "simple_seq2seq = Sequential([\n",
    "    Embedding(vocab_size, embedding_dim, input_length=max_length),\n",
    "    Dropout(0.2),\n",
    "    GRU(gru_units, return_sequences=True),\n",
    "    Dense(vocab_size, activation='softmax')\n",
    "])\n",
    "\n",
    "simple_seq2seq.compile(loss='sparse_categorical_crossentropy', optimizer='adam')\n",
    "print(simple_seq2seq.summary())\n",
    "\n",
    "# Train the model with a checkpoint\n",
    "from keras.callbacks import ModelCheckpoint\n",
    "\n",
    "best_model_fname = \"Files/simple_seq2seq_checkpoint.h5\"\n",
    "best_model_cb = ModelCheckpoint(best_model_fname, monitor='val_loss', save_best_only=True, verbose=1)\n",
    "\n",
    "history = simple_seq2seq.fit(X_train, np.expand_dims(Y_train, -1),\n",
    "                             validation_data=(X_val, np.expand_dims(Y_val, -1)),\n",
    "                             epochs=15, batch_size=32, verbose=2, callbacks=[best_model_cb])\n",
    "\n",
    "# Plot training history\n",
    "plt.figure(figsize=(12, 6))\n",
    "plt.plot(history.history['loss'], label='train')\n",
    "plt.plot(history.history['val_loss'], label='validation')\n",
    "plt.ylabel('Negative Log Likelihood')\n",
    "plt.xlabel('Epoch')\n",
    "plt.title('Convergence Plot for Simple Seq2Seq')\n",
    "plt.legend()\n",
    "plt.show()\n",
    "\n",
    "# Load the best model\n",
    "from keras.models import load_model\n",
    "simple_seq2seq = load_model(best_model_fname, compile=False)"
   ]
  },
  {
   "cell_type": "code",
   "execution_count": null,
   "id": "567fedf4-cdf6-4d12-8f7c-9c8aa512366b",
   "metadata": {},
   "outputs": [],
   "source": [
    "# AttributeError: 'str' object has no attribute 'decode'\n",
    "# Solution:\n",
    "\n",
    "pip install h5py==2.10.0"
   ]
  },
  {
   "cell_type": "markdown",
   "id": "933e3803-d295-43c7-8b5e-b521f5165cbf",
   "metadata": {},
   "source": [
    "# Step 2.5: Decoding and Evaluating the Seq2Seq Model"
   ]
  },
  {
   "cell_type": "code",
   "execution_count": 29,
   "id": "ca277a05-9a33-41c1-9b4f-dbdd8f40d2c0",
   "metadata": {},
   "outputs": [
    {
     "name": "stdout",
     "output_type": "stream",
     "text": [
      "un                                       110\n",
      "deux                                     200\n",
      "trois                                    300\n",
      "onze                                     1100\n",
      "quinze                                   51\n",
      "cent trente deux                         132\n",
      "cent mille douze                         1002\n",
      "sept mille huit cent cinquante neuf      78004\n",
      "vingt et un                              20\n",
      "vingt quatre                             24\n",
      "quatre vingts                            80\n",
      "quatre vingt onze mille                  80001\n",
      "quatre vingt onze mille deux cent deux   4262\n",
      "\n",
      "___DECODING___\n",
      "\n",
      "Decoding 0/300\n",
      "Decoding 100/300\n",
      "Decoding 200/300\n",
      "Phrase-level test accuracy: 0.043333333333333335\n",
      "\n",
      "Decoding 0/300\n",
      "Decoding 100/300\n",
      "Decoding 200/300\n",
      "Phrase-level train accuracy: 0.04666666666666667\n",
      "\n"
     ]
    }
   ],
   "source": [
    "def greedy_translate(model, source_sequence, shared_vocab, rev_shared_vocab,\n",
    "                     word_level_source=True, word_level_target=True):\n",
    "    source_tokens = tokenize(source_sequence, word_level=word_level_source)\n",
    "    input_ids = [shared_vocab.get(t, UNK_ID) for t in source_tokens[::-1]]\n",
    "    input_ids += [shared_vocab[GO]]\n",
    "    input_array = np.empty(shape=(1, model.input_shape[1]), dtype=np.int32)\n",
    "    decoded_tokens = []\n",
    "    while len(input_ids) <= max_length:\n",
    "        input_array.fill(shared_vocab[PAD])\n",
    "        input_array[0, -len(input_ids):] = input_ids\n",
    "        next_token_id = model.predict(input_array, verbose=0)[0, -1].argmax()\n",
    "        if next_token_id == shared_vocab[EOS]:\n",
    "            break\n",
    "        decoded_tokens.append(rev_shared_vocab[next_token_id])\n",
    "        input_ids.append(next_token_id)\n",
    "    separator = \" \" if word_level_target else \"\"\n",
    "    return separator.join(decoded_tokens)\n",
    "\n",
    "# Test some translations\n",
    "phrases = [\n",
    "    \"un\", \"deux\", \"trois\", \"onze\", \"quinze\", \"cent trente deux\",\n",
    "    \"cent mille douze\", \"sept mille huit cent cinquante neuf\",\n",
    "    \"vingt et un\", \"vingt quatre\", \"quatre vingts\",\n",
    "    \"quatre vingt onze mille\", \"quatre vingt onze mille deux cent deux\"\n",
    "]\n",
    "for phrase in phrases:\n",
    "    translation = greedy_translate(simple_seq2seq, phrase, shared_vocab, rev_shared_vocab, word_level_target=False)\n",
    "    print(phrase.ljust(40), translation)\n",
    "\n",
    "print(\"\\n___DECODING___\\n\")\n",
    "\n",
    "# Evaluate phrase-level accuracy\n",
    "def phrase_accuracy(model, num_sequences, fr_sequences, n_samples=300, decoder_func=greedy_translate):\n",
    "    correct = []\n",
    "    n_samples = min(n_samples, len(num_sequences))\n",
    "    for i, (num_seq, fr_seq) in enumerate(zip(num_sequences[:n_samples], fr_sequences[:n_samples])):\n",
    "        if i % 100 == 0:\n",
    "            print(f\"Decoding {i}/{n_samples}\")\n",
    "        predicted_seq = decoder_func(simple_seq2seq, fr_seq, shared_vocab, rev_shared_vocab, word_level_target=False)\n",
    "        correct.append(num_seq == predicted_seq)\n",
    "    return np.mean(correct)\n",
    "\n",
    "print(f\"Phrase-level test accuracy: {phrase_accuracy(simple_seq2seq, num_test, fr_test)}\\n\")\n",
    "print(f\"Phrase-level train accuracy: {phrase_accuracy(simple_seq2seq, num_train, fr_train)}\\n\")"
   ]
  },
  {
   "cell_type": "code",
   "execution_count": null,
   "id": "dd5f64e5-892f-4881-a500-807bd1b8d042",
   "metadata": {},
   "outputs": [],
   "source": []
  }
 ],
 "metadata": {
  "kernelspec": {
   "display_name": "Python 3",
   "language": "python",
   "name": "python3"
  },
  "language_info": {
   "codemirror_mode": {
    "name": "ipython",
    "version": 3
   },
   "file_extension": ".py",
   "mimetype": "text/x-python",
   "name": "python",
   "nbconvert_exporter": "python",
   "pygments_lexer": "ipython3",
   "version": "3.6.8"
  }
 },
 "nbformat": 4,
 "nbformat_minor": 5
}
