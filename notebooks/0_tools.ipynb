{
 "cells": [
  {
   "cell_type": "markdown",
   "id": "b430c817-dc17-4ad9-9862-3546fb82f465",
   "metadata": {},
   "source": [
    "# Project Tree Exporter"
   ]
  },
  {
   "cell_type": "code",
   "execution_count": null,
   "id": "51304716-fa99-4212-876b-241b1271267b",
   "metadata": {},
   "outputs": [],
   "source": [
    "import os\n",
    "\n",
    "def print_tree(startpath, indent=\"\"):\n",
    "    for item in os.listdir(startpath):\n",
    "        path = os.path.join(startpath, item)\n",
    "        if os.path.isdir(path):\n",
    "            print(f\"{indent}📂 {item}\")\n",
    "            print_tree(path, indent + \"  \")\n",
    "        else:\n",
    "            print(f\"{indent}📄 {item}\")\n",
    "\n",
    "print_tree(\".\")  # Change \".\" to your project directory if needed."
   ]
  }
 ],
 "metadata": {
  "kernelspec": {
   "display_name": "Python 3",
   "language": "python",
   "name": "python3"
  },
  "language_info": {
   "codemirror_mode": {
    "name": "ipython",
    "version": 3
   },
   "file_extension": ".py",
   "mimetype": "text/x-python",
   "name": "python",
   "nbconvert_exporter": "python",
   "pygments_lexer": "ipython3",
   "version": "3.6.8"
  }
 },
 "nbformat": 4,
 "nbformat_minor": 5
}
